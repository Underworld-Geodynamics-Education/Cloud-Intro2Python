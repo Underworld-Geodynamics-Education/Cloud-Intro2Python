{
  "cells": [
    {
      "cell_type": "markdown",
      "source": [
        "## Citation data directly from CrossRef \n",
        "\nUsing the `habanero` module to access references from the CrossRef system. The module also allows us to filter and format the results, obtain citation counts and so forth. "
      ],
      "metadata": {
        "collapsed": false,
        "outputHidden": false,
        "inputHidden": false
      }
    },
    {
      "cell_type": "code",
      "source": [
        "import habanero"
      ],
      "outputs": [],
      "execution_count": 1,
      "metadata": {}
    },
    {
      "cell_type": "code",
      "source": [
        "from habanero import Crossref\n",
        "cr = Crossref()"
      ],
      "outputs": [],
      "execution_count": 2,
      "metadata": {}
    },
    {
      "cell_type": "markdown",
      "source": [
        "## Query the database with sorting / filtering\n",
        "\nSee [CrossRef docs](https://github.com/CrossRef/rest-api-doc#queries) for further information on sort keys and filters"
      ],
      "metadata": {}
    },
    {
      "cell_type": "code",
      "source": [
        "res1 = cr.works(query = \"subduction\", \n",
        "                query_author = 'moresi', sort=\"created\", )\n",
        "auths = [ x['author'][0]['family'] for x in res['message']['items'] ]\n"
      ],
      "outputs": [],
      "execution_count": null,
      "metadata": {}
    },
    {
      "cell_type": "code",
      "source": [
        "papers = res1['message']['items']"
      ],
      "outputs": [],
      "execution_count": 67,
      "metadata": {
        "collapsed": false,
        "outputHidden": false,
        "inputHidden": false
      }
    },
    {
      "cell_type": "code",
      "source": [
        "print(papers[0][\"DOI\"])\n",
        "print(papers[0][\"title\"][0])\n",
        "print(papers[0][\"created\"][\"date-parts\"][0][0])\n",
        "papers[0].keys()"
      ],
      "outputs": [
        {
          "output_type": "stream",
          "name": "stdout",
          "text": [
            "10.5194/se-2019-11\n",
            "Improving subduction interface implementation in dynamic numerical models\n",
            "2019\n"
          ]
        },
        {
          "output_type": "execute_result",
          "execution_count": 68,
          "data": {
            "text/plain": [
              "dict_keys(['indexed', 'reference-count', 'publisher', 'license', 'funder', 'content-domain', 'short-container-title', 'abstract', 'DOI', 'type', 'created', 'page', 'source', 'is-referenced-by-count', 'title', 'prefix', 'author', 'member', 'published-online', 'container-title', 'language', 'link', 'deposited', 'score', 'issued', 'references-count', 'URL', 'ISSN', 'issn-type'])"
            ]
          },
          "metadata": {}
        }
      ],
      "execution_count": 68,
      "metadata": {
        "collapsed": false,
        "outputHidden": false,
        "inputHidden": false
      }
    },
    {
      "cell_type": "code",
      "source": [
        "for paper in papers:\n",
        "    print(\"{} {:30}  {:.40}...\".format(paper[\"created\"][\"date-parts\"][0][0],paper[\"DOI\"], paper[\"title\"][0]) )"
      ],
      "outputs": [
        {
          "output_type": "stream",
          "name": "stdout",
          "text": [
            "2019 10.5194/se-2019-11              Improving subduction interface implement...\n",
            "2018 10.1130/abs/2018am-324709       THE EVOLUTION OF CONTINENTAL COLLISION C...\n",
            "2018 10.5194/cp-14-857-2018          The influence of carbonate platform inte...\n",
            "2014 10.1002/2014jb011163            Overriding plate controls on subduction ...\n",
            "2013 10.1007/978-94-007-5968-8_11    Instabilities across the Scales: Simple ...\n",
            "2013 10.1071/aseg2006ab105           Effects of a buoyant aseismic ridge on a...\n",
            "2013 10.1002/jgrb.50173              A new driving mechanism for backarc exte...\n",
            "2012 10.1130/g32909.1                The influence of a mantle plume head on ...\n",
            "2011 10.1029/2011jb008535            Influence of lateral slab edge distance ...\n",
            "2010 10.1038/ngeo725                 India–Asia convergence driven by the sub...\n",
            "2009 10.1016/j.tecto.2009.08.021     Three-dimensional numerical models of th...\n",
            "2009 10.1016/j.tecto.2009.08.020     Upper plate controls on deep subduction,...\n",
            "2008 10.1016/j.pepi.2008.08.011      A model comparison study of large-scale ...\n",
            "2007 10.1016/j.epsl.2007.04.056      Episodic Precambrian subduction...\n",
            "2007 10.1038/nature05615             Evolution and diversity of subduction zo...\n",
            "2006 10.1016/j.gca.2006.06.1134      Evolution and dynamics of subduction zon...\n",
            "2006 10.1016/j.gca.2006.06.922       The nature of subduction on the early Ea...\n",
            "2006 10.1029/2005gc001056            Influence of trench width on subduction ...\n"
          ]
        }
      ],
      "execution_count": 69,
      "metadata": {
        "collapsed": false,
        "outputHidden": false,
        "inputHidden": false
      }
    },
    {
      "cell_type": "markdown",
      "source": [
        "## Generate citation entries for the results\n",
        "\nThe `cn` (content negotiation) module will format the search into bibliography formats ... including text for printing. "
      ],
      "metadata": {}
    },
    {
      "cell_type": "code",
      "source": [
        "from habanero import cn\n",
        "form1a = cn.content_negotiation(ids = '10.1038/nature05615')\n",
        "form1b = cn.content_negotiation(ids = '10.1038/nature05615', format = \"citeproc-json\")\n",
        "form1c = cn.content_negotiation(ids = \"10.1038/nature05615\", format = \"rdf-xml\")\n",
        "form1d = cn.content_negotiation(ids = \"10.1038/nature05615\", format = \"crossref-xml\")\n",
        "form1e = cn.content_negotiation(ids = \"10.1038/nature05615\", format = \"text\")\n",
        "form1f = cn.content_negotiation(ids = \"10.1038/nature05615\", format = \"bibentry\")"
      ],
      "outputs": [],
      "execution_count": 31,
      "metadata": {
        "collapsed": false,
        "outputHidden": false,
        "inputHidden": false
      }
    },
    {
      "cell_type": "code",
      "source": [
        "print(form1f) # This one can be used to build a bibliography\n",
        "print(form1e) # This one can be printed"
      ],
      "outputs": [
        {
          "output_type": "stream",
          "name": "stdout",
          "text": [
            "@article{Schellart_2007,\n",
            "\tdoi = {10.1038/nature05615},\n",
            "\turl = {https://doi.org/10.1038%2Fnature05615},\n",
            "\tyear = 2007,\n",
            "\tmonth = {mar},\n",
            "\tpublisher = {Springer Nature},\n",
            "\tvolume = {446},\n",
            "\tnumber = {7133},\n",
            "\tpages = {308--311},\n",
            "\tauthor = {W. P. Schellart and J. Freeman and D. R. Stegman and L. Moresi and D. May},\n",
            "\ttitle = {Evolution and diversity of subduction zones controlled by slab width},\n",
            "\tjournal = {Nature}\n",
            "}\n",
            "Schellart, W. P., Freeman, J., Stegman, D. R., Moresi, L., & May, D. (2007). Evolution and diversity of subduction zones controlled by slab width. Nature, 446(7133), 308–311. doi:10.1038/nature05615\n",
            "\n"
          ]
        }
      ],
      "execution_count": 32,
      "metadata": {
        "collapsed": false,
        "outputHidden": false,
        "inputHidden": false
      }
    },
    {
      "cell_type": "markdown",
      "source": [
        "## Formatted text styles"
      ],
      "metadata": {}
    },
    {
      "cell_type": "code",
      "source": [
        "v1 = cn.content_negotiation(ids = \"10.1038/nature05615\", format = \"text\", style = \"apa\")\n",
        "v2 = cn.content_negotiation(ids = \"10.1038/nature05615\", format = \"text\", style = \"harvard3\")\n",
        "v3 = cn.content_negotiation(ids = \"10.1038/nature05615\", format = \"text\", style = \"elsevier-harvard\")\n",
        "\n",
        "print(v1)\n",
        "print(v2)\n",
        "print(v3)\n",
        "\n",
        "# For a full list\n",
        "# print(cn.csl_styles())"
      ],
      "outputs": [
        {
          "output_type": "stream",
          "name": "stdout",
          "text": [
            "Schellart, W. P., Freeman, J., Stegman, D. R., Moresi, L., & May, D. (2007). Evolution and diversity of subduction zones controlled by slab width. Nature, 446(7133), 308–311. doi:10.1038/nature05615\n",
            "\n",
            "Schellart, W.P. et al., 2007. Evolution and diversity of subduction zones controlled by slab width. Nature, 446(7133), pp.308–311. Available at: http://dx.doi.org/10.1038/nature05615.\n",
            "\n",
            "Schellart, W.P., Freeman, J., Stegman, D.R., Moresi, L., May, D., 2007. Evolution and diversity of subduction zones controlled by slab width. Nature 446, 308–311.\n",
            "\n"
          ]
        }
      ],
      "execution_count": 72,
      "metadata": {
        "collapsed": false,
        "outputHidden": false,
        "inputHidden": false
      }
    },
    {
      "cell_type": "markdown",
      "source": [
        "## Citation counting\n",
        "\n",
        "You can use the `counts` module to obtain citation data\n",
        "\n"
      ],
      "metadata": {}
    },
    {
      "cell_type": "code",
      "source": [
        "from habanero import counts\n",
        "times_cited = counts.citation_count(doi = \"10.1038/nature05615\")\n",
        "print(times_cited)"
      ],
      "outputs": [
        {
          "output_type": "stream",
          "name": "stdout",
          "text": [
            "327\n"
          ]
        }
      ],
      "execution_count": 52,
      "metadata": {
        "collapsed": false,
        "outputHidden": false,
        "inputHidden": false
      }
    },
    {
      "cell_type": "code",
      "source": [
        "cr.filter_details()"
      ],
      "outputs": [
        {
          "output_type": "execute_result",
          "execution_count": 75,
          "data": {
            "text/plain": [
              "{'has_funder': {'possible_values': None,\n",
              "  'description': 'metadata which includes one or more funder entry'},\n",
              " 'funder': {'possible_values': '{funder_id}',\n",
              "  'description': 'metadata which include the {funder_id} in FundRef data'},\n",
              " 'location': {'possible_values': '{country_name}',\n",
              "  'description': 'funder records where location = {country name}. Only works on /funders route'},\n",
              " 'prefix': {'possible_values': '{owner_prefix}',\n",
              "  'description': \"metadata belonging to a DOI owner prefix {owner_prefix} (e.g. '10.1016' )\"},\n",
              " 'member': {'possible_values': '{member_id}',\n",
              "  'description': 'metadata belonging to a CrossRef member'},\n",
              " 'from_index_date': {'possible_values': '{date}',\n",
              "  'description': 'metadata indexed since (inclusive) {date}'},\n",
              " 'until_index_date': {'possible_values': '{date}',\n",
              "  'description': 'metadata indexed before (inclusive) {date}'},\n",
              " 'from_deposit_date': {'possible_values': '{date}',\n",
              "  'description': 'metadata last (re)deposited since (inclusive) {date}'},\n",
              " 'until_deposit_date': {'possible_values': '{date}',\n",
              "  'description': 'metadata last (re)deposited before (inclusive) {date}'},\n",
              " 'from_update_date': {'possible_values': '{date}',\n",
              "  'description': \"Metadata updated since (inclusive) {date} Currently the same as 'from_deposit_date'\"},\n",
              " 'until_update_date': {'possible_values': '{date}',\n",
              "  'description': \"Metadata updated before (inclusive) {date} Currently the same as 'until_deposit_date'\"},\n",
              " 'from_created_date': {'possible_values': '{date}',\n",
              "  'description': 'metadata first deposited since (inclusive) {date}'},\n",
              " 'until_created_date': {'possible_values': '{date}',\n",
              "  'description': 'metadata first deposited before (inclusive) {date}'},\n",
              " 'from_pub_date': {'possible_values': '{date}',\n",
              "  'description': 'metadata where published date is since (inclusive) {date}'},\n",
              " 'until_pub_date': {'possible_values': '{date}',\n",
              "  'description': 'metadata where published date is before (inclusive)  {date}'},\n",
              " 'from_online_pub_date': {'possible_values': '{date}',\n",
              "  'description': 'metadata where online published date is since (inclusive) {date}'},\n",
              " 'until_online_pub_date': {'possible_values': '{date}',\n",
              "  'description': 'metadata where online published date is before (inclusive) {date}'},\n",
              " 'from_print_pub_date': {'possible_values': '{date}',\n",
              "  'description': 'metadata where print published date is since (inclusive) {date}'},\n",
              " 'until_print_pub_date': {'possible_values': '{date}',\n",
              "  'description': 'metadata where print published date is before (inclusive) {date}'},\n",
              " 'from_posted_date': {'possible_values': '{date}',\n",
              "  'description': 'metadata where posted date is since (inclusive) {date}'},\n",
              " 'until_posted_date': {'possible_values': '{date}',\n",
              "  'description': 'metadata where posted date is before (inclusive) {date}'},\n",
              " 'from_accepted_date': {'possible_values': '{date}',\n",
              "  'description': 'metadata where accepted date is since (inclusive) {date}'},\n",
              " 'until_accepted_date': {'possible_values': '{date}',\n",
              "  'description': 'metadata where accepted date is before (inclusive) {date}'},\n",
              " 'has_license': {'possible_values': None,\n",
              "  'description': \"metadata that includes any '<license_ref>' elements\"},\n",
              " 'license_url': {'possible_values': '{url}',\n",
              "  'description': \"metadata where '<license_ref>' value equals {url}\"},\n",
              " 'license_version': {'possible_values': '{string}',\n",
              "  'description': \"metadata where the '<license_ref>''s 'applies_to' attribute  is '{string}'\"},\n",
              " 'license_delay': {'possible_values': '{integer}',\n",
              "  'description': \"metadata where difference between publication date and the '<license_ref>''s 'start_date' attribute is <= '{integer}' (in days\"},\n",
              " 'has_full_text': {'possible_values': None,\n",
              "  'description': \"metadata that includes any full text '<resource>' elements_\"},\n",
              " 'full_text_version': {'possible_values': '{string}',\n",
              "  'description': \"metadata where '<resource>' element's 'content_version' attribute is '{string}'\"},\n",
              " 'full_text_type': {'possible_values': '{mime_type}',\n",
              "  'description': \"metadata where '<resource>' element's 'content_type' attribute is '{mime_type}' (e.g. 'application/pdf')\"},\n",
              " 'full_text_application': {'possible_values': '{string}',\n",
              "  'description': 'metadata where <resource> link has one of the following intended applications: text-mining, similarity-checking or unspecified'},\n",
              " 'has_references': {'possible_values': None,\n",
              "  'description': 'metadata for works that have a list of references'},\n",
              " 'has_archive': {'possible_values': None,\n",
              "  'description': 'metadata which include name of archive partner'},\n",
              " 'archive': {'possible_values': '{string}',\n",
              "  'description': \"metadata which where value of archive partner is '{string}'\"},\n",
              " 'has_orcid': {'possible_values': None,\n",
              "  'description': 'metadata which includes one or more ORCIDs'},\n",
              " 'has_authenticated_orcid': {'possible_values': None,\n",
              "  'description': 'metadata which includes one or more ORCIDs where the depositing publisher claims to have witness the ORCID owner authenticate with ORCID'},\n",
              " 'orcid': {'possible_values': '{orcid}',\n",
              "  'description': \"metadata where '<orcid>' element's value = '{orcid}'\"},\n",
              " 'issn': {'possible_values': '{issn}',\n",
              "  'description': \"metadata where record has an ISSN = '{issn}' Format is 'xxxx_xxxx'.\"},\n",
              " 'type': {'possible_values': None,\n",
              "  'description': 'metadata for records with type matching a type identifier (e.g. journal-article)'},\n",
              " 'directory': {'possible_values': '{directory}',\n",
              "  'description': \"metadata records whose article or serial are mentioned in the given '{directory}'. Currently the only supported value is 'doaj'\"},\n",
              " 'doi': {'possible_values': '{doi}',\n",
              "  'description': \"metadata describing the DOI '{doi}'\"},\n",
              " 'updates': {'possible_values': '{doi}',\n",
              "  'description': \"metadata for records that represent editorial updates to the DOI '{doi}'\"},\n",
              " 'is_update': {'possible_values': None,\n",
              "  'description': 'metadata for records that represent editorial updates'},\n",
              " 'has_update_policy': {'possible_values': None,\n",
              "  'description': 'metadata for records that include a link to an editorial update policy'},\n",
              " 'container_title': {'possible_values': None,\n",
              "  'description': 'metadata for records with a publication title exactly with an exact match'},\n",
              " 'category_name': {'possible_values': None,\n",
              "  'description': 'metadata for records with an exact matching category label'},\n",
              " 'type_name': {'possible_values': None,\n",
              "  'description': 'metadata for records with an exacty matching type label'},\n",
              " 'award_number': {'possible_values': '{award_number}',\n",
              "  'description': \"metadata for records with a matching award nunber_ Optionally combine with 'award_funder'\"},\n",
              " 'award_funder': {'possible_values': '{funder doi or id}',\n",
              "  'description': \"metadata for records with an award with matching funder. Optionally combine with 'award_number'\"},\n",
              " 'has_assertion': {'possible_values': None,\n",
              "  'description': 'metadata for records with any assertions'},\n",
              " 'assertion_group': {'possible_values': None,\n",
              "  'description': 'metadata for records with an assertion in a particular group'},\n",
              " 'assertion': {'possible_values': None,\n",
              "  'description': 'metadata for records with a particular named assertion'},\n",
              " 'has_affiliation': {'possible_values': None,\n",
              "  'description': 'metadata for records that have any affiliation information'},\n",
              " 'alternative_id': {'possible_values': None,\n",
              "  'description': 'metadata for records with the given alternative ID, which may be a publisher_specific ID, or any other identifier a publisher may have provided'},\n",
              " 'article_number': {'possible_values': None,\n",
              "  'description': 'metadata for records with a given article number'},\n",
              " 'has_abstract': {'possible_values': None,\n",
              "  'description': 'metadata for records which include an abstract'},\n",
              " 'has_clinical_trial_number': {'possible_values': None,\n",
              "  'description': 'metadata for records which include a clinical trial number'},\n",
              " 'content_domain': {'possible_values': None,\n",
              "  'description': 'metadata where the publisher records a particular domain name as the location Crossmark content will appear'},\n",
              " 'has_content_domain': {'possible_values': None,\n",
              "  'description': 'metadata where the publisher records a domain name location for Crossmark content'},\n",
              " 'has_crossmark_restriction': {'possible_values': None,\n",
              "  'description': 'metadata where the publisher restricts Crossmark usage to content domains'},\n",
              " 'has_relation': {'possible_values': None,\n",
              "  'description': 'metadata for records that either assert or are the object of a relation'},\n",
              " 'relation_type': {'possible_values': None,\n",
              "  'description': 'One of the relation types from the Crossref relations schema (e.g. is-referenced-by, is-parent-of, is-preprint-of)'},\n",
              " 'relation_object': {'possible_values': None,\n",
              "  'description': 'Relations where the object identifier matches the identifier provided'},\n",
              " 'relation_object_type': {'possible_values': None,\n",
              "  'description': 'One of the identifier types from the Crossref relations schema (e.g. doi, issn)'},\n",
              " 'public_references': {'possible_values': None,\n",
              "  'description': 'metadata where publishers allow references to be distributed publically'},\n",
              " 'publisher_name': {'possible_values': None,\n",
              "  'description': 'metadata for records with an exact matching publisher name'},\n",
              " 'affiliation': {'possible_values': None,\n",
              "  'description': 'metadata for records with at least one contributor with the given affiliation'}}"
            ]
          },
          "metadata": {}
        }
      ],
      "execution_count": 75,
      "metadata": {
        "collapsed": false,
        "outputHidden": true,
        "inputHidden": false,
        "outputExpanded": true
      }
    },
    {
      "cell_type": "code",
      "source": [
        "cn.content_negotiation(ids = \"10.5281/zenodo.1436039\", format = \"text\", style = \"elsevier-harvard\")"
      ],
      "outputs": [
        {
          "output_type": "execute_result",
          "execution_count": 74,
          "data": {
            "text/plain": [
              "'Moresi, L., Giordani, J., Mansour, J., Kaluza, O., Beucher, R., Farrington, R., … Kennedy, G. (2019, February 18). underworldcode/underworld2: v2.7.1b (Version v2.7.1b). Zenodo. https://doi.org/10.5281/zenodo.1436039'"
            ]
          },
          "metadata": {}
        }
      ],
      "execution_count": 74,
      "metadata": {
        "collapsed": false,
        "outputHidden": false,
        "inputHidden": false
      }
    },
    {
      "cell_type": "code",
      "source": [
        "times_cited = counts.citation_count(doi = \"10.5281/zenodo.1436039\")\n",
        "print(times_cited)"
      ],
      "outputs": [
        {
          "output_type": "stream",
          "name": "stdout",
          "text": [
            "0\n"
          ]
        }
      ],
      "execution_count": 77,
      "metadata": {
        "collapsed": false,
        "outputHidden": false,
        "inputHidden": false
      }
    },
    {
      "cell_type": "code",
      "source": [],
      "outputs": [],
      "execution_count": null,
      "metadata": {
        "collapsed": false,
        "outputHidden": false,
        "inputHidden": false
      }
    }
  ],
  "metadata": {
    "kernel_info": {
      "name": "python3"
    },
    "language_info": {
      "name": "python",
      "version": "3.7.2",
      "mimetype": "text/x-python",
      "codemirror_mode": {
        "name": "ipython",
        "version": 3
      },
      "pygments_lexer": "ipython3",
      "nbconvert_exporter": "python",
      "file_extension": ".py"
    },
    "kernelspec": {
      "name": "python3",
      "language": "python",
      "display_name": "Python 3"
    },
    "nteract": {
      "version": "0.12.3"
    }
  },
  "nbformat": 4,
  "nbformat_minor": 4
}