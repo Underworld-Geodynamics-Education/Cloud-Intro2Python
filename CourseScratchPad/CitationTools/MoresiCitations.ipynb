{
  "cells": [
    {
      "cell_type": "code",
      "source": [
        "from habanero import Crossref\n",
        "from habanero import counts\n",
        "from habanero import cn\n",
        "\n\n",
        "cr = Crossref()\n",
        "\n"
      ],
      "outputs": [],
      "execution_count": 1,
      "metadata": {
        "collapsed": false,
        "outputHidden": false,
        "inputHidden": false
      }
    },
    {
      "cell_type": "code",
      "source": [
        "res1 = cr.works(query_author = 'moresi', \n",
        "                sort=\"published\", limit=250,\n",
        "                filter={'from-pub-date':'1995-01-01'},\n",
        "                # Words in title, journal name, etc etc\n",
        "                query=\"geodynamics, geophysics, geophysical, geology, geological, subduction, tectonics, \\\n",
        "                topography, surface, tectonophysics, plasticity, \\\n",
        "                craton, Earth, Venus, computation, convection, fluid, underworld, ellipsis, \\\n",
        "                continent, continental, lithosphere, moho, mantle\")\n",
        "\npapers = res1['message']['items']"
      ],
      "outputs": [],
      "execution_count": 2,
      "metadata": {
        "collapsed": false,
        "outputHidden": true,
        "inputHidden": false
      }
    },
    {
      "cell_type": "code",
      "source": [
        "# res2 = cr.works(query_author = 'moresi', \n",
        "#                 sort=\"created\", limit=100,\n",
        "#                 filter={'from-pub-date':'1995-01-01'})\n"
      ],
      "outputs": [],
      "execution_count": 3,
      "metadata": {
        "collapsed": false,
        "outputHidden": false,
        "inputHidden": false
      }
    },
    {
      "cell_type": "code",
      "source": [
        "print(len(papers))"
      ],
      "outputs": [
        {
          "output_type": "stream",
          "name": "stdout",
          "text": [
            "125\n"
          ]
        }
      ],
      "execution_count": 13,
      "metadata": {
        "collapsed": false,
        "outputHidden": false,
        "inputHidden": false
      }
    },
    {
      "cell_type": "code",
      "source": [
        "coauths1 = [ x['author'][0]['family'].capitalize() for x in res1['message']['items'] ]\n",
        "# coauths2 = [ x['author'][0]['family'].capitalize() for x in res2['message']['items'] ]\n",
        "# print(set(coauths1+coauths2))"
      ],
      "outputs": [],
      "execution_count": 10,
      "metadata": {
        "collapsed": false,
        "outputHidden": false,
        "inputHidden": false
      }
    },
    {
      "cell_type": "markdown",
      "source": [
        "## Summary of search \n",
        "\nHere we pull out some fields to quickly check for duplicates / missing items"
      ],
      "metadata": {
        "collapsed": false,
        "outputHidden": false,
        "inputHidden": false
      }
    },
    {
      "cell_type": "code",
      "source": [
        "for paper in papers:\n",
        "    \n",
        "    try:\n",
        "       year = paper[\"published-print\"][\"date-parts\"][0][0]\n",
        "    except KeyError:\n",
        "       year = paper[\"created\"][\"date-parts\"][0][0]\n",
        "    \n",
        "    \n",
        "    print(\"{} {:35}{:20}{:.50}...\".format(year,paper[\"DOI\"],\n",
        "                                          paper[\"author\"][0][\"family\"],\n",
        "                                          paper[\"title\"][0]) )"
      ],
      "outputs": [
        {
          "output_type": "stream",
          "name": "stdout",
          "text": [
            "2019 10.1029/2018gl081585               Boneh               Intermediate depth earthquakes controlled by incom...\n",
            "2019 10.5194/se-2019-11                 Sandiford           Improving subduction interface implementation in d...\n",
            "2018 10.1071/aseg2018abp005             Beucher             The Structural Evolution of the North West Shelf: ...\n",
            "2018 10.1785/0220180222                 Miller              Mapping the Alaskan Moho...\n",
            "2018 10.1029/2018gc007534               Garber              Multidisciplinary Constraints on the Abundance of ...\n",
            "2018 10.5194/cp-14-857-2018             Pall                The influence of carbonate platform interactions w...\n",
            "2018 10.1016/j.epsl.2018.03.057         Yang                Cenozoic lithospheric deformation in Northeast Asi...\n",
            "2018 10.1130/g39943.1                   Beall               Formation of cratonic lithosphere during the initi...\n",
            "2018 10.1016/j.tecto.2017.12.015        Mather              Variations and controls on crustal thermal regimes...\n",
            "2018 10.1130/abs/2018am-324709          Willis              THE EVOLUTION OF CONTINENTAL COLLISION CONTROLLED ...\n",
            "2018 10.1130/g39674.1                   Mondy               The role of asthenospheric flow during rift propag...\n",
            "2017 10.1002/2017gl074800               Yang                Oceanic Residual Topography Agrees With Mantle Flo...\n",
            "2017 10.1093/gji/ggx202                 Beall               Dripping or delamination? A range of mechanisms fo...\n",
            "2017 10.1016/j.tecto.2016.12.004        Cooper              The structural evolution of the deep continental l...\n",
            "2016 10.1016/j.pepi.2016.04.002         O’Neill             A window for plate tectonics in terrestrial planet...\n",
            "2016 10.1016/j.pepi.2015.11.007         Sharples            Simulating faults and plate boundaries with a tran...\n",
            "2015 10.1190/ice2015-2210727            Rey*                Asthenospheric Flow and Evolution of Continental M...\n",
            "2015 10.1002/2014jb011813               Sharples            Styles of rifting and fault spacing in numerical m...\n",
            "2015 10.1007/s12583-015-0517-z          Quenette            Underworld-GT applied to Guangdong, a tool to expl...\n",
            "2015 10.1002/2014gl060088               Aivazpourporgou     Decompression melting driving intraplate volcanism...\n",
            "2015 10.1016/j.gsf.2014.07.002          Betts               Geodynamics of oceanic plateau and plume head accr...\n",
            "2015 10.1016/b978-0-444-53802-4.00130-5 Zhong               Numerical Methods for Mantle Convection...\n",
            "2014 10.1002/2014gc005507               Farrington          The role of viscoelasticity in subducting plates...\n",
            "2014 10.17265/1934-7359/2014.08.009     Hans B. Muhlhaus    Modelling of Non-coaxial Viscoplastic Deformation ...\n",
            "2014 10.1002/2014jb011163               Sharples            Overriding plate controls on subduction evolution...\n",
            "2014 10.1038/nature13033                Moresi              Dynamics of continental accretion...\n",
            "2013 10.1002/2013eo430009               Moresi              Capitanio Receives 2012 Jason Morgan Early Career ...\n",
            "2013 10.1016/j.jog.2013.04.002          May                 Overview of adaptive finite element analysis in co...\n",
            "2013 10.1038/501496a                    Moresi              A resolution of the Archaean paradox...\n",
            "2013 10.1002/grl.50547                  Cooper              Effects of continental configuration on mantle hea...\n",
            "2013 10.1002/jgrb.50173                 Schellart           A new driving mechanism for backarc extension and ...\n",
            "2013 10.1007/978-94-007-5968-8_11       Mühlhaus            Instabilities across the Scales: Simple Models for...\n",
            "2012 10.1130/g32909.1                   Betts               The influence of a mantle plume head on the dynami...\n",
            "2012 10.1029/2011gc003934               Gérault             The role of slabs and oceanic plate geometry in th...\n",
            "2012 10.5772/26419                      Asgari              Multiscale Particle-In-Cell Method: From Fluid to ...\n",
            "2012 10.1029/2011gc003860               Faccenda            Fluid flow during slab unbending and dehydration: ...\n",
            "2011 10.1029/2011jb008535               Schellart           Influence of lateral slab edge distance on plate v...\n",
            "2011 10.1029/2011gc003663               Lenardic            Continents, supercontinents, mantle thermal mixing...\n",
            "2011 10.1016/j.pepi.2011.06.008         Lenardic            A note on continents and the Earth’s Urey ratio...\n",
            "2011 10.1016/j.pepi.2010.10.013         Mériaux             On the rise of strongly tilted mantle plume tails...\n",
            "2010 10.1126/science.1190366            Schellart           Cenozoic Tectonics of Western North America Contro...\n",
            "2010 10.1016/j.tecto.2009.08.020        Capitanio           Upper plate controls on deep subduction, trench mi...\n",
            "2010 10.1016/j.tecto.2009.08.021        Mason               Three-dimensional numerical models of the influenc...\n",
            "2010 10.1016/j.tecto.2009.10.008        Farrington          Interactions of 3D mantle flow and continental lit...\n",
            "2010 10.1038/ngeo725                    Capitanio           India–Asia convergence driven by the subduction of...\n",
            "2009 10.1016/j.gr.2008.11.005           O'Neill             Influence of supercontinents on deep mantle flow...\n",
            "2008 10.1016/j.pepi.2008.07.036         May                 Preconditioned iterative methods for Stokes flow p...\n",
            "2008 10.1016/j.pepi.2008.07.038         Lemiale             Shear banding analysis of plastic models formulate...\n",
            "2008 10.1016/j.pepi.2008.08.011         OzBench             A model comparison study of large-scale mantle–lit...\n",
            "2008 10.1029/2008gc002048               Zhong               A benchmark study on mantle convection in a 3-D sp...\n",
            "2008 10.1016/j.epsl.2008.03.031         Lenardic            A climate induced transition in the tectonic style...\n",
            "2008 10.1007/s10069-008-0010-2          Stegman             gLucifer: next generation visualization framework ...\n",
            "2007 10.1016/j.epsl.2007.04.056         O'Neill             Episodic Precambrian subduction...\n",
            "2007 10.1016/j.cageo.2006.11.004        Dyksterhuis         A graphical user interface for particle-in-cell fi...\n",
            "2007 10.1016/j.pepi.2007.06.009         Moresi              Computational approaches to studying non-linear dy...\n",
            "2010 10.1111/j.1365-2621.1980.tb00939.x MORESI              Engineering factors in the production of concentra...\n",
            "2010 10.1111/j.1365-2621.1984.tb01869.x MORESI              Engineering factors in the production of concentra...\n",
            "2007 10.1029/2004tc001768               Gessner             Significance of strain localization in the lower c...\n",
            "2007 10.1038/nature05615                Schellart           Evolution and diversity of subduction zones contro...\n",
            "2007 10.1144/sp282.19                   Moresi              Incompressible viscous formulations for deformatio...\n",
            "2007 10.1144/sp282.18                   Dyksterhuis         Effects of initial weakness on rift architecture...\n",
            "2007 10.1016/b978-044452748-6.00118-8   Zhong               Numerical Methods for Mantle Convection...\n",
            "2007 10.1029/176gm05                    Smrekar             Tectonic and thermal evolution of Venus and the ro...\n",
            "2007 10.1016/b978-044452748-6/00118-8   ZHONG               Numerical Methods for Mantle Convection...\n",
            "2006 10.1071/aseg2006ab105              Miller              Effects of a buoyant aseismic ridge on an inter-oc...\n",
            "2006 10.1016/j.cageo.2006.04.006        O’Neill             Ellipsis 3D: A particle-in-cell finite-element hyb...\n",
            "2006 10.1007/s00024-006-0111-5          Mühlhaus            Elasticity, Yielding and Episodicity in Simple Mod...\n",
            "2006 10.1016/j.gca.2006.06.922          Oneill              The nature of subduction on the early Earth...\n",
            "2006 10.1016/j.gca.2006.06.1134         Stegman             Evolution and dynamics of subduction zones from 4-...\n",
            "2006 10.1016/j.gca.2006.06.714          Lenardic            Making, keeping, and may be even losing ancient co...\n",
            "2006 10.1029/2005gc001056               Stegman             Influence of trench width on subduction hinge retr...\n",
            "2006 10.1016/j.icarus.2005.07.014       FREEMAN             Thermal convection with a water ice I rheology: Im...\n",
            "2006 10.1029/164gm07                    Cooper              Creation and preservation of cratonic lithosphere:...\n",
            "2006 10.1029/2006gl026291               Cooper              Effects of continental insulation and the partitio...\n",
            "2005 10.1016/j.tecto.2005.04.010        O'Neill             Geodynamic controls on diamond deposits: Implicati...\n",
            "2005 10.1029/2005gl022855               O'Neill             Insulation and depletion due to thickened crust: E...\n",
            "2005 10.1016/j.epsl.2005.05.030         Wijns               Mode of crustal extension determined by rheologica...\n",
            "2005 10.1016/j.epsl.2005.01.038         LENARDIC            Continental insulation, mantle cooling, and the su...\n",
            "2004 10.1007/s00024-004-2575-5          M�hlhaus            Emergent Anisotropy and Flow Alignment in Viscous ...\n",
            "2004 10.1016/j.epsl.2004.04.008         Cooper              The thermal structure of stable continental lithos...\n",
            "2004 10.1029/2004gl019798               Freeman             Evolution into the stagnant lid convection regime ...\n",
            "2004 10.1029/2003je002172               Lenardic            Growth of the hemispheric dichotomy and the cessat...\n",
            "2003 10.1029/2002gc000503               Boschetti           Effective exploration and visualization of geologi...\n",
            "2003 10.1016/s0191-8141(03)00010-5      Wijns               Inverse modelling in geology by interactive evolut...\n",
            "2003 10.1016/s0012-821x(03)00294-2      O’Neill             How long can diamonds remain stable in the contine...\n",
            "2003 10.1029/2002jb001859               Lenardic            Longevity and stability of cratonic lithosphere: I...\n",
            "2003 10.1016/s0301-9268(03)00040-8      Weinberg            Erratum to “Timing of deformation in the Norseman-...\n",
            "2003 10.1063/1.1533755                  Lenardic            Thermal convection below a conducting lid of varia...\n",
            "2003 10.1130/0-8137-2372-8.169          O'NEILL             Inferences on Australia's heat flow and thermal st...\n",
            "2003 10.1016/b978-008044046-0.50255-4   Mühlhaus            Anisotropy model for mantle convection...\n",
            "2003 10.1016/b978-008044046-0/50255-4   MUHLHAUS            Anisotropy model for mantle convection...\n",
            "2003 10.1007/3-540-44863-2_77           Mühlhaus            Anisotropic Convection Model for the Earth’s Mantl...\n",
            "2003 10.1007/3-540-44863-2_76           Moresi              Mantle Convection Modeling with Viscoelastic/Britt...\n",
            "2002 10.1007/s00024-002-8738-3          Moresi              Mantle Convection Modeling with Viscoelastic/Britt...\n",
            "2002 10.1007/s00024-002-8737-4          Mühlhaus            Large Amplitude Folding in Finely Layered Viscoela...\n",
            "2002 10.1029/2000jb000063               Solomatov           Small-scale convection in the D″ layer...\n",
            "2002 10.1007/978-3-0348-8197-5_10       Moresi              Mantle Convection Modeling with Viscoelastic/Britt...\n",
            "2001 10.1190/1.1487069                  Boschetti           Interactive inversion in geosciences...\n",
            "2001 10.1061/40569(2001)40              Martin              Application of a Coupled Surface-Groundwater Hydro...\n",
            "2001 10.1029/2000gl008484               Lenardic            Heat flow scaling for mantle convection below a co...\n",
            "2001 10.1016/b978-008043944-0/50595-3   Dufour              A fluid-like formulation for viscoelastic geologic...\n",
            "2000 10.1029/2000jb900197               Solomatov           Scaling of time-dependent stagnant lid convection:...\n",
            "2000 10.1029/2000jb900003               Zhong               Role of temperature-dependent viscosity and surfac...\n",
            "2000 10.1029/1999gl008410               Lenardic            The role of mobile belts for the longevity of deep...\n",
            "2000 10.1109/5992.841793                Moresi              Plate tectonics and convection in the Earth's mant...\n",
            "2000 10.1029/gm121p0095                 Lenardic            What the mantle sees: The Effects of continents on...\n",
            "2000 10.1029/gm121p0211                 Gurnis              Models of mantle convection incorporating plate te...\n",
            "1999 10.1046/j.1365-2117.1999.00102.x   Burgess             Modelling rates and distribution of subsidence due...\n",
            "1999 10.1029/1999jb900035               Lenardic            Some thoughts on the stability of cratonic lithosp...\n",
            "1999 10.1006/icar.1999.6088             Reese               Non-Newtonian Stagnant Lid Convection and Magmatic...\n",
            "2002 10.1175/1087-3562(1999)003<0002:tdmcwc>2.0.co;2Moresi              Three-Dimensional Mantle Convection With Continent...\n",
            "1999 10.1175/1087-3562(1999)003<0001:tdmcwc>2.3.co;2Moresi              Three-Dimensional Mantle Convection With Continent...\n",
            "1998 10.1029/98jb00605                  Zhong               Role of faults, nonlinear rheology, and viscosity ...\n",
            "1998 10.1046/j.1365-246x.1998.00521.x   Moresi              Mantle convection with a brittle lithosphere: thou...\n",
            "1998 10.1029/98je01047                  Reese               Heat transport efficiency for stagnant lid convect...\n",
            "1997 10.1029/97je02281                  Solomatov           Correction to “Stagnant lid convection on Venus” b...\n",
            "1997 10.1130/0016-7606(1997)109<1515:fositc>2.3.co;2Burgess             Formation of sequences in the cratonic interior of...\n",
            "1997 10.1029/97gl01682                  Solomatov           Three regimes of mantle convection with non-Newton...\n",
            "1997 10.1016/s0012-821x(97)00093-9      Moresi              Three-dimensional numerical simulations of crustal...\n",
            "1996 10.1111/j.1365-246x.1996.tb04049.x Zhong               Free-surface formulation of mantle convection-I. B...\n",
            "1996 10.1016/0031-9201(96)03163-9       Moresi              The accuracy of finite element solutions of Stokes...\n",
            "1996 10.1029/95je03361                  Solomatov           Stagnant lid convection on Venus...\n",
            "1996 10.1016/0012-821x(95)00221-w       Moresi              Constraints on the lateral strength of slabs from ...\n",
            "1995 10.1063/1.868465                   Moresi              Numerical investigation of 2D convection with extr...\n",
            "2004 10.1029/95je01622                  Moresi              Interpreting gravity, geoid, and topography for co...\n"
          ]
        }
      ],
      "execution_count": 12,
      "metadata": {
        "collapsed": false,
        "outputHidden": false,
        "inputHidden": false
      }
    },
    {
      "cell_type": "code",
      "source": [
        "## Now format up the results and make a publications / citation count list.\n",
        "\n"
      ],
      "outputs": [],
      "execution_count": 7,
      "metadata": {
        "collapsed": false,
        "outputHidden": false,
        "inputHidden": false
      }
    },
    {
      "cell_type": "code",
      "source": [
        "for paper in papers:\n",
        "    times_cited = counts.citation_count(doi = paper[\"DOI\"])\n",
        "    citation_text = cn.content_negotiation(ids = paper[\"DOI\"], format = \"text\")\n",
        "    print(\"{} [cited {} times]\\n\".format(citation_text[:-1], times_cited))\n",
        "    "
      ],
      "outputs": [
        {
          "output_type": "stream",
          "name": "stdout",
          "text": [
            "Boneh, Y., Schottenfels, E., Kwong, K., Zelst, I., Tong, X., Eimer, M., … Zhan, Z. (2019). Intermediate depth earthquakes controlled by incoming plate hydration along bending‐related faults. Geophysical Research Letters. doi:10.1029/2018gl081585 [cited 0 times]\n",
            "\n",
            "Sandiford, D., & Moresi, L. (2019). Improving subduction interface implementation in dynamic numerical models. Solid Earth Discussions, 1–32. doi:10.5194/se-2019-11 [cited 0 times]\n",
            "\n",
            "Beucher, R., Moron, S., Moresi, L., Salles, T., Rey, P., Brocard, G., & Farrington, R. (2018). The Structural Evolution of the North West Shelf: a Thermomechanical Modeling Approach Using Stratified Lithospheric Rheologies and Surface Processes. ASEG Extended Abstracts, 2018(1), 1–5. doi:10.1071/aseg2018abp005 [cited 0 times]\n",
            "\n",
            "Miller, M. S., & Moresi, L. (2018). Mapping the Alaskan Moho. Seismological Research Letters, 89(6), 2430–2436. doi:10.1785/0220180222 [cited 0 times]\n",
            "\n",
            "Garber, J. M., Maurya, S., Hernandez, J.-A., Duncan, M. S., Zeng, L., Zhang, H. L., … Stixrude, L. (2018). Multidisciplinary Constraints on the Abundance of Diamond and Eclogite in the Cratonic Lithosphere. Geochemistry, Geophysics, Geosystems, 19(7), 2062–2086. doi:10.1029/2018gc007534 [cited 3 times]\n",
            "\n",
            "Pall, J., Zahirovic, S., Doss, S., Hassan, R., Matthews, K. J., Cannon, J., … Müller, R. D. (2018). The influence of carbonate platform interactions with subduction zone volcanism on palaeo-atmospheric  CO&lt;sub&gt;2&lt;/sub&gt; since the Devonian. Climate of the Past, 14(6), 857–870. doi:10.5194/cp-14-857-2018 [cited 1 times]\n",
            "\n",
            "Yang, T., Moresi, L., Zhao, D., Sandiford, D., & Whittaker, J. (2018). Cenozoic lithospheric deformation in Northeast Asia and the rapidly-aging Pacific Plate. Earth and Planetary Science Letters, 492, 1–11. doi:10.1016/j.epsl.2018.03.057 [cited 5 times]\n",
            "\n",
            "Beall, A. P., Moresi, L., & Cooper, C. M. (2018). Formation of cratonic lithosphere during the initiation of plate tectonics. Geology, 46(6), 487–490. doi:10.1130/g39943.1 [cited 4 times]\n",
            "\n",
            "Mather, B., McLaren, S., Taylor, D., Roy, S., & Moresi, L. (2018). Variations and controls on crustal thermal regimes in Southeastern Australia. Tectonophysics, 723, 261–276. doi:10.1016/j.tecto.2017.12.015 [cited 1 times]\n",
            "\n",
            "Willis, D., Betts, P., Moresi, L., Ailleres, L., & O’Farrell, K. (2018). THE EVOLUTION OF CONTINENTAL COLLISION CONTROLLED BY THE WIDTH OF ADJACENT SUBDUCTION ZONE. doi:10.1130/abs/2018am-324709 [cited 0 times]\n",
            "\n",
            "Mondy, L. S., Rey, P. F., Duclaux, G., & Moresi, L. (2017). The role of asthenospheric flow during rift propagation and breakup. Geology, 46(2), 103–106. doi:10.1130/g39674.1 [cited 7 times]\n",
            "\n",
            "Yang, T., Moresi, L., Müller, R. D., & Gurnis, M. (2017). Oceanic Residual Topography Agrees With Mantle Flow Predictions at Long Wavelengths. Geophysical Research Letters, 44(21), 10,896–10,906. doi:10.1002/2017gl074800 [cited 5 times]\n",
            "\n",
            "Beall, A. P., Moresi, L., & Stern, T. (2017). Dripping or delamination? A range of mechanisms for removing the lower crust or lithosphere. Geophysical Journal International, 210(2), 671–692. doi:10.1093/gji/ggx202 [cited 3 times]\n",
            "\n\n\n\n\n\n\n\n\n\n",
            "<!DOCTYPE HTML PUBLIC \"-//W3C//DTD HTML 4.01 Transitional//EN\" \"https://www.w3.org/TR/html4/loose.dtd\">\n",
            "<html>\n",
            "<head>\n",
            "<meta charset=\"utf-8\">\n",
            "<META http-equiv=Content-Type content=\"text/html\">\n",
            "<meta HTTP-EQUIV=\"REFRESH\" content=\"2; url='/retrieve/articleSelectSinglePerm?Redirect=https%3A%2F%2Fwww.sciencedirect.com%2Fscience%2Farticle%2Fpii%2FS0040195116305984%3Fvia%253Dihub&amp;key=fcd2a336ef4e4e1734d325c16cb2bb6dd13d6a3e'\"/>\n",
            "\n",
            "<script type=\"text/javascript\">window.NREUM||(NREUM={}),__nr_require=function(e,n,t){function r(t){if(!n[t]){var o=n[t]={exports:{}};e[t][0].call(o.exports,function(n){var o=e[t][1][n];return r(o||n)},o,o.exports)}return n[t].exports}if(\"function\"==typeof __nr_require)return __nr_require;for(var o=0;o<t.length;o++)r(t[o]);return r}({1:[function(e,n,t){function r(){}function o(e,n,t){return function(){return i(e,[c.now()].concat(u(arguments)),n?null:this,t),n?void 0:this}}var i=e(\"handle\"),a=e(3),u=e(4),f=e(\"ee\").get(\"tracer\"),c=e(\"loader\"),s=NREUM;\"undefined\"==typeof window.newrelic&&(newrelic=s);var p=[\"setPageViewName\",\"setCustomAttribute\",\"setErrorHandler\",\"finished\",\"addToTrace\",\"inlineHit\",\"addRelease\"],d=\"api-\",l=d+\"ixn-\";a(p,function(e,n){s[n]=o(d+n,!0,\"api\")}),s.addPageAction=o(d+\"addPageAction\",!0),s.setCurrentRouteName=o(d+\"routeName\",!0),n.exports=newrelic,s.interaction=function(){return(new r).get()};var m=r.prototype={createTracer:function(e,n){var t={},r=this,o=\"function\"==typeof n;return i(l+\"tracer\",[c.now(),e,t],r),function(){if(f.emit((o?\"\":\"no-\")+\"fn-start\",[c.now(),r,o],t),o)try{return n.apply(this,arguments)}catch(e){throw f.emit(\"fn-err\",[arguments,this,e],t),e}finally{f.emit(\"fn-end\",[c.now()],t)}}}};a(\"actionText,setName,setAttribute,save,ignore,onEnd,getContext,end,get\".split(\",\"),function(e,n){m[n]=o(l+n)}),newrelic.noticeError=function(e,n){\"string\"==typeof e&&(e=new Error(e)),i(\"err\",[e,c.now(),!1,n])}},{}],2:[function(e,n,t){function r(e,n){if(!o)return!1;if(e!==o)return!1;if(!n)return!0;if(!i)return!1;for(var t=i.split(\".\"),r=n.split(\".\"),a=0;a<r.length;a++)if(r[a]!==t[a])return!1;return!0}var o=null,i=null,a=/Version\\/(\\S+)\\s+Safari/;if(navigator.userAgent){var u=navigator.userAgent,f=u.match(a);f&&u.indexOf(\"Chrome\")===-1&&u.indexOf(\"Chromium\")===-1&&(o=\"Safari\",i=f[1])}n.exports={agent:o,version:i,match:r}},{}],3:[function(e,n,t){function r(e,n){var t=[],r=\"\",i=0;for(r in e)o.call(e,r)&&(t[i]=n(r,e[r]),i+=1);return t}var o=Object.prototype.hasOwnProperty;n.exports=r},{}],4:[function(e,n,t){function r(e,n,t){n||(n=0),\"undefined\"==typeof t&&(t=e?e.length:0);for(var r=-1,o=t-n||0,i=Array(o<0?0:o);++r<o;)i[r]=e[n+r];return i}n.exports=r},{}],5:[function(e,n,t){n.exports={exists:\"undefined\"!=typeof window.performance&&window.performance.timing&&\"undefined\"!=typeof window.performance.timing.navigationStart}},{}],ee:[function(e,n,t){function r(){}function o(e){function n(e){return e&&e instanceof r?e:e?f(e,u,i):i()}function t(t,r,o,i){if(!d.aborted||i){e&&e(t,r,o);for(var a=n(o),u=v(t),f=u.length,c=0;c<f;c++)u[c].apply(a,r);var p=s[y[t]];return p&&p.push([b,t,r,a]),a}}function l(e,n){h[e]=v(e).concat(n)}function m(e,n){var t=h[e];if(t)for(var r=0;r<t.length;r++)t[r]===n&&t.splice(r,1)}function v(e){return h[e]||[]}function g(e){return p[e]=p[e]||o(t)}function w(e,n){c(e,function(e,t){n=n||\"feature\",y[t]=n,n in s||(s[n]=[])})}var h={},y={},b={on:l,addEventListener:l,removeEventListener:m,emit:t,get:g,listeners:v,context:n,buffer:w,abort:a,aborted:!1};return b}function i(){return new r}function a(){(s.api||s.feature)&&(d.aborted=!0,s=d.backlog={})}var u=\"nr@context\",f=e(\"gos\"),c=e(3),s={},p={},d=n.exports=o();d.backlog=s},{}],gos:[function(e,n,t){function r(e,n,t){if(o.call(e,n))return e[n];var r=t();if(Object.defineProperty&&Object.keys)try{return Object.defineProperty(e,n,{value:r,writable:!0,enumerable:!1}),r}catch(i){}return e[n]=r,r}var o=Object.prototype.hasOwnProperty;n.exports=r},{}],handle:[function(e,n,t){function r(e,n,t,r){o.buffer([e],r),o.emit(e,n,t)}var o=e(\"ee\").get(\"handle\");n.exports=r,r.ee=o},{}],id:[function(e,n,t){function r(e){var n=typeof e;return!e||\"object\"!==n&&\"function\"!==n?-1:e===window?0:a(e,i,function(){return o++})}var o=1,i=\"nr@id\",a=e(\"gos\");n.exports=r},{}],loader:[function(e,n,t){function r(){if(!E++){var e=x.info=NREUM.info,n=l.getElementsByTagName(\"script\")[0];if(setTimeout(s.abort,3e4),!(e&&e.licenseKey&&e.applicationID&&n))return s.abort();c(y,function(n,t){e[n]||(e[n]=t)}),f(\"mark\",[\"onload\",a()+x.offset],null,\"api\");var t=l.createElement(\"script\");t.src=\"https://\"+e.agent,n.parentNode.insertBefore(t,n)}}function o(){\"complete\"===l.readyState&&i()}function i(){f(\"mark\",[\"domContent\",a()+x.offset],null,\"api\")}function a(){return O.exists&&performance.now?Math.round(performance.now()):(u=Math.max((new Date).getTime(),u))-x.offset}var u=(new Date).getTime(),f=e(\"handle\"),c=e(3),s=e(\"ee\"),p=e(2),d=window,l=d.document,m=\"addEventListener\",v=\"attachEvent\",g=d.XMLHttpRequest,w=g&&g.prototype;NREUM.o={ST:setTimeout,SI:d.setImmediate,CT:clearTimeout,XHR:g,REQ:d.Request,EV:d.Event,PR:d.Promise,MO:d.MutationObserver};var h=\"\"+location,y={beacon:\"bam.nr-data.net\",errorBeacon:\"bam.nr-data.net\",agent:\"js-agent.newrelic.com/nr-1118.min.js\"},b=g&&w&&w[m]&&!/CriOS/.test(navigator.userAgent),x=n.exports={offset:u,now:a,origin:h,features:{},xhrWrappable:b,userAgent:p};e(1),l[m]?(l[m](\"DOMContentLoaded\",i,!1),d[m](\"load\",r,!1)):(l[v](\"onreadystatechange\",o),d[v](\"onload\",r)),f(\"mark\",[\"firstbyte\",u],null,\"api\");var E=0,O=e(5)},{}]},{},[\"loader\"]);</script><script type=\"text/JavaScript\" src=\"/retrieve/static/script/siteCatalystHelper.js\"></script>\n",
            "<script type=\"text/JavaScript\" src=\"https://ajax.googleapis.com/ajax/libs/jquery/1.10.1/jquery.min.js\"></script>\n",
            "<script src=\"https://assets.adobedtm.com/376c5346e33126fdb6b2dbac81e307cbacfd7935/satelliteLib-a986ae16a269f0e3b40c8a1e8e66d91745720dcd.js\"></script>\n",
            "<title>Redirecting</title>\n",
            "<META http-equiv=Content-Type content=\"text/html; charset=utf-8\">\n",
            "<LINK title=\"Default Styles\" href=\"/retrieve/static/css/articleLocatorNew.css\"\n",
            "\trel=stylesheet>\n",
            "<LINK title=\"Default Styles\" href=\"/retrieve/static/css/updateForm.css\" rel=stylesheet>\n",
            "<script language=JavaScript type=\"text/javascript\">\n",
            "var timerStart = Date.now();\n",
            "var pageName = \"\";\n",
            "\n",
            "if (pageName == \"\") {\n",
            "\tpageName = \"Auto Article Locator\";\n",
            "} \n",
            "\tfunction autoRedirectToURL() {\n",
            "\t\tvar url = '/retrieve/'+document.getElementById('resultName').value+'?Redirect='+document.getElementById('redirectURL').value+'&key='+document.getElementById('key').value\n",
            "\t\ttry{siteCatalyst.clickEventTrack(document.getElementById('id').value);}catch(e){}\n",
            "\t\twindow.location = url;\n",
            "\t}\n",
            "</script>\n",
            "</head>\n",
            "<body onload=\"autoRedirectToURL();\">\n",
            "\t<tr style=\"display:none;\">\n",
            "  <td colspan=\"2\">\n",
            "<input type=\"hidden\" name=\"redirectURL\" value=\"https%3A%2F%2Fwww.sciencedirect.com%2Fscience%2Farticle%2Fpii%2FS0040195116305984%3Fvia%253Dihub\" id=\"redirectURL\"/>  </td>\n",
            "</tr>\n",
            "\n",
            "\t<tr style=\"display:none;\">\n",
            "  <td colspan=\"2\">\n",
            "<input type=\"hidden\" name=\"key\" value=\"fcd2a336ef4e4e1734d325c16cb2bb6dd13d6a3e\" id=\"key\"/>  </td>\n",
            "</tr>\n",
            "\n",
            "\t<tr style=\"display:none;\">\n",
            "  <td colspan=\"2\">\n",
            "<input type=\"hidden\" name=\"id\" value=\"S0040195116305984\" id=\"id\"/>  </td>\n",
            "</tr>\n",
            "\n",
            "\t<tr style=\"display:none;\">\n",
            "  <td colspan=\"2\">\n",
            "<input type=\"hidden\" name=\"resultName\" value=\"articleSelectSinglePerm\" id=\"resultName\"/>  </td>\n",
            "</tr>\n",
            "\n",
            "\t\n",
            "\t\n",
            "\n",
            "<script type=\"text/javascript\">window.NREUM||(NREUM={});NREUM.info={\"errorBeacon\":\"bam.nr-data.net\",\"licenseKey\":\"ee15051b1b\",\"agent\":\"\",\"beacon\":\"bam.nr-data.net\",\"applicationTime\":68,\"applicationID\":\"81847441\",\"transactionName\":\"ZFBWNhBVWUpUWkBcC10aZxYQQUNKdFpAXAtdGkQLCxtkCQUNBARdBgQFVFEEAgANDQ==\",\"queueTime\":0}</script></body>\n",
            "<script>\n",
            "\t\tsiteCatalyst.pageDataLoad({\n",
            "\t\t\tbusinessUnit : 'ELS:RP:ST',\n",
            "            environment : 'prod',\n",
            "            language : 'en',\n",
            "            loadTime : (Date.now()-timerStart).toString(),\n",
            "            loadTimestamp : Date.now().toString(),\n",
            "            name : pageName,\n",
            "            productName : 'IH',\n",
            "            type : 'NP-GP',\n",
            "            \n",
            "            accessType : 'ih:anon_guest',\n",
            "            ipAddress : '150.203.10.11'\n",
            "\t\t});\n",
            "\t</script>\n",
            "</html> [cited 9 times]\n",
            "\n",
            "O’Neill, C., Lenardic, A., Weller, M., Moresi, L., Quenette, S., & Zhang, S. (2016). A window for plate tectonics in terrestrial planet evolution? Physics of the Earth and Planetary Interiors, 255, 80–92. doi:10.1016/j.pepi.2016.04.002 [cited 25 times]\n",
            "\n",
            "Sharples, W., Moresi, L. N., Velic, M., Jadamec, M. A., & May, D. A. (2016). Simulating faults and plate boundaries with a transversely isotropic plasticity model. Physics of the Earth and Planetary Interiors, 252, 77–90. doi:10.1016/j.pepi.2015.11.007 [cited 3 times]\n",
            "\n",
            "Rey*, P. F., Mondy, L., Zahirovic, S., & Moresi, L. (2015). Asthenospheric Flow and Evolution of Continental Margins. International Conference and Exhibition, Melbourne, Australia 13-16 September 2015. doi:10.1190/ice2015-2210727 [cited 0 times]\n",
            "\n",
            "Sharples, W., Moresi, L.-N., Jadamec, M. A., & Revote, J. (2015). Styles of rifting and fault spacing in numerical models of crustal extension. Journal of Geophysical Research: Solid Earth, 120(6), 4379–4404. doi:10.1002/2014jb011813 [cited 9 times]\n",
            "\n",
            "Quenette, S., Xi, Y., Mansour, J., Moresi, L., & Abramson, D. (2015). Underworld-GT applied to Guangdong, a tool to explore the geothermal potential of the crust. Journal of Earth Science, 26(1), 78–88. doi:10.1007/s12583-015-0517-z [cited 4 times]\n",
            "\n",
            "Aivazpourporgou, S., Thiel, S., Hayman, P. C., Moresi, L. N., & Heinson, G. (2015). Decompression melting driving intraplate volcanism in Australia: Evidence from magnetotelluric sounding. Geophysical Research Letters, 42(2), 346–354. doi:10.1002/2014gl060088 [cited 9 times]\n",
            "\n",
            "Betts, P. G., Moresi, L., Miller, M. S., & Willis, D. (2015). Geodynamics of oceanic plateau and plume head accretion and their role in Phanerozoic orogenic systems of China. Geoscience Frontiers, 6(1), 49–59. doi:10.1016/j.gsf.2014.07.002 [cited 19 times]\n",
            "\n"
          ]
        },
        {
          "output_type": "error",
          "ename": "KeyboardInterrupt",
          "evalue": "",
          "traceback": [
            "\u001b[0;31m---------------------------------------------------------------------------\u001b[0m",
            "\u001b[0;31mTypeError\u001b[0m                                 Traceback (most recent call last)",
            "\u001b[0;32m/usr/local/lib/python3.7/site-packages/urllib3/connectionpool.py\u001b[0m in \u001b[0;36m_make_request\u001b[0;34m(self, conn, method, url, timeout, chunked, **httplib_request_kw)\u001b[0m\n\u001b[1;32m    376\u001b[0m             \u001b[0;32mtry\u001b[0m\u001b[0;34m:\u001b[0m  \u001b[0;31m# Python 2.7, use buffering of HTTP responses\u001b[0m\u001b[0;34m\u001b[0m\u001b[0;34m\u001b[0m\u001b[0m\n\u001b[0;32m--> 377\u001b[0;31m                 \u001b[0mhttplib_response\u001b[0m \u001b[0;34m=\u001b[0m \u001b[0mconn\u001b[0m\u001b[0;34m.\u001b[0m\u001b[0mgetresponse\u001b[0m\u001b[0;34m(\u001b[0m\u001b[0mbuffering\u001b[0m\u001b[0;34m=\u001b[0m\u001b[0;32mTrue\u001b[0m\u001b[0;34m)\u001b[0m\u001b[0;34m\u001b[0m\u001b[0;34m\u001b[0m\u001b[0m\n\u001b[0m\u001b[1;32m    378\u001b[0m             \u001b[0;32mexcept\u001b[0m \u001b[0mTypeError\u001b[0m\u001b[0;34m:\u001b[0m  \u001b[0;31m# Python 3\u001b[0m\u001b[0;34m\u001b[0m\u001b[0;34m\u001b[0m\u001b[0m\n",
            "\u001b[0;31mTypeError\u001b[0m: getresponse() got an unexpected keyword argument 'buffering'",
            "\nDuring handling of the above exception, another exception occurred:\n",
            "\u001b[0;31mKeyboardInterrupt\u001b[0m                         Traceback (most recent call last)",
            "\u001b[0;32m<ipython-input-16-1db68d734aa7>\u001b[0m in \u001b[0;36m<module>\u001b[0;34m\u001b[0m\n\u001b[1;32m      1\u001b[0m \u001b[0;32mfor\u001b[0m \u001b[0mpaper\u001b[0m \u001b[0;32min\u001b[0m \u001b[0mpapers\u001b[0m\u001b[0;34m:\u001b[0m\u001b[0;34m\u001b[0m\u001b[0;34m\u001b[0m\u001b[0m\n\u001b[0;32m----> 2\u001b[0;31m     \u001b[0mtimes_cited\u001b[0m \u001b[0;34m=\u001b[0m \u001b[0mcounts\u001b[0m\u001b[0;34m.\u001b[0m\u001b[0mcitation_count\u001b[0m\u001b[0;34m(\u001b[0m\u001b[0mdoi\u001b[0m \u001b[0;34m=\u001b[0m \u001b[0mpaper\u001b[0m\u001b[0;34m[\u001b[0m\u001b[0;34m\"DOI\"\u001b[0m\u001b[0;34m]\u001b[0m\u001b[0;34m)\u001b[0m\u001b[0;34m\u001b[0m\u001b[0;34m\u001b[0m\u001b[0m\n\u001b[0m\u001b[1;32m      3\u001b[0m     \u001b[0mcitation_text\u001b[0m \u001b[0;34m=\u001b[0m \u001b[0mcn\u001b[0m\u001b[0;34m.\u001b[0m\u001b[0mcontent_negotiation\u001b[0m\u001b[0;34m(\u001b[0m\u001b[0mids\u001b[0m \u001b[0;34m=\u001b[0m \u001b[0mpaper\u001b[0m\u001b[0;34m[\u001b[0m\u001b[0;34m\"DOI\"\u001b[0m\u001b[0;34m]\u001b[0m\u001b[0;34m,\u001b[0m \u001b[0mformat\u001b[0m \u001b[0;34m=\u001b[0m \u001b[0;34m\"text\"\u001b[0m\u001b[0;34m)\u001b[0m\u001b[0;34m\u001b[0m\u001b[0;34m\u001b[0m\u001b[0m\n\u001b[1;32m      4\u001b[0m     \u001b[0mprint\u001b[0m\u001b[0;34m(\u001b[0m\u001b[0;34m\"{} [cited {} times]\\n\"\u001b[0m\u001b[0;34m.\u001b[0m\u001b[0mformat\u001b[0m\u001b[0;34m(\u001b[0m\u001b[0mcitation_text\u001b[0m\u001b[0;34m[\u001b[0m\u001b[0;34m:\u001b[0m\u001b[0;34m-\u001b[0m\u001b[0;36m1\u001b[0m\u001b[0;34m]\u001b[0m\u001b[0;34m,\u001b[0m \u001b[0mtimes_cited\u001b[0m\u001b[0;34m)\u001b[0m\u001b[0;34m)\u001b[0m\u001b[0;34m\u001b[0m\u001b[0;34m\u001b[0m\u001b[0m\n\u001b[1;32m      5\u001b[0m \u001b[0;34m\u001b[0m\u001b[0m\n",
            "\u001b[0;32m/usr/local/lib/python3.7/site-packages/habanero/counts/counts.py\u001b[0m in \u001b[0;36mcitation_count\u001b[0;34m(doi, url, key, **kwargs)\u001b[0m\n\u001b[1;32m     25\u001b[0m     \u001b[0margs\u001b[0m \u001b[0;34m=\u001b[0m \u001b[0;34m{\u001b[0m\u001b[0;34m\"id\"\u001b[0m\u001b[0;34m:\u001b[0m \u001b[0;34m\"doi:\"\u001b[0m \u001b[0;34m+\u001b[0m \u001b[0mdoi\u001b[0m\u001b[0;34m,\u001b[0m \u001b[0;34m\"pid\"\u001b[0m\u001b[0;34m:\u001b[0m \u001b[0mkey\u001b[0m\u001b[0;34m,\u001b[0m \u001b[0;34m\"noredirect\"\u001b[0m\u001b[0;34m:\u001b[0m \u001b[0;32mTrue\u001b[0m\u001b[0;34m}\u001b[0m\u001b[0;34m\u001b[0m\u001b[0;34m\u001b[0m\u001b[0m\n\u001b[1;32m     26\u001b[0m     \u001b[0margs\u001b[0m \u001b[0;34m=\u001b[0m \u001b[0mdict\u001b[0m\u001b[0;34m(\u001b[0m\u001b[0;34m(\u001b[0m\u001b[0mk\u001b[0m\u001b[0;34m,\u001b[0m \u001b[0mv\u001b[0m\u001b[0;34m)\u001b[0m \u001b[0;32mfor\u001b[0m \u001b[0mk\u001b[0m\u001b[0;34m,\u001b[0m \u001b[0mv\u001b[0m \u001b[0;32min\u001b[0m \u001b[0margs\u001b[0m\u001b[0;34m.\u001b[0m\u001b[0mitems\u001b[0m\u001b[0;34m(\u001b[0m\u001b[0;34m)\u001b[0m \u001b[0;32mif\u001b[0m \u001b[0mv\u001b[0m\u001b[0;34m)\u001b[0m\u001b[0;34m\u001b[0m\u001b[0;34m\u001b[0m\u001b[0m\n\u001b[0;32m---> 27\u001b[0;31m     \u001b[0mres\u001b[0m \u001b[0;34m=\u001b[0m \u001b[0mrequests\u001b[0m\u001b[0;34m.\u001b[0m\u001b[0mget\u001b[0m\u001b[0;34m(\u001b[0m\u001b[0murl\u001b[0m\u001b[0;34m,\u001b[0m \u001b[0mparams\u001b[0m \u001b[0;34m=\u001b[0m \u001b[0margs\u001b[0m\u001b[0;34m,\u001b[0m \u001b[0mheaders\u001b[0m \u001b[0;34m=\u001b[0m \u001b[0mmake_ua\u001b[0m\u001b[0;34m(\u001b[0m\u001b[0;34m)\u001b[0m\u001b[0;34m,\u001b[0m \u001b[0;34m**\u001b[0m\u001b[0mkwargs\u001b[0m\u001b[0;34m)\u001b[0m\u001b[0;34m\u001b[0m\u001b[0;34m\u001b[0m\u001b[0m\n\u001b[0m\u001b[1;32m     28\u001b[0m     \u001b[0mxmldoc\u001b[0m \u001b[0;34m=\u001b[0m \u001b[0mminidom\u001b[0m\u001b[0;34m.\u001b[0m\u001b[0mparseString\u001b[0m\u001b[0;34m(\u001b[0m\u001b[0mres\u001b[0m\u001b[0;34m.\u001b[0m\u001b[0mcontent\u001b[0m\u001b[0;34m)\u001b[0m\u001b[0;34m\u001b[0m\u001b[0;34m\u001b[0m\u001b[0m\n\u001b[1;32m     29\u001b[0m     \u001b[0mval\u001b[0m \u001b[0;34m=\u001b[0m \u001b[0mxmldoc\u001b[0m\u001b[0;34m.\u001b[0m\u001b[0mgetElementsByTagName\u001b[0m\u001b[0;34m(\u001b[0m\u001b[0;34m'query'\u001b[0m\u001b[0;34m)\u001b[0m\u001b[0;34m[\u001b[0m\u001b[0;36m0\u001b[0m\u001b[0;34m]\u001b[0m\u001b[0;34m.\u001b[0m\u001b[0mattributes\u001b[0m\u001b[0;34m[\u001b[0m\u001b[0;34m'fl_count'\u001b[0m\u001b[0;34m]\u001b[0m\u001b[0;34m.\u001b[0m\u001b[0mvalue\u001b[0m\u001b[0;34m\u001b[0m\u001b[0;34m\u001b[0m\u001b[0m\n",
            "\u001b[0;32m/usr/local/lib/python3.7/site-packages/requests/api.py\u001b[0m in \u001b[0;36mget\u001b[0;34m(url, params, **kwargs)\u001b[0m\n\u001b[1;32m     73\u001b[0m \u001b[0;34m\u001b[0m\u001b[0m\n\u001b[1;32m     74\u001b[0m     \u001b[0mkwargs\u001b[0m\u001b[0;34m.\u001b[0m\u001b[0msetdefault\u001b[0m\u001b[0;34m(\u001b[0m\u001b[0;34m'allow_redirects'\u001b[0m\u001b[0;34m,\u001b[0m \u001b[0;32mTrue\u001b[0m\u001b[0;34m)\u001b[0m\u001b[0;34m\u001b[0m\u001b[0;34m\u001b[0m\u001b[0m\n\u001b[0;32m---> 75\u001b[0;31m     \u001b[0;32mreturn\u001b[0m \u001b[0mrequest\u001b[0m\u001b[0;34m(\u001b[0m\u001b[0;34m'get'\u001b[0m\u001b[0;34m,\u001b[0m \u001b[0murl\u001b[0m\u001b[0;34m,\u001b[0m \u001b[0mparams\u001b[0m\u001b[0;34m=\u001b[0m\u001b[0mparams\u001b[0m\u001b[0;34m,\u001b[0m \u001b[0;34m**\u001b[0m\u001b[0mkwargs\u001b[0m\u001b[0;34m)\u001b[0m\u001b[0;34m\u001b[0m\u001b[0;34m\u001b[0m\u001b[0m\n\u001b[0m\u001b[1;32m     76\u001b[0m \u001b[0;34m\u001b[0m\u001b[0m\n\u001b[1;32m     77\u001b[0m \u001b[0;34m\u001b[0m\u001b[0m\n",
            "\u001b[0;32m/usr/local/lib/python3.7/site-packages/requests/api.py\u001b[0m in \u001b[0;36mrequest\u001b[0;34m(method, url, **kwargs)\u001b[0m\n\u001b[1;32m     58\u001b[0m     \u001b[0;31m# cases, and look like a memory leak in others.\u001b[0m\u001b[0;34m\u001b[0m\u001b[0;34m\u001b[0m\u001b[0;34m\u001b[0m\u001b[0m\n\u001b[1;32m     59\u001b[0m     \u001b[0;32mwith\u001b[0m \u001b[0msessions\u001b[0m\u001b[0;34m.\u001b[0m\u001b[0mSession\u001b[0m\u001b[0;34m(\u001b[0m\u001b[0;34m)\u001b[0m \u001b[0;32mas\u001b[0m \u001b[0msession\u001b[0m\u001b[0;34m:\u001b[0m\u001b[0;34m\u001b[0m\u001b[0;34m\u001b[0m\u001b[0m\n\u001b[0;32m---> 60\u001b[0;31m         \u001b[0;32mreturn\u001b[0m \u001b[0msession\u001b[0m\u001b[0;34m.\u001b[0m\u001b[0mrequest\u001b[0m\u001b[0;34m(\u001b[0m\u001b[0mmethod\u001b[0m\u001b[0;34m=\u001b[0m\u001b[0mmethod\u001b[0m\u001b[0;34m,\u001b[0m \u001b[0murl\u001b[0m\u001b[0;34m=\u001b[0m\u001b[0murl\u001b[0m\u001b[0;34m,\u001b[0m \u001b[0;34m**\u001b[0m\u001b[0mkwargs\u001b[0m\u001b[0;34m)\u001b[0m\u001b[0;34m\u001b[0m\u001b[0;34m\u001b[0m\u001b[0m\n\u001b[0m\u001b[1;32m     61\u001b[0m \u001b[0;34m\u001b[0m\u001b[0m\n\u001b[1;32m     62\u001b[0m \u001b[0;34m\u001b[0m\u001b[0m\n",
            "\u001b[0;32m/usr/local/lib/python3.7/site-packages/requests/sessions.py\u001b[0m in \u001b[0;36mrequest\u001b[0;34m(self, method, url, params, data, headers, cookies, files, auth, timeout, allow_redirects, proxies, hooks, stream, verify, cert, json)\u001b[0m\n\u001b[1;32m    531\u001b[0m         }\n\u001b[1;32m    532\u001b[0m         \u001b[0msend_kwargs\u001b[0m\u001b[0;34m.\u001b[0m\u001b[0mupdate\u001b[0m\u001b[0;34m(\u001b[0m\u001b[0msettings\u001b[0m\u001b[0;34m)\u001b[0m\u001b[0;34m\u001b[0m\u001b[0;34m\u001b[0m\u001b[0m\n\u001b[0;32m--> 533\u001b[0;31m         \u001b[0mresp\u001b[0m \u001b[0;34m=\u001b[0m \u001b[0mself\u001b[0m\u001b[0;34m.\u001b[0m\u001b[0msend\u001b[0m\u001b[0;34m(\u001b[0m\u001b[0mprep\u001b[0m\u001b[0;34m,\u001b[0m \u001b[0;34m**\u001b[0m\u001b[0msend_kwargs\u001b[0m\u001b[0;34m)\u001b[0m\u001b[0;34m\u001b[0m\u001b[0;34m\u001b[0m\u001b[0m\n\u001b[0m\u001b[1;32m    534\u001b[0m \u001b[0;34m\u001b[0m\u001b[0m\n\u001b[1;32m    535\u001b[0m         \u001b[0;32mreturn\u001b[0m \u001b[0mresp\u001b[0m\u001b[0;34m\u001b[0m\u001b[0;34m\u001b[0m\u001b[0m\n",
            "\u001b[0;32m/usr/local/lib/python3.7/site-packages/requests/sessions.py\u001b[0m in \u001b[0;36msend\u001b[0;34m(self, request, **kwargs)\u001b[0m\n\u001b[1;32m    644\u001b[0m \u001b[0;34m\u001b[0m\u001b[0m\n\u001b[1;32m    645\u001b[0m         \u001b[0;31m# Send the request\u001b[0m\u001b[0;34m\u001b[0m\u001b[0;34m\u001b[0m\u001b[0;34m\u001b[0m\u001b[0m\n\u001b[0;32m--> 646\u001b[0;31m         \u001b[0mr\u001b[0m \u001b[0;34m=\u001b[0m \u001b[0madapter\u001b[0m\u001b[0;34m.\u001b[0m\u001b[0msend\u001b[0m\u001b[0;34m(\u001b[0m\u001b[0mrequest\u001b[0m\u001b[0;34m,\u001b[0m \u001b[0;34m**\u001b[0m\u001b[0mkwargs\u001b[0m\u001b[0;34m)\u001b[0m\u001b[0;34m\u001b[0m\u001b[0;34m\u001b[0m\u001b[0m\n\u001b[0m\u001b[1;32m    647\u001b[0m \u001b[0;34m\u001b[0m\u001b[0m\n\u001b[1;32m    648\u001b[0m         \u001b[0;31m# Total elapsed time of the request (approximately)\u001b[0m\u001b[0;34m\u001b[0m\u001b[0;34m\u001b[0m\u001b[0;34m\u001b[0m\u001b[0m\n",
            "\u001b[0;32m/usr/local/lib/python3.7/site-packages/requests/adapters.py\u001b[0m in \u001b[0;36msend\u001b[0;34m(self, request, stream, timeout, verify, cert, proxies)\u001b[0m\n\u001b[1;32m    447\u001b[0m                     \u001b[0mdecode_content\u001b[0m\u001b[0;34m=\u001b[0m\u001b[0;32mFalse\u001b[0m\u001b[0;34m,\u001b[0m\u001b[0;34m\u001b[0m\u001b[0;34m\u001b[0m\u001b[0m\n\u001b[1;32m    448\u001b[0m                     \u001b[0mretries\u001b[0m\u001b[0;34m=\u001b[0m\u001b[0mself\u001b[0m\u001b[0;34m.\u001b[0m\u001b[0mmax_retries\u001b[0m\u001b[0;34m,\u001b[0m\u001b[0;34m\u001b[0m\u001b[0;34m\u001b[0m\u001b[0m\n\u001b[0;32m--> 449\u001b[0;31m                     \u001b[0mtimeout\u001b[0m\u001b[0;34m=\u001b[0m\u001b[0mtimeout\u001b[0m\u001b[0;34m\u001b[0m\u001b[0;34m\u001b[0m\u001b[0m\n\u001b[0m\u001b[1;32m    450\u001b[0m                 )\n\u001b[1;32m    451\u001b[0m \u001b[0;34m\u001b[0m\u001b[0m\n",
            "\u001b[0;32m/usr/local/lib/python3.7/site-packages/urllib3/connectionpool.py\u001b[0m in \u001b[0;36murlopen\u001b[0;34m(self, method, url, body, headers, retries, redirect, assert_same_host, timeout, pool_timeout, release_conn, chunked, body_pos, **response_kw)\u001b[0m\n\u001b[1;32m    598\u001b[0m                                                   \u001b[0mtimeout\u001b[0m\u001b[0;34m=\u001b[0m\u001b[0mtimeout_obj\u001b[0m\u001b[0;34m,\u001b[0m\u001b[0;34m\u001b[0m\u001b[0;34m\u001b[0m\u001b[0m\n\u001b[1;32m    599\u001b[0m                                                   \u001b[0mbody\u001b[0m\u001b[0;34m=\u001b[0m\u001b[0mbody\u001b[0m\u001b[0;34m,\u001b[0m \u001b[0mheaders\u001b[0m\u001b[0;34m=\u001b[0m\u001b[0mheaders\u001b[0m\u001b[0;34m,\u001b[0m\u001b[0;34m\u001b[0m\u001b[0;34m\u001b[0m\u001b[0m\n\u001b[0;32m--> 600\u001b[0;31m                                                   chunked=chunked)\n\u001b[0m\u001b[1;32m    601\u001b[0m \u001b[0;34m\u001b[0m\u001b[0m\n\u001b[1;32m    602\u001b[0m             \u001b[0;31m# If we're going to release the connection in ``finally:``, then\u001b[0m\u001b[0;34m\u001b[0m\u001b[0;34m\u001b[0m\u001b[0;34m\u001b[0m\u001b[0m\n",
            "\u001b[0;32m/usr/local/lib/python3.7/site-packages/urllib3/connectionpool.py\u001b[0m in \u001b[0;36m_make_request\u001b[0;34m(self, conn, method, url, timeout, chunked, **httplib_request_kw)\u001b[0m\n\u001b[1;32m    378\u001b[0m             \u001b[0;32mexcept\u001b[0m \u001b[0mTypeError\u001b[0m\u001b[0;34m:\u001b[0m  \u001b[0;31m# Python 3\u001b[0m\u001b[0;34m\u001b[0m\u001b[0;34m\u001b[0m\u001b[0m\n\u001b[1;32m    379\u001b[0m                 \u001b[0;32mtry\u001b[0m\u001b[0;34m:\u001b[0m\u001b[0;34m\u001b[0m\u001b[0;34m\u001b[0m\u001b[0m\n\u001b[0;32m--> 380\u001b[0;31m                     \u001b[0mhttplib_response\u001b[0m \u001b[0;34m=\u001b[0m \u001b[0mconn\u001b[0m\u001b[0;34m.\u001b[0m\u001b[0mgetresponse\u001b[0m\u001b[0;34m(\u001b[0m\u001b[0;34m)\u001b[0m\u001b[0;34m\u001b[0m\u001b[0;34m\u001b[0m\u001b[0m\n\u001b[0m\u001b[1;32m    381\u001b[0m                 \u001b[0;32mexcept\u001b[0m \u001b[0mException\u001b[0m \u001b[0;32mas\u001b[0m \u001b[0me\u001b[0m\u001b[0;34m:\u001b[0m\u001b[0;34m\u001b[0m\u001b[0;34m\u001b[0m\u001b[0m\n\u001b[1;32m    382\u001b[0m                     \u001b[0;31m# Remove the TypeError from the exception chain in Python 3;\u001b[0m\u001b[0;34m\u001b[0m\u001b[0;34m\u001b[0m\u001b[0;34m\u001b[0m\u001b[0m\n",
            "\u001b[0;32m/usr/local/Cellar/python/3.7.2_2/Frameworks/Python.framework/Versions/3.7/lib/python3.7/http/client.py\u001b[0m in \u001b[0;36mgetresponse\u001b[0;34m(self)\u001b[0m\n\u001b[1;32m   1319\u001b[0m         \u001b[0;32mtry\u001b[0m\u001b[0;34m:\u001b[0m\u001b[0;34m\u001b[0m\u001b[0;34m\u001b[0m\u001b[0m\n\u001b[1;32m   1320\u001b[0m             \u001b[0;32mtry\u001b[0m\u001b[0;34m:\u001b[0m\u001b[0;34m\u001b[0m\u001b[0;34m\u001b[0m\u001b[0m\n\u001b[0;32m-> 1321\u001b[0;31m                 \u001b[0mresponse\u001b[0m\u001b[0;34m.\u001b[0m\u001b[0mbegin\u001b[0m\u001b[0;34m(\u001b[0m\u001b[0;34m)\u001b[0m\u001b[0;34m\u001b[0m\u001b[0;34m\u001b[0m\u001b[0m\n\u001b[0m\u001b[1;32m   1322\u001b[0m             \u001b[0;32mexcept\u001b[0m \u001b[0mConnectionError\u001b[0m\u001b[0;34m:\u001b[0m\u001b[0;34m\u001b[0m\u001b[0;34m\u001b[0m\u001b[0m\n\u001b[1;32m   1323\u001b[0m                 \u001b[0mself\u001b[0m\u001b[0;34m.\u001b[0m\u001b[0mclose\u001b[0m\u001b[0;34m(\u001b[0m\u001b[0;34m)\u001b[0m\u001b[0;34m\u001b[0m\u001b[0;34m\u001b[0m\u001b[0m\n",
            "\u001b[0;32m/usr/local/Cellar/python/3.7.2_2/Frameworks/Python.framework/Versions/3.7/lib/python3.7/http/client.py\u001b[0m in \u001b[0;36mbegin\u001b[0;34m(self)\u001b[0m\n\u001b[1;32m    294\u001b[0m         \u001b[0;31m# read until we get a non-100 response\u001b[0m\u001b[0;34m\u001b[0m\u001b[0;34m\u001b[0m\u001b[0;34m\u001b[0m\u001b[0m\n\u001b[1;32m    295\u001b[0m         \u001b[0;32mwhile\u001b[0m \u001b[0;32mTrue\u001b[0m\u001b[0;34m:\u001b[0m\u001b[0;34m\u001b[0m\u001b[0;34m\u001b[0m\u001b[0m\n\u001b[0;32m--> 296\u001b[0;31m             \u001b[0mversion\u001b[0m\u001b[0;34m,\u001b[0m \u001b[0mstatus\u001b[0m\u001b[0;34m,\u001b[0m \u001b[0mreason\u001b[0m \u001b[0;34m=\u001b[0m \u001b[0mself\u001b[0m\u001b[0;34m.\u001b[0m\u001b[0m_read_status\u001b[0m\u001b[0;34m(\u001b[0m\u001b[0;34m)\u001b[0m\u001b[0;34m\u001b[0m\u001b[0;34m\u001b[0m\u001b[0m\n\u001b[0m\u001b[1;32m    297\u001b[0m             \u001b[0;32mif\u001b[0m \u001b[0mstatus\u001b[0m \u001b[0;34m!=\u001b[0m \u001b[0mCONTINUE\u001b[0m\u001b[0;34m:\u001b[0m\u001b[0;34m\u001b[0m\u001b[0;34m\u001b[0m\u001b[0m\n\u001b[1;32m    298\u001b[0m                 \u001b[0;32mbreak\u001b[0m\u001b[0;34m\u001b[0m\u001b[0;34m\u001b[0m\u001b[0m\n",
            "\u001b[0;32m/usr/local/Cellar/python/3.7.2_2/Frameworks/Python.framework/Versions/3.7/lib/python3.7/http/client.py\u001b[0m in \u001b[0;36m_read_status\u001b[0;34m(self)\u001b[0m\n\u001b[1;32m    255\u001b[0m \u001b[0;34m\u001b[0m\u001b[0m\n\u001b[1;32m    256\u001b[0m     \u001b[0;32mdef\u001b[0m \u001b[0m_read_status\u001b[0m\u001b[0;34m(\u001b[0m\u001b[0mself\u001b[0m\u001b[0;34m)\u001b[0m\u001b[0;34m:\u001b[0m\u001b[0;34m\u001b[0m\u001b[0;34m\u001b[0m\u001b[0m\n\u001b[0;32m--> 257\u001b[0;31m         \u001b[0mline\u001b[0m \u001b[0;34m=\u001b[0m \u001b[0mstr\u001b[0m\u001b[0;34m(\u001b[0m\u001b[0mself\u001b[0m\u001b[0;34m.\u001b[0m\u001b[0mfp\u001b[0m\u001b[0;34m.\u001b[0m\u001b[0mreadline\u001b[0m\u001b[0;34m(\u001b[0m\u001b[0m_MAXLINE\u001b[0m \u001b[0;34m+\u001b[0m \u001b[0;36m1\u001b[0m\u001b[0;34m)\u001b[0m\u001b[0;34m,\u001b[0m \u001b[0;34m\"iso-8859-1\"\u001b[0m\u001b[0;34m)\u001b[0m\u001b[0;34m\u001b[0m\u001b[0;34m\u001b[0m\u001b[0m\n\u001b[0m\u001b[1;32m    258\u001b[0m         \u001b[0;32mif\u001b[0m \u001b[0mlen\u001b[0m\u001b[0;34m(\u001b[0m\u001b[0mline\u001b[0m\u001b[0;34m)\u001b[0m \u001b[0;34m>\u001b[0m \u001b[0m_MAXLINE\u001b[0m\u001b[0;34m:\u001b[0m\u001b[0;34m\u001b[0m\u001b[0;34m\u001b[0m\u001b[0m\n\u001b[1;32m    259\u001b[0m             \u001b[0;32mraise\u001b[0m \u001b[0mLineTooLong\u001b[0m\u001b[0;34m(\u001b[0m\u001b[0;34m\"status line\"\u001b[0m\u001b[0;34m)\u001b[0m\u001b[0;34m\u001b[0m\u001b[0;34m\u001b[0m\u001b[0m\n",
            "\u001b[0;32m/usr/local/Cellar/python/3.7.2_2/Frameworks/Python.framework/Versions/3.7/lib/python3.7/socket.py\u001b[0m in \u001b[0;36mreadinto\u001b[0;34m(self, b)\u001b[0m\n\u001b[1;32m    587\u001b[0m         \u001b[0;32mwhile\u001b[0m \u001b[0;32mTrue\u001b[0m\u001b[0;34m:\u001b[0m\u001b[0;34m\u001b[0m\u001b[0;34m\u001b[0m\u001b[0m\n\u001b[1;32m    588\u001b[0m             \u001b[0;32mtry\u001b[0m\u001b[0;34m:\u001b[0m\u001b[0;34m\u001b[0m\u001b[0;34m\u001b[0m\u001b[0m\n\u001b[0;32m--> 589\u001b[0;31m                 \u001b[0;32mreturn\u001b[0m \u001b[0mself\u001b[0m\u001b[0;34m.\u001b[0m\u001b[0m_sock\u001b[0m\u001b[0;34m.\u001b[0m\u001b[0mrecv_into\u001b[0m\u001b[0;34m(\u001b[0m\u001b[0mb\u001b[0m\u001b[0;34m)\u001b[0m\u001b[0;34m\u001b[0m\u001b[0;34m\u001b[0m\u001b[0m\n\u001b[0m\u001b[1;32m    590\u001b[0m             \u001b[0;32mexcept\u001b[0m \u001b[0mtimeout\u001b[0m\u001b[0;34m:\u001b[0m\u001b[0;34m\u001b[0m\u001b[0;34m\u001b[0m\u001b[0m\n\u001b[1;32m    591\u001b[0m                 \u001b[0mself\u001b[0m\u001b[0;34m.\u001b[0m\u001b[0m_timeout_occurred\u001b[0m \u001b[0;34m=\u001b[0m \u001b[0;32mTrue\u001b[0m\u001b[0;34m\u001b[0m\u001b[0;34m\u001b[0m\u001b[0m\n",
            "\u001b[0;31mKeyboardInterrupt\u001b[0m: "
          ]
        }
      ],
      "execution_count": 16,
      "metadata": {
        "collapsed": false,
        "outputHidden": false,
        "inputHidden": false
      }
    },
    {
      "cell_type": "code",
      "source": [
        "paper['published-print']"
      ],
      "outputs": [
        {
          "output_type": "execute_result",
          "execution_count": 9,
          "data": {
            "text/plain": [
              "{'date-parts': [[2006, 12]]}"
            ]
          },
          "metadata": {}
        }
      ],
      "execution_count": 9,
      "metadata": {
        "collapsed": false,
        "outputHidden": false,
        "inputHidden": false
      }
    },
    {
      "cell_type": "code",
      "source": [],
      "outputs": [],
      "execution_count": 10,
      "metadata": {
        "collapsed": false,
        "outputHidden": false,
        "inputHidden": false
      }
    }
  ],
  "metadata": {
    "kernel_info": {
      "name": "python3"
    },
    "language_info": {
      "name": "python",
      "version": "3.7.2",
      "mimetype": "text/x-python",
      "codemirror_mode": {
        "name": "ipython",
        "version": 3
      },
      "pygments_lexer": "ipython3",
      "nbconvert_exporter": "python",
      "file_extension": ".py"
    },
    "kernelspec": {
      "name": "python3",
      "language": "python",
      "display_name": "Python 3"
    },
    "nteract": {
      "version": "0.12.3"
    }
  },
  "nbformat": 4,
  "nbformat_minor": 4
}