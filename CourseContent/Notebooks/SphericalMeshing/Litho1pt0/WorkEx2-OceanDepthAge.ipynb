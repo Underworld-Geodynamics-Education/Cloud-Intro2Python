{
 "cells": [
  {
   "cell_type": "markdown",
   "metadata": {},
   "source": [
    "## Age of the oceans / depth of the oceans\n",
    "\n",
    "\n",
    "\n"
   ]
  },
  {
   "cell_type": "code",
   "execution_count": 1,
   "metadata": {},
   "outputs": [],
   "source": [
    "## This is a worked example for stripy if we don't use litho1.0 information\n",
    "\n",
    "import litho1pt0 as litho1pt0\n",
    "import stripy\n",
    "import numpy as np\n",
    "\n",
    "import gdal\n",
    "import cartopy\n",
    "import cartopy.crs as ccrs\n"
   ]
  },
  {
   "cell_type": "code",
   "execution_count": 2,
   "metadata": {},
   "outputs": [],
   "source": [
    "%matplotlib inline\n",
    "import matplotlib.pyplot as plt"
   ]
  },
  {
   "cell_type": "code",
   "execution_count": null,
   "metadata": {
    "hide_input": false
   },
   "outputs": [],
   "source": [
    "even_mesh = stripy.spherical_meshes.icosahedral_mesh(include_face_points=True, tree=True, refinement_levels=2)\n",
    "number_of_mesh_points = even_mesh.npoints"
   ]
  },
  {
   "cell_type": "code",
   "execution_count": null,
   "metadata": {},
   "outputs": [],
   "source": [
    "latitudes_in_radians = even_mesh.lats\n",
    "latitudes_in_degrees = np.degrees(latitudes_in_radians) \n",
    "\n",
    "longitudes_in_radians = even_mesh.lons \n",
    "longitudes_in_degrees = np.degrees(longitudes_in_radians)%360.0 - 180.0"
   ]
  },
  {
   "cell_type": "code",
   "execution_count": null,
   "metadata": {},
   "outputs": [],
   "source": [
    "## Obtain bathymetry information from the ETOPO1 dataset and store in numpy image format\n",
    "\n",
    "gtiff = gdal.Open(\"Data/ETOPO1_Ice_g_geotiff.tif\")\n",
    "# width = gtiff.RasterXSize\n",
    "# height = gtiff.RasterYSize\n",
    "# gt = gtiff.GetGeoTransform()\n",
    "img = gtiff.GetRasterBand(1).ReadAsArray().T\n",
    "img = np.fliplr(img)\n"
   ]
  },
  {
   "cell_type": "code",
   "execution_count": null,
   "metadata": {},
   "outputs": [],
   "source": [
    "## Obtain the age data and store in img format\n",
    "\n",
    "datasize = (1801, 3601, 3)\n",
    "age_data = np.empty(datasize)\n",
    "\n",
    "ages = np.load(\"Data/global_age_data.3.6.z.npz\")[\"ageData\"]\n",
    "ages[np.isnan(ages)] = -1000.0\n",
    "ages = (np.fliplr(ages.T))\n"
   ]
  },
  {
   "cell_type": "code",
   "execution_count": null,
   "metadata": {},
   "outputs": [],
   "source": [
    "## Map heights to the sample grid points\n",
    "\n",
    "def map_raster_to_mesh(mesh, raster):\n",
    "\n",
    "    latitudes_in_radians  = mesh.lats\n",
    "    longitudes_in_radians = mesh.lons \n",
    "    latitudes_in_degrees  = np.degrees(latitudes_in_radians) \n",
    "    longitudes_in_degrees = np.degrees(longitudes_in_radians)%360.0 - 180.0\n",
    "\n",
    "    dlons = np.mod(longitudes_in_degrees+180.0, 360.0)\n",
    "    dlats = np.mod(latitudes_in_degrees+90, 180.0)\n",
    "\n",
    "    ilons = raster.shape[0] * dlons / 360.0\n",
    "    ilats = raster.shape[1] * dlats / 180.0\n",
    "\n",
    "    icoords = np.array((ilons, ilats))\n",
    "\n",
    "    from scipy import ndimage\n",
    "\n",
    "    mvals = ndimage.map_coordinates(raster, icoords , order=3, mode='nearest').astype(np.float)\n",
    "    \n",
    "    return mvals\n",
    "\n"
   ]
  },
  {
   "cell_type": "code",
   "execution_count": null,
   "metadata": {},
   "outputs": [],
   "source": [
    "\n",
    "meshheights = map_raster_to_mesh(even_mesh, img)\n",
    "meshages    = map_raster_to_mesh(even_mesh, ages)"
   ]
  },
  {
   "cell_type": "code",
   "execution_count": null,
   "metadata": {},
   "outputs": [],
   "source": [
    "## Improve the grid to be dense in the oceans, sparse elsewhere, then remap the data\n",
    "\n",
    "## Some code here\n",
    "\n",
    "## If you refine the mesh to add new points / delete points on land etc, realise that you\n",
    "## will need to re-map the data to the new mesh. You probably should make a function to do that for each \n",
    "## dataset.\n",
    "\n",
    "for i in range(0,3):\n",
    "    nodes_to_refine = np.where(meshheights < -1000)\n",
    "    allnodes = even_mesh.centroid_refine_triangulation_by_vertices(nodes_to_refine)\n",
    "    even_mesh = stripy.sTriangulation(allnodes[0], allnodes[1], tree=True)\n",
    "    meshheights = map_raster_to_mesh(even_mesh, img)\n",
    "    meshages    = map_raster_to_mesh(even_mesh, ages)\n",
    "    \n",
    "    latitudes_in_radians  = even_mesh.lats\n",
    "    longitudes_in_radians = even_mesh.lons \n",
    "    latitudes_in_degrees  = np.degrees(latitudes_in_radians) \n",
    "    longitudes_in_degrees = np.degrees(longitudes_in_radians)%360.0 - 180.0\n"
   ]
  },
  {
   "cell_type": "code",
   "execution_count": null,
   "metadata": {},
   "outputs": [],
   "source": [
    "## Smooth mesh heights\n",
    "\n",
    "meshweights = (meshheights > 0.0) * 1.0 + 0.1\n",
    "\n",
    "smeshheights, sdx = even_mesh.smoothing(meshheights, meshweights, 1.0, 0.25, 0.0001)"
   ]
  },
  {
   "cell_type": "code",
   "execution_count": null,
   "metadata": {},
   "outputs": [],
   "source": [
    "## Is that sensible ?\n",
    "\n",
    "%matplotlib inline\n",
    "\n",
    "import cartopy\n",
    "import cartopy.crs as ccrs\n",
    "import matplotlib.pyplot as plt\n",
    "\n",
    "global_extent     = [-180.0, 180.0, -89, 89]\n",
    "\n",
    "projection0 = ccrs.PlateCarree()\n",
    "projection1 = ccrs.Orthographic(central_longitude=140.0, central_latitude=0.0, globe=None)\n",
    "projection2 = ccrs.Mollweide()\n",
    "projection3 = ccrs.Robinson()\n",
    "\n",
    "fig = plt.figure(figsize=(12, 12), facecolor=\"none\")\n",
    "ax  = plt.subplot(111, projection=projection2)\n",
    "ax.set_global()\n",
    "\n",
    "colormap = plt.cm.get_cmap('RdYlBu_r', 10)\n",
    "\n",
    "m = ax.scatter(longitudes_in_degrees, latitudes_in_degrees, \n",
    "               c=meshages, cmap=colormap, vmin=0.0, vmax=180.0,\n",
    "               s=10.0, transform=ccrs.Geodetic())\n",
    "\n",
    "plt.colorbar(mappable=m, orientation=\"horizontal\", shrink=0.5)\n",
    "ax.coastlines(resolution=\"50m\", zorder=100, linewidth=0.5)\n"
   ]
  },
  {
   "cell_type": "code",
   "execution_count": null,
   "metadata": {},
   "outputs": [],
   "source": [
    "import lavavu\n",
    "\n",
    "striangulationR = even_mesh\n",
    "\n",
    "wireframeI = striangulationR\n",
    "trianglesI = striangulationR\n",
    "\n",
    "lv = lavavu.Viewer(border=False, background=\"#FFFFFF\", resolution=[1000,1000], near=-10.0)\n",
    "\n",
    "# Core \n",
    "\n",
    "cmapName = \"diverge\"\n",
    "\n",
    "tris = lv.triangles(\"datagrid\",  wireframe=False, colour=\"#77ff88\", opacity=1.0)\n",
    "tris.vertices(striangulationR.points)\n",
    "tris.indices(striangulationR.simplices)\n",
    "tris.values(meshages, label=\"data\")\n",
    "tris.colourmap(cmapName, range=[0.0,200.0])\n",
    "\n",
    "tris2 = lv.triangles(\"datagrid2\",  wireframe=True, colour=\"#77ff88\", opacity=1.0)\n",
    "tris2.vertices(striangulationR.points*1.01)\n",
    "tris2.indices(striangulationR.simplices)\n",
    "tris2.values(meshages, label=\"data2\")\n",
    "tris2.colourmap(cmapName, range=[0.0,200.0])\n",
    "\n",
    "\n",
    "tris.control.Checkbox(property='wireframe', label=\"Core - wireframe\")\n",
    "\n",
    "lv.control.Panel()\n",
    "lv.control.Range('specular', range=(0,1), step=0.1, value=0)\n",
    "lv.control.ObjectList()\n",
    "lv.control.show()\n"
   ]
  },
  {
   "cell_type": "code",
   "execution_count": null,
   "metadata": {},
   "outputs": [],
   "source": [
    "fig = plt.figure(figsize=(12, 12), facecolor=\"none\")\n",
    "ax  = plt.subplot(111)\n",
    "ax.scatter(meshages, smeshheights,s=1.0)\n",
    "ax.scatter(meshages, meshheights,s=0.5)\n",
    "ax.set_xlim([0.0,200.0])"
   ]
  },
  {
   "cell_type": "code",
   "execution_count": null,
   "metadata": {},
   "outputs": [],
   "source": [
    "## Use scipy optimize to fit this data to  h = a + sqrt(b * age)\n",
    "\n",
    "from scipy import optimize\n",
    "\n"
   ]
  },
  {
   "cell_type": "code",
   "execution_count": null,
   "metadata": {},
   "outputs": [],
   "source": [
    "smeshheights.max(), meshheights.max()"
   ]
  },
  {
   "cell_type": "code",
   "execution_count": null,
   "metadata": {},
   "outputs": [],
   "source": []
  }
 ],
 "metadata": {
  "kernelspec": {
   "display_name": "Python 2",
   "language": "python",
   "name": "python2"
  },
  "language_info": {
   "codemirror_mode": {
    "name": "ipython",
    "version": 2
   },
   "file_extension": ".py",
   "mimetype": "text/x-python",
   "name": "python",
   "nbconvert_exporter": "python",
   "pygments_lexer": "ipython2",
   "version": "2.7.14"
  }
 },
 "nbformat": 4,
 "nbformat_minor": 2
}
