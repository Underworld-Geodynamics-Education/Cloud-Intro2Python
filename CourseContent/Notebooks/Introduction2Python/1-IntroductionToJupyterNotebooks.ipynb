{
 "cells": [
  {
   "cell_type": "markdown",
   "metadata": {
    "deletable": true,
    "editable": true
   },
   "source": [
    "## Jupyter Notebooks \n",
    "\n",
    "We are going to be using `jupyter` notebooks for this course and a version of python known as `ipython` in the notebooks. \n",
    "\n",
    "The notebook is a __live__ document that can contain a number of different types of content, including fragments of programs that can actually be run within the text. \n",
    "\n",
    "You can use the notebooks as a scratchpad to process data, for example, and the workflow that you develop is recorded and can be revisited. It's like a lab notebook but for data manipulation and programming. \n",
    "\n",
    "You can export the document you produce as a pdf to make a final version. \n",
    "\n",
    "I am going to encourage you to use notebooks for the many data processing / recording tasks you will face during your degree."
   ]
  },
  {
   "cell_type": "markdown",
   "metadata": {},
   "source": [
    "## Notebook cells\n",
    "\n",
    "A notebook is made up of different __cells__ which contain different types of content and which can be _executed_ by selecting the cell and _running_ it (see toolbar).\n",
    "\n",
    "The results of running a cell depend on the content of the cell. It may produce an output cell beneath it with results, or it may reformat itself.\n",
    "\n",
    "Try double-clicking on this cell and you will see the raw programming language underneath that produces the formatted text. If you run this cell it will display the text again.\n",
    "\n",
    "The cells can have different types of content and will behave accordingly when run. \n",
    "\n",
    "### Formatted text\n",
    "\n",
    "This uses an almost-already-formatted version of text known as `markdown` to make content that can be formatted to look similar to a word document, but which also tends to highlight the intended formatting even if not processed. It is quite a useful form to learn for taking notes.\n",
    "\n",
    "If you look at the raw content you will see how to make\n",
    "\n",
    "   - bullet points\n",
    "     - nested bullet points as well as \n",
    "     - text in __bold__ \n",
    "     - text in _italics_ (or emphasised) \n",
    "   \n",
    "``` sh\n",
    "echo \"Code that can be highlighted for different languages\"\n",
    "ls -l\n",
    "```\n",
    "\n",
    "```python\n",
    "print \"including python, unix shell scripts, fortran\"\n",
    "\n",
    "for i in range(0,100):\n",
    "    print i\n",
    "```\n",
    "\n",
    "Mathematical symbols and formulae that can appear in the text like this _\"the circumference of a circle is $2\\pi r$\"_ or as equations like this:\n",
    "\n",
    "$$\n",
    "\\begin{equation}\n",
    "    A = \\pi r^2\n",
    "\\end{equation}\n",
    "$$\n",
    "\n",
    "BUT you will need to be able to parse the $\\LaTeX$ language to write mathematics. \n",
    "\n",
    "You can add links like this: [also see the markdown cheatsheet](https://github.com/adam-p/markdown-here/wiki/Markdown-Cheatsheet)\n",
    "\n",
    "And images like this: \n",
    "\n",
    "Running cells containing formatted code will replace the cell with the formatted version. This allows you to write a well-formatted page with interleaved code which also can be executed.\n",
    "\n",
    "\n",
    "### Python code\n",
    "\n",
    "Cells which are defined to be code cells contain python statements which will be executed when the cell is run. If multiple cells have code, then they will be run in the order you choose (or if you \"run all\" or \"run all above\" they will be run in the order they are listed)."
   ]
  },
  {
   "cell_type": "code",
   "execution_count": 7,
   "metadata": {
    "collapsed": false,
    "jupyter": {
     "outputs_hidden": false
    },
    "solution": "hidden"
   },
   "outputs": [
    {
     "name": "stdout",
     "output_type": "stream",
     "text": [
      "Hello little world\n"
     ]
    },
    {
     "data": {
      "text/plain": [
       "1"
      ]
     },
     "execution_count": 7,
     "metadata": {},
     "output_type": "execute_result"
    }
   ],
   "source": [
    "## Example of a simple python code cell\n",
    "\n",
    "print( \"Hello little world\")\n",
    "a = 1\n",
    "\n",
    "## The last statement in a cell prints its value \n",
    "a\n",
    "\n",
    "## (this is sometimes a little confusing - add a pass statement to get rid of this !)\n",
    "\n",
    "#pass"
   ]
  },
  {
   "cell_type": "markdown",
   "metadata": {
    "deletable": true,
    "editable": true
   },
   "source": [
    "When you run a code cell, it is just the same as typing all the code into the interpreter. If you run a cell twice it is the same as if you typed everything twice ... the notebook remembers ! You can run some of a notebook or all of it, and you can run cells out of order. This is great for experimenting and getting things right, but be careful, this can break things easily."
   ]
  },
  {
   "cell_type": "code",
   "execution_count": 9,
   "metadata": {
    "collapsed": false,
    "jupyter": {
     "outputs_hidden": false
    }
   },
   "outputs": [
    {
     "name": "stdout",
     "output_type": "stream",
     "text": [
      "Run number 2\n"
     ]
    }
   ],
   "source": [
    "print (\"Run number {}\".format(a))\n",
    "        \n",
    "a += 1"
   ]
  },
  {
   "cell_type": "markdown",
   "metadata": {
    "deletable": true,
    "editable": true
   },
   "source": [
    "### Hidden cells\n",
    "\n",
    "In this notebook, I have added some extensions that mean some cells are hidden (I use this to hide some of the details when we learn something complicated). The hidden cells are small, blank lines that you can view by selecting them and hitting the carat button in the toolbar. \n",
    "\n",
    "There is one hidden below ... see if you can find it !"
   ]
  },
  {
   "cell_type": "code",
   "execution_count": null,
   "metadata": {
    "collapsed": false,
    "deletable": true,
    "editable": true,
    "jupyter": {
     "outputs_hidden": false
    }
   },
   "outputs": [],
   "source": [
    "## The simplest possible python program\n",
    "\n",
    "print \"You can run but you can't hide\""
   ]
  },
  {
   "cell_type": "code",
   "execution_count": null,
   "metadata": {
    "collapsed": false,
    "deletable": true,
    "editable": true,
    "hide_input": true,
    "jupyter": {
     "outputs_hidden": false
    },
    "solution": "hidden"
   },
   "outputs": [],
   "source": [
    "## This is a hidden cell !\n",
    "\n",
    "## You can't usually see it but it still runs if you execute the notebook\n",
    "\n",
    "print \"Yes you can !\""
   ]
  },
  {
   "cell_type": "markdown",
   "metadata": {
    "deletable": true,
    "editable": true,
    "solution": "hidden",
    "solution_first": true
   },
   "source": [
    "### Exercise cells\n",
    "\n",
    "Some cells are intended to be used for class __exercises__ and have a little plus sign which indicates you can expand the cell to see a worked example or answer to a question. These cells are not executed unless they are expanded and run individually. Try this one both ways."
   ]
  },
  {
   "cell_type": "code",
   "execution_count": null,
   "metadata": {
    "collapsed": false,
    "deletable": true,
    "editable": true,
    "jupyter": {
     "outputs_hidden": false
    },
    "solution": "hidden"
   },
   "outputs": [],
   "source": [
    "print \"You can hide and you can't run !\""
   ]
  },
  {
   "cell_type": "markdown",
   "metadata": {
    "solution": "hidden",
    "solution_first": true
   },
   "source": [
    "## A more interesting exercise\n",
    "\n",
    "Why does this not work ?\n",
    "\n",
    "```python\n",
    "print \"Run number {}\".format(b)   \n",
    "b += 1\n",
    "```\n",
    "\n",
    "and, more importantly, how would you fix this ?"
   ]
  },
  {
   "cell_type": "code",
   "execution_count": null,
   "metadata": {
    "collapsed": false,
    "jupyter": {
     "outputs_hidden": false
    },
    "solution": "hidden"
   },
   "outputs": [],
   "source": [
    "# Try it !!\n",
    "\n"
   ]
  },
  {
   "cell_type": "code",
   "execution_count": null,
   "metadata": {
    "collapsed": false,
    "jupyter": {
     "outputs_hidden": false
    },
    "solution": "hidden"
   },
   "outputs": [],
   "source": [
    "## Because b hasn't been defined. \n",
    "\n",
    "try:\n",
    "    print \"Run number {}\".format(c)\n",
    "except: \n",
    "    print \"Run number 1\"\n",
    "    c = 1\n",
    "        \n",
    "c += 1\n"
   ]
  }
 ],
 "metadata": {
  "kernelspec": {
   "display_name": "Python 3",
   "language": "python",
   "name": "python3"
  },
  "language_info": {
   "codemirror_mode": {
    "name": "ipython",
    "version": 3
   },
   "file_extension": ".py",
   "mimetype": "text/x-python",
   "name": "python",
   "nbconvert_exporter": "python",
   "pygments_lexer": "ipython3",
   "version": "3.7.3"
  }
 },
 "nbformat": 4,
 "nbformat_minor": 4
}
