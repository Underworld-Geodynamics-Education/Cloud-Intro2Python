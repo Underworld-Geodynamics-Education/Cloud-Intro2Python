{
 "cells": [
  {
   "cell_type": "markdown",
   "metadata": {
    "deletable": true,
    "editable": true
   },
   "source": [
    "# In class exercises\n",
    "\n",
    "The in-class exercises in the course are usually just building blocks for the exercises I have set you now. You are considered to have done all the exercises (challenges) during the classes you attended.\n",
    "\n",
    "Well done ! You passed that part of the class.  \n",
    "\n",
    "##### Game of life Exercise\n",
    "\n",
    "The one major class assessment task that you need to hand in is from the [Game of Life notebook](/notebooks/Notebooks/Numpy%2BScipy/3%20-%20Discussion%20-%20The%20Game%20of%20Life.ipynb).\n",
    "\n",
    "I asked you to consider building a \"robust\" game of life code\n",
    "\n",
    "\n",
    "Let's try to make a series of frames as images for a number of frames of the game of life. We could also try changing the parameters of the game to see what patterns develop. \n",
    "\n",
    "  - What resolution can we reach ? \n",
    "  - Can we work out ways to make this run faster ?\n",
    "  - What if there is more than one happy state where new cells grow ?\n",
    "\n",
    "I also asked you to write some simple tests based on the known states of the game of life\n",
    "\n",
    "  - stationary configurations\n",
    "  - oscillators\n",
    "  - translators\n",
    "  \n",
    "(See the following link: [Game of Life](http://web.stanford.edu/~cdebs/GameOfLife/) for explanations of the above states, alternative rules, complicated repeating patterns.\n",
    "\n",
    "Finally I also asked you to consider what is taking the time in the code. How well does it scale to bigger arrays ?  Can you see any obvious improvements to the logic that might give better speed ?"
   ]
  },
  {
   "cell_type": "code",
   "execution_count": null,
   "metadata": {
    "collapsed": true,
    "deletable": true,
    "editable": true
   },
   "outputs": [],
   "source": []
  }
 ],
 "metadata": {
  "kernelspec": {
   "display_name": "Python 2",
   "language": "python",
   "name": "python2"
  },
  "language_info": {
   "codemirror_mode": {
    "name": "ipython",
    "version": 2
   },
   "file_extension": ".py",
   "mimetype": "text/x-python",
   "name": "python",
   "nbconvert_exporter": "python",
   "pygments_lexer": "ipython2",
   "version": "2.7.13"
  }
 },
 "nbformat": 4,
 "nbformat_minor": 2
}
