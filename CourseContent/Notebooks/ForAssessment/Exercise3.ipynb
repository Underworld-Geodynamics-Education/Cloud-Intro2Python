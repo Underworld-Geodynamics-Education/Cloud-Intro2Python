{
 "cells": [
  {
   "cell_type": "markdown",
   "metadata": {
    "deletable": true,
    "editable": true
   },
   "source": [
    "## Exercise 3\n",
    "\n",
    "In the [groundwater flow notebook](/notebooks/Notebooks/SolveMathProblems/1%20-%20GroundwaterFlow-LectureNotes.ipynb) we considered the  differential equation controlling groundwater flow which relates the rate of change in $h$, the hydraulic head (a measure of pressure) to spatial gradients in the same quantity. \n",
    "\n",
    "$$ S \\frac{\\partial h}{\\partial t} + H = K(x)  \\frac{\\partial^2 h}{\\partial x^2} +\n",
    "       \\frac{\\partial h}{\\partial x}\\frac{\\partial K(x)}{\\partial x}    $$\n",
    "       \n",
    "       \n",
    "We ignored $H$ and solved a number of examples. \n",
    "\n",
    "You probably noticed that we used an unstable method for calculating the time progression of the pressure, $h$. Given all the trouble we went to exploring better ways to do this, don't you think it would be a good idea to try out the Runge-Kutta 2nd order update ?\n",
    "\n",
    "This is not very complicated to do so I would like you to try it __for the case where $K$ is constant__."
   ]
  },
  {
   "cell_type": "markdown",
   "metadata": {
    "collapsed": true,
    "deletable": true,
    "editable": true
   },
   "source": [
    "## Hints\n",
    "\n",
    "You have most of the code you need. The `gradx` function will still be useful ... in fact you really only have to replace the `## timestepping loop`.\n",
    "\n",
    "At the moment it looks like this:\n",
    "\n",
    "\\begin{equation}\n",
    "    h(t+\\Delta t) \\approx h(t) + \\Delta t \\left( \\frac{\\Delta \\left( \\frac{\\kappa \\Delta h}{\\Delta x} \\right)}{ \\Delta x} \\right)\n",
    "\\end{equation}\n",
    "\n",
    "and you need to code up this:\n",
    "\n",
    "\\begin{equation}\n",
    "    h^*(t+\\Delta t /2 ) \\approx h(t) + \\frac{\\Delta t}{2} \\left( \\frac{\\Delta \\left( \\frac{\\kappa \\Delta h}{\\Delta x} \\right)}{ \\Delta x} \\right)\n",
    "\\end{equation}\n",
    "\n",
    "and \n",
    "\n",
    "\\begin{equation}\n",
    "    h(t+\\Delta t) \\approx h(t) + \\Delta t \\left( \\frac{\\Delta \\left( \\frac{\\kappa \\Delta h^*}{\\Delta x} \\right)}{ \\Delta x} \\right)\n",
    "\\end{equation}\n"
   ]
  },
  {
   "cell_type": "code",
   "execution_count": null,
   "metadata": {
    "collapsed": true,
    "deletable": true,
    "editable": true
   },
   "outputs": [],
   "source": [
    "## Your code here"
   ]
  },
  {
   "cell_type": "markdown",
   "metadata": {
    "deletable": true,
    "editable": true
   },
   "source": [
    "We know that there is an instability in the code which occurs if the timestep is too large. Did the \"improved\" timestepping work ? Use the error checking approach we ran through in the in-class exercise to see if there is any improvement, no improvement or does this make things worse."
   ]
  },
  {
   "cell_type": "code",
   "execution_count": null,
   "metadata": {
    "collapsed": true,
    "deletable": true,
    "editable": true
   },
   "outputs": [],
   "source": [
    "## Your test code here"
   ]
  },
  {
   "cell_type": "markdown",
   "metadata": {},
   "source": [
    "## Alternative derivative computation\n",
    "\n",
    "We used the spline interpolation routines from `scipy.interpolate` to compute smooth interpolating functions and derivatives. Try this as an alternative method of computing the second derivative of $h$ in the equations. 1) Does this give better derivatives (compute actual error v. the previous finite difference gradient functiono). Does this make for a more stable solution ?"
   ]
  },
  {
   "cell_type": "code",
   "execution_count": null,
   "metadata": {
    "collapsed": true
   },
   "outputs": [],
   "source": []
  }
 ],
 "metadata": {
  "kernelspec": {
   "display_name": "Python 2",
   "language": "python",
   "name": "python2"
  },
  "language_info": {
   "codemirror_mode": {
    "name": "ipython",
    "version": 2
   },
   "file_extension": ".py",
   "mimetype": "text/x-python",
   "name": "python",
   "nbconvert_exporter": "python",
   "pygments_lexer": "ipython2",
   "version": "2.7.13"
  }
 },
 "nbformat": 4,
 "nbformat_minor": 0
}
