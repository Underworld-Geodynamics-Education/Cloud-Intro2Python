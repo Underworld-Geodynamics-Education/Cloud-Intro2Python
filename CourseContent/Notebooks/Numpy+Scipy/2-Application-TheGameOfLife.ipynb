{
 "cells": [
  {
   "cell_type": "markdown",
   "metadata": {},
   "source": [
    "## The game of life (John Conway)\n",
    "\n",
    "The universe of the Game of Life is an infinite two-dimensional orthogonal grid of square cells, each of which is in one of two possible states, live or dead. Every cell interacts with its eight neighbours, which are the cells that are directly horizontally, vertically, or diagonally adjacent. At each step in time, the following transitions occur:\n",
    "\n",
    "* Any live cell with fewer than two live neighbours dies, as if by needs caused by underpopulation.\n",
    "* Any live cell with more than three live neighbours dies, as if by overcrowding.\n",
    "* Any live cell with two or three live neighbours lives, unchanged, to the next generation.\n",
    "* Any dead cell with exactly three live neighbours becomes a live cell.\n",
    "\n",
    "See [this page](http://web.stanford.edu/~cdebs/GameOfLife/) for some more information. And, note, thanks to Dan Sandiford for setting up this example.\n"
   ]
  },
  {
   "cell_type": "code",
   "execution_count": 1,
   "metadata": {
    "collapsed": true
   },
   "outputs": [
    {
     "name": "stdout",
     "output_type": "stream",
     "text": [
      "Populating the interactive namespace from numpy and matplotlib\n"
     ]
    }
   ],
   "source": [
    "%pylab inline\n",
    "import numpy as np\n",
    "import matplotlib.pyplot as plt\n"
   ]
  },
  {
   "cell_type": "code",
   "execution_count": 4,
   "metadata": {},
   "outputs": [],
   "source": [
    "start = np.array([[1,0,0,0,0,0],\n",
    "                  [0,0,0,1,0,0],\n",
    "                  [0,1,0,1,0,0],\n",
    "                  [0,0,1,1,0,0],\n",
    "                  [0,0,0,0,0,0],\n",
    "                  [0,0,0,0,0,1]])"
   ]
  },
  {
   "cell_type": "markdown",
   "metadata": {},
   "source": [
    "We will talk more about plotting later, but for now we can use this without digging deeper:"
   ]
  },
  {
   "cell_type": "code",
   "execution_count": 5,
   "metadata": {
    "collapsed": true
   },
   "outputs": [
    {
     "data": {
      "text/plain": [
       "<matplotlib.image.AxesImage at 0x105aa48d0>"
      ]
     },
     "execution_count": 5,
     "metadata": {},
     "output_type": "execute_result"
    },
    {
     "data": {
      "image/png": "[encoded data removed]",
      "text/plain": [
       "<matplotlib.figure.Figure at 0x10566dc90>"
      ]
     },
     "metadata": {},
     "output_type": "display_data"
    }
   ],
   "source": [
    "plt.imshow(start, interpolation='nearest', cmap=\"gray\") "
   ]
  },
  {
   "cell_type": "code",
   "execution_count": 10,
   "metadata": {
    "collapsed": true
   },
   "outputs": [
    {
     "name": "stdout",
     "output_type": "stream",
     "text": [
      "[[0 0]\n",
      " [0 0]]\n",
      "[[0 0 1]\n",
      " [1 0 1]\n",
      " [0 1 1]]\n"
     ]
    }
   ],
   "source": [
    "print start[4:8,4:8]  # neighbours of start[5,5]\n",
    "print start[1:4,1:4]  # neighbours of start[2,2]\n",
    "#print start[?:?]  # neighbours of start[1,1]\n",
    "#print start[?:?] # neighbours of start[0,0]"
   ]
  },
  {
   "cell_type": "code",
   "execution_count": 14,
   "metadata": {
    "collapsed": true
   },
   "outputs": [],
   "source": [
    "live_neighbours = np.empty(start.shape)\n",
    "for index, value in np.ndenumerate(start):\n",
    "    #Need to add 2, becase the slicing works like 'up to but not including'\n",
    "    x0 = max(0,(index[0]-1))\n",
    "    x1 = max(0,(index[0]+2))\n",
    "    y0 = max(0,(index[1]-1))\n",
    "    y1 = max(0,(index[1]+2))\n",
    "    subarray = start[x0:x1, y0:y1]\n",
    "    live_neighbours[index] = subarray.sum() - value # need to subtract actual value at that cell..."
   ]
  },
  {
   "cell_type": "code",
   "execution_count": 15,
   "metadata": {
    "collapsed": true
   },
   "outputs": [
    {
     "data": {
      "text/plain": [
       "array([[ 0.,  1.,  1.,  1.,  1.,  0.],\n",
       "       [ 2.,  2.,  3.,  1.,  2.,  0.],\n",
       "       [ 1.,  1.,  5.,  3.,  3.,  0.],\n",
       "       [ 1.,  2.,  3.,  2.,  2.,  0.],\n",
       "       [ 0.,  1.,  2.,  2.,  1.,  0.],\n",
       "       [ 0.,  0.,  0.,  0.,  0.,  0.]])"
      ]
     },
     "execution_count": 15,
     "metadata": {},
     "output_type": "execute_result"
    }
   ],
   "source": [
    "live_neighbours"
   ]
  },
  {
   "cell_type": "markdown",
   "metadata": {},
   "source": [
    "---\n",
    "\n",
    "__Exercise:__   Your task is to write a function that \"runs\" the game of life. This should be possible by filling out the two function templates below. \n",
    "\n",
    "  - conditions: boundaries are always dead\n"
   ]
  },
  {
   "cell_type": "code",
   "execution_count": null,
   "metadata": {},
   "outputs": [],
   "source": [
    "def get_neighbours(start):\n",
    "\"\"\"\n",
    "This function gets the number of live neighbours in the binary array start\n",
    "start : np.ndarray\n",
    "\"\"\" "
   ]
  },
  {
   "cell_type": "code",
   "execution_count": null,
   "metadata": {
    "collapsed": true
   },
   "outputs": [],
   "source": [
    "def game_of_life(start, n):\n",
    "    \"\"\"\n",
    "    this function runs the game of life for n steps...\n",
    "    start : np.ndarray (0s and 1s)\n",
    "    n: int number of steps \n",
    "    \"\"\"\n",
    "    assert (1>= start.min() >= 0) and (1>= start.max() >= 0), \"array must be ones and zeros\"\n",
    "    \n",
    "    current = np.copy(start)\n",
    "    \n",
    "    while n:\n",
    "        neighbours = get_neighbours(current)\n",
    "        \n",
    "        for index, value in np.ndenumerate(current):\n",
    "            print(index, value)\n",
    "            # Apply the rules to current\n",
    "            if ...\n",
    "            \n",
    "            else ...\n",
    "            \n",
    "        n -= 1 \n",
    "            \n",
    "            \n",
    "    return current"
   ]
  }
 ],
 "metadata": {
  "kernelspec": {
   "display_name": "Python 2",
   "language": "python",
   "name": "python2"
  },
  "language_info": {
   "codemirror_mode": {
    "name": "ipython",
    "version": 2
   },
   "file_extension": ".py",
   "mimetype": "text/x-python",
   "name": "python",
   "nbconvert_exporter": "python",
   "pygments_lexer": "ipython2",
   "version": "2.7.14"
  }
 },
 "nbformat": 4,
 "nbformat_minor": 1
}
