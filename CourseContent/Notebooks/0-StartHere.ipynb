{
 "cells": [
  {
   "cell_type": "markdown",
   "metadata": {},
   "source": [
    "## Advanced Topics in Python for Earth Scientists\n",
    "\n",
    "(c) Louis Moresi (2015-2019)\n",
    "\n",
    "A notebook-based introduction to python, jupyter notebooks and programming workflows with examples from python packages for the Earth Sciences.\n",
    "\n",
    "\n",
    "![](Images/ImageForLandingPage.png)\n",
    "\n",
    "\n",
    "The material is broken down into a number of sections of, approximately, increasing difficulty. \n",
    "\n",
    "  1. [Introduction to python / jupyter](Introduction2Python/1-IntroductionToJupyterNotebooks.ipynb)\n",
    "  1. [Introduction to version control with git](Introduction2VersionControl/1-GettingStartedWithGit.ipynb)\n",
    "  1. [Getting Started with Numpy / Scipy](Numpy+Scipy/1-IntroductionToNumpy.ipynb)\n",
    "  1. [Introduction to Matplotlib](Plotting/1-IntroductionToMatplotlib.ipynb)\n",
    "  1. [Stripy for meshing / mapping the Sphere](SphericalMeshing/SphericalTriangulations/Ex1-Spherical-Triangulations.ipynb)\n",
    "  1. [Making beautiful and useful maps with Cartopy](Mapping/0-Preliminaries.ipynb)\n",
    "  1. [Finite Differences with numpy](SolveMathProblems/0-IntroductionToNumericalSolutions.ipynb)\n",
    "  \n",
    "  \n",
    " ### Description\n",
    " \n",
    "This course builds upon a basic knowledge of python to develop key expertise in scientific applications of python, particularly for the Earth sciences. We are also going to focus on problem-solving approaches to computation - developing a systematic approach to programming, testing, debugging and documentation. We will make use of git for version control which is a tool / strategy that you will definitely find helpful in future. We will do all of our work within the literate programming environment of jupyter notebooks / jupyter lab. \n",
    "\n",
    "We will introduce/review the 'standard' scientific python toolkits such as numpy, scipy, matplotlib, pandas. We will teach you how to manipulate and transform data in simple ways, plotting, mapping, visualisation, interpolation, gridding, function fitting, and exporting data / images into common, interchangeable data formats such as hdf5 and netcdf, geotiff, \n",
    "\n",
    "We will learn how to orchestrate common earth science python software applications, seismic data set acquisition and analysis (obspy), meshing and interpolation (stripy). We will learn how to solve very simple differential equations with application to geothermal energy and ground water flow, statistical analysis of data sets.\n",
    "  "
   ]
  },
  {
   "cell_type": "code",
   "execution_count": null,
   "metadata": {},
   "outputs": [],
   "source": []
  }
 ],
 "metadata": {
  "kernel_info": {
   "name": "python3"
  },
  "kernelspec": {
   "display_name": "Python 3",
   "language": "python",
   "name": "python3"
  },
  "language_info": {
   "codemirror_mode": {
    "name": "ipython",
    "version": 3
   },
   "file_extension": ".py",
   "mimetype": "text/x-python",
   "name": "python",
   "nbconvert_exporter": "python",
   "pygments_lexer": "ipython3",
   "version": "3.7.2"
  },
  "nteract": {
   "version": "0.12.3"
  }
 },
 "nbformat": 4,
 "nbformat_minor": 4
}
