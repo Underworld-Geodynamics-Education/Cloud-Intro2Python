{
 "cells": [
  {
   "cell_type": "markdown",
   "metadata": {},
   "source": [
    "# Exercise 1\n",
    "\n",
    "In this exercise I would like you to make a map of \"recent\" seismicity in which you can highlight the difference between subduction zones and mid ocean ridges. Think about how to make this clear and explain why you chose to do what you do. It may also help to plot plate motion arrows on the map to highlight divergent v. convergent zones.\n",
    "\n",
    "You should start with the [Working with point data](/notebooks/Notebooks/Mapping/5%20-%20Working%20with%20point%20data.ipynb) notebook. This shows you how to grab seismic data into an array and plot it on a map.\n",
    "\n",
    "You will need to think about:\n",
    "\n",
    "  * what colours to use and how to draw out the difference between subduction zones earthquakes and mid-ocean ridges (what is the main difference ?) \n",
    "\n",
    "  * which basemap is the best choice (an image, a coastline, shaded  ?) \n",
    "  \n",
    "  * do you want to add plate motion arrows (see [Global Plate Motions](/notebooks/Notebooks/Mapping/8%20-%20Global%20Plate%20Motions%20++%20.ipynb) notebook) ? \n",
    "  \n",
    "  \n",
    "Add comments to your code "
   ]
  },
  {
   "cell_type": "code",
   "execution_count": null,
   "metadata": {
    "collapsed": true
   },
   "outputs": [],
   "source": [
    "## Add your code here"
   ]
  },
  {
   "cell_type": "code",
   "execution_count": null,
   "metadata": {
    "collapsed": true
   },
   "outputs": [],
   "source": []
  },
  {
   "cell_type": "code",
   "execution_count": null,
   "metadata": {
    "collapsed": true
   },
   "outputs": [],
   "source": [
    "## Plot your map here !"
   ]
  },
  {
   "cell_type": "markdown",
   "metadata": {},
   "source": [
    "### Caption\n",
    "\n",
    "Explain / justify the choices you made in creating your map."
   ]
  },
  {
   "cell_type": "markdown",
   "metadata": {},
   "source": [
    "### Instructions \n",
    "\n",
    "You can submit this notebook by email but you MUST rename it so we know who it is from. If you used a crazy pseudonym in the etherpad, please let us know when you submit your assigments. \n"
   ]
  },
  {
   "cell_type": "code",
   "execution_count": null,
   "metadata": {
    "collapsed": true
   },
   "outputs": [],
   "source": []
  }
 ],
 "metadata": {
  "kernelspec": {
   "display_name": "Python 2",
   "language": "python",
   "name": "python2"
  },
  "language_info": {
   "codemirror_mode": {
    "name": "ipython",
    "version": 2
   },
   "file_extension": ".py",
   "mimetype": "text/x-python",
   "name": "python",
   "nbconvert_exporter": "python",
   "pygments_lexer": "ipython2",
   "version": "2.7.11"
  }
 },
 "nbformat": 4,
 "nbformat_minor": 0
}
