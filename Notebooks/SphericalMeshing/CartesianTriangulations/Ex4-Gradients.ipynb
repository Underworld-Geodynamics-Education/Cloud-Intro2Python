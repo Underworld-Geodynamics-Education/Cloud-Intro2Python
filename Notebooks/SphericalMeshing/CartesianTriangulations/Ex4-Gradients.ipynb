{
 "cells": [
  {
   "cell_type": "markdown",
   "metadata": {},
   "source": [
    "#### Example 4 - `stripy` gradients\n",
    "\n",
    "SRFPACK is a Fortran 77 software package that constructs a smooth interpolatory or approximating surface to data values associated with arbitrarily distributed points. It employs automatically selected tension factors to preserve shape properties of the data and avoid overshoot and undershoot associated with steep gradients.\n",
    "\n",
    "#### Notebook contents\n",
    "\n",
    "   - [Analytic function and derivatives](#Analytic-function)\n",
    "   - [Evaluating accuracy](#Derivatives-of-solution-compared-to-analytic-values)\n",
    "\n",
    "\n",
    "The next example is [Ex5-Smoothing](./Ex5-Smoothing.ipynb)"
   ]
  },
  {
   "cell_type": "markdown",
   "metadata": {},
   "source": [
    "### Define a computational mesh\n",
    "\n",
    "Use the (usual) icosahedron with face points included. "
   ]
  },
  {
   "cell_type": "code",
   "execution_count": null,
   "metadata": {},
   "outputs": [],
   "source": [
    "import stripy as stripy\n",
    "\n",
    "xmin = 0.0\n",
    "xmax = 10.0\n",
    "ymin = 0.0\n",
    "ymax = 10.0\n",
    "extent = [xmin, xmax, ymin, ymax]\n",
    "\n",
    "spacingX = 0.2\n",
    "spacingY = 0.2\n",
    "\n",
    "mesh = stripy.cartesian_meshes.elliptical_mesh(extent, spacingX, spacingY, refinement_levels=3)\n",
    "\n",
    "print(\"number of points = {}\".format(mesh.npoints))"
   ]
  },
  {
   "cell_type": "markdown",
   "metadata": {},
   "source": [
    "### Analytic function \n",
    "\n",
    "Define a relatively smooth function that we can interpolate from the coarse mesh to the fine mesh and analyse "
   ]
  },
  {
   "cell_type": "code",
   "execution_count": null,
   "metadata": {},
   "outputs": [],
   "source": [
    "import numpy as np\n",
    "\n",
    "def analytic(xs, ys, k1, k2):\n",
    "     return np.cos(k1*xs) * np.sin(k2*ys)\n",
    "\n",
    "def analytic_ddx(xs, ys, k1, k2):\n",
    "     return -k1 * np.sin(k1*xs) * np.sin(k2*ys) / np.cos(ys)\n",
    "\n",
    "def analytic_ddy(xs, ys, k1, k2):\n",
    "     return k2 * np.cos(k1*xs) * np.cos(k2*ys) \n",
    "\n",
    "analytic_sol = analytic(mesh.x, mesh.y, 0.1, 1.0)\n",
    "analytic_sol_ddx = analytic_ddx(mesh.x, mesh.y, 0.1, 1.0)\n",
    "analytic_sol_ddy = analytic_ddy(mesh.x, mesh.y, 0.1, 1.0)\n"
   ]
  },
  {
   "cell_type": "code",
   "execution_count": null,
   "metadata": {
    "scrolled": false
   },
   "outputs": [],
   "source": [
    "%matplotlib inline\n",
    "import matplotlib.pyplot as plt\n",
    "\n",
    "def axis_mesh_field(fig, ax, mesh, field, label):\n",
    "\n",
    "    ax.axis('off')\n",
    "\n",
    "    x0 = mesh.x\n",
    "    y0 = mesh.y\n",
    "    \n",
    "    trip = ax.tripcolor(x0, y0, mesh.simplices, field, cmap=plt.cm.RdBu)\n",
    "    fig.colorbar(trip, ax=ax)\n",
    "    \n",
    "    ax.set_title(str(label))\n",
    "    return\n",
    "\n",
    "    \n",
    "fig = plt.figure(figsize=(10, 8), facecolor=\"none\")\n",
    "ax = fig.add_subplot(111)\n",
    "axis_mesh_field(fig, ax, mesh, analytic_sol, \"analytic solution\")"
   ]
  },
  {
   "cell_type": "markdown",
   "metadata": {},
   "source": [
    "### Derivatives of solution compared to analytic values\n",
    "\n",
    "The `gradient` method of `Triangulation` takes a data array f representing values on the mesh vertices and returns the x,y derivatives.\n",
    "\n",
    "``` python\n",
    "Triangulation.gradient(f, nit=3, tol=0.001)\n",
    "\n",
    "```\n",
    "\n",
    "Derivatives of higher accuracy can be obtained by tweaking `tol`, which controls the convergence tolerance, or `nit` which controls the number of iterations to a solution. The default values are set to an optimal trade-off between speed and accuracy."
   ]
  },
  {
   "cell_type": "code",
   "execution_count": null,
   "metadata": {},
   "outputs": [],
   "source": [
    "stripy_ddx, stripy_ddy = mesh.gradient(analytic_sol)\n"
   ]
  },
  {
   "cell_type": "code",
   "execution_count": null,
   "metadata": {},
   "outputs": [],
   "source": [
    "fig, ax = plt.subplots(3,2, figsize=(12, 15), facecolor=\"none\")\n",
    "\n",
    "axis_mesh_field(fig, ax[0,0], mesh, analytic_sol, label=\"original\")\n",
    "axis_mesh_field(fig, ax[1,0], mesh, stripy_ddx, label=\"ddy\")\n",
    "axis_mesh_field(fig, ax[1,1], mesh, stripy_ddy, label=\"ddx\")\n",
    "axis_mesh_field(fig, ax[2,0], mesh, stripy_ddx-analytic_sol_ddx, label=\"ddx_err\")\n",
    "axis_mesh_field(fig, ax[2,1], mesh, stripy_ddy-analytic_sol_ddy, label=\"ddy_err\")\n",
    "\n",
    "ax[0,1].axis('off')\n",
    "\n",
    "plt.show()"
   ]
  },
  {
   "cell_type": "markdown",
   "metadata": {},
   "source": [
    "The next example is [Ex5-Smoothing](./Ex5-Smoothing.ipynb)"
   ]
  }
 ],
 "metadata": {
  "kernelspec": {
   "display_name": "Python 2",
   "language": "python",
   "name": "python2"
  },
  "language_info": {
   "codemirror_mode": {
    "name": "ipython",
    "version": 2
   },
   "file_extension": ".py",
   "mimetype": "text/x-python",
   "name": "python",
   "nbconvert_exporter": "python",
   "pygments_lexer": "ipython2",
   "version": "2.7.14"
  }
 },
 "nbformat": 4,
 "nbformat_minor": 1
}
