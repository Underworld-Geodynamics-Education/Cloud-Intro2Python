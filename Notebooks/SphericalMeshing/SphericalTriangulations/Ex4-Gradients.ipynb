{
 "cells": [
  {
   "cell_type": "markdown",
   "metadata": {},
   "source": [
    "#### Example 4 - `stripy` gradients on the sphere\n",
    "\n",
    "SSRFPACK is a Fortran 77 software package that constructs a smooth interpolatory or approximating surface to data values associated with arbitrarily distributed points on the surface of a sphere. It employs automatically selected tension factors to preserve shape properties of the data and avoid overshoot and undershoot associated with steep gradients.\n",
    "\n",
    "\n",
    "\n",
    "#### Notebook contents\n",
    "\n",
    "   - [Analytic function and derivatives](#Analytic-function)\n",
    "   - [Evaluating accuracy](#Derivatives-of-solution-compared-to-analytic-values)\n",
    "\n",
    "\n",
    "The next example is [Ex5-Smoothing](./Ex5-Smoothing.ipynb)"
   ]
  },
  {
   "cell_type": "markdown",
   "metadata": {},
   "source": [
    "### Define a computational mesh\n",
    "\n",
    "Use the (usual) icosahedron with face points included. "
   ]
  },
  {
   "cell_type": "code",
   "execution_count": null,
   "metadata": {},
   "outputs": [],
   "source": [
    "import stripy as stripy\n",
    "\n",
    "mesh = stripy.spherical_meshes.icosahedral_mesh(refinement_levels=4, include_face_points=True)\n",
    "\n",
    "print(mesh.npoints)"
   ]
  },
  {
   "cell_type": "markdown",
   "metadata": {},
   "source": [
    "### Analytic function \n",
    "\n",
    "Define a relatively smooth function that we can interpolate from the coarse mesh to the fine mesh and analyse "
   ]
  },
  {
   "cell_type": "code",
   "execution_count": null,
   "metadata": {},
   "outputs": [],
   "source": [
    "import numpy as np\n",
    "\n",
    "def analytic(lons, lats, k1, k2):\n",
    "     return np.cos(k1*lons) * np.sin(k2*lats)\n",
    "\n",
    "def analytic_ddlon(lons, lats, k1, k2):\n",
    "     return -k1 * np.sin(k1*lons) * np.sin(k2*lats) / np.cos(lats)\n",
    "\n",
    "def analytic_ddlat(lons, lats, k1, k2):\n",
    "     return k2 * np.cos(k1*lons) * np.cos(k2*lats) \n",
    "\n",
    "analytic_sol = analytic(mesh.lons, mesh.lats, 5.0, 2.0)\n",
    "analytic_sol_ddlon = analytic_ddlon(mesh.lons, mesh.lats, 5.0, 2.0)\n",
    "analytic_sol_ddlat = analytic_ddlat(mesh.lons, mesh.lats, 5.0, 2.0)\n"
   ]
  },
  {
   "cell_type": "code",
   "execution_count": null,
   "metadata": {
    "scrolled": false
   },
   "outputs": [],
   "source": [
    "%matplotlib inline\n",
    "\n",
    "import gdal\n",
    "import cartopy\n",
    "import cartopy.crs as ccrs\n",
    "import matplotlib.pyplot as plt\n",
    "\n",
    "\n",
    "fig = plt.figure(figsize=(10, 10), facecolor=\"none\")\n",
    "ax  = plt.subplot(111, projection=ccrs.Orthographic(central_longitude=0.0, central_latitude=0.0, globe=None))\n",
    "ax.coastlines(color=\"lightgrey\")\n",
    "ax.set_global()\n",
    "\n",
    "lons0 = np.degrees(mesh.lons)\n",
    "lats0 = np.degrees(mesh.lats)\n",
    "\n",
    "ax.scatter(lons0, lats0, \n",
    "            marker=\"o\", s=10.0, transform=ccrs.Geodetic(), c=analytic_sol, cmap=plt.cm.RdBu)\n",
    "\n",
    "pass"
   ]
  },
  {
   "cell_type": "markdown",
   "metadata": {},
   "source": [
    "### Derivatives of solution compared to analytic values\n",
    "\n",
    "The `gradient_lonlat` method of the sTriangulation takes a data array reprenting values on the mesh vertices and returns the lon and lat derivatives. There is an equivalent `gradient_xyz` method which returns the raw derivatives in Cartesian form. Although this is generally less useful, if you are computing the slope (for example) that can be computed in either coordinate system and may cross the pole, consider using the Cartesian form. \n",
    "\n"
   ]
  },
  {
   "cell_type": "code",
   "execution_count": null,
   "metadata": {},
   "outputs": [],
   "source": [
    "stripy_ddlon, stripy_ddlat = mesh.gradient_lonlat(analytic_sol)\n"
   ]
  },
  {
   "cell_type": "code",
   "execution_count": null,
   "metadata": {},
   "outputs": [],
   "source": [
    "import lavavu\n",
    "\n",
    "lv = lavavu.Viewer(border=False, background=\"#FFFFFF\", resolution=[1000,600], near=-10.0)\n",
    "\n",
    "nodes = lv.points(\"nodes\", pointsize=3.0, pointtype=\"shiny\", colour=\"#448080\", opacity=0.75)\n",
    "nodes.vertices(mesh.points)\n",
    "\n",
    "tris = lv.triangles(\"triangles\",  wireframe=False, colour=\"#77ff88\", opacity=1.0)\n",
    "tris.vertices(mesh.points)\n",
    "tris.indices(mesh.simplices)\n",
    "tris.values(analytic_sol, label=\"original\")\n",
    "tris.values(stripy_ddlon, label=\"ddlon\")\n",
    "tris.values(stripy_ddlat, label=\"ddlat\")\n",
    "tris.values(stripy_ddlon-analytic_sol_ddlon, label=\"ddlonerr\")\n",
    "tris.values(stripy_ddlat-analytic_sol_ddlat, label=\"ddlaterr\")\n",
    "\n",
    "\n",
    "tris.colourmap(\"#990000 #FFFFFF #000099\")\n",
    "cb = tris.colourbar()\n",
    "\n",
    "# view the pole\n",
    "\n",
    "lv.translation(0.0, 0.0, -3.0)\n",
    "lv.rotation(-20, 0.0, 0.0)\n",
    "\n",
    "lv.control.Panel()\n",
    "lv.control.Range('specular', range=(0,1), step=0.1, value=0.4)\n",
    "lv.control.Checkbox(property='axis')\n",
    "lv.control.ObjectList()\n",
    "tris.control.List([\"original\", \"ddlon\", \"ddlat\", \"ddlonerr\", \"ddlaterr\"], property=\"colourby\", value=\"orginal\", command=\"redraw\", label=\"Display:\")\n",
    "lv.control.show()"
   ]
  },
  {
   "cell_type": "markdown",
   "metadata": {},
   "source": [
    "The next example is [Ex5-Smoothing](./Ex5-Smoothing.ipynb)"
   ]
  }
 ],
 "metadata": {
  "kernelspec": {
   "display_name": "Python 2",
   "language": "python",
   "name": "python2"
  },
  "language_info": {
   "codemirror_mode": {
    "name": "ipython",
    "version": 2
   },
   "file_extension": ".py",
   "mimetype": "text/x-python",
   "name": "python",
   "nbconvert_exporter": "python",
   "pygments_lexer": "ipython2",
   "version": "2.7.14"
  }
 },
 "nbformat": 4,
 "nbformat_minor": 1
}
