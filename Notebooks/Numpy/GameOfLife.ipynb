{
 "cells": [
  {
   "cell_type": "markdown",
   "metadata": {},
   "source": [
    "## The game of life\n",
    "\n",
    "The universe of the Game of Life is an infinite two-dimensional orthogonal grid of square cells, each of which is in one of two possible states, live or dead. Every cell interacts with its eight neighbours, which are the cells that are directly horizontally, vertically, or diagonally adjacent. At each step in time, the following transitions occur:\n",
    "\n",
    "* Any live cell with fewer than two live neighbours dies, as if by needs caused by underpopulation.\n",
    "* Any live cell with more than three live neighbours dies, as if by overcrowding.\n",
    "* Any live cell with two or three live neighbours lives, unchanged, to the next generation.\n",
    "* Any dead cell with exactly three live neighbours becomes a live cell.\n"
   ]
  },
  {
   "cell_type": "code",
   "execution_count": null,
   "metadata": {
    "collapsed": false
   },
   "outputs": [],
   "source": [
    "%pylab inline\n",
    "import numpy as np\n",
    "import matplotlib.pyplot as plt\n"
   ]
  },
  {
   "cell_type": "code",
   "execution_count": null,
   "metadata": {
    "collapsed": true
   },
   "outputs": [],
   "source": [
    "start = np.array([[1,0,0,0,0,0],\n",
    "                  [0,0,0,1,0,0],\n",
    "                  [0,1,0,1,0,0],\n",
    "                  [0,0,1,1,0,0],\n",
    "                  [0,0,0,0,0,0],\n",
    "                  [0,0,0,0,0,0]])"
   ]
  },
  {
   "cell_type": "code",
   "execution_count": null,
   "metadata": {
    "collapsed": false
   },
   "outputs": [],
   "source": [
    "plt.imshow(start, interpolation='nearest', cmap=\"gray\")"
   ]
  },
  {
   "cell_type": "code",
   "execution_count": null,
   "metadata": {
    "collapsed": false
   },
   "outputs": [],
   "source": [
    "start[4:8,4:8]"
   ]
  },
  {
   "cell_type": "code",
   "execution_count": null,
   "metadata": {
    "collapsed": false
   },
   "outputs": [],
   "source": [
    "neighbours = np.empty(start.shape)\n",
    "for index, value in np.ndenumerate(start):\n",
    "    #Need to add 2, becase the slicing works like 'up to but no including'\n",
    "    x0 = max(0,(index[0]-1))\n",
    "    x1 = max(0,(index[0]+2))\n",
    "    y0 = max(0,(index[1]-1))\n",
    "    y1 = max(0,(index[1]+2))\n",
    "    subarray = start[x0:x1, y0:y1]\n",
    "    neighbours[index] = subarray.sum() - value #need to subtrace actual value at that cell..."
   ]
  },
  {
   "cell_type": "code",
   "execution_count": null,
   "metadata": {
    "collapsed": false
   },
   "outputs": [],
   "source": [
    "neighbours"
   ]
  },
  {
   "cell_type": "markdown",
   "metadata": {},
   "source": [
    "## Exercise:\n",
    "\n",
    "Your task is to write a function that \"runs\" the game of life. This should be possible by filling out the two function templates below. \n",
    "\n",
    "* conditions: boundaries are always dead\n"
   ]
  },
  {
   "cell_type": "code",
   "execution_count": null,
   "metadata": {
    "collapsed": true
   },
   "outputs": [],
   "source": [
    "def get_neighbours(start):\n",
    "\"\"\"\n",
    "This function gets the number of neighbours in the binary array start\n",
    "start : np.ndarray\n",
    "\"\"\" "
   ]
  },
  {
   "cell_type": "code",
   "execution_count": null,
   "metadata": {
    "collapsed": false
   },
   "outputs": [],
   "source": [
    "def game_of_life(start, n):\n",
    "    \"\"\"\n",
    "    this function runs the game of life for n steps...\n",
    "    start : np.ndarray (0s, 1s)\n",
    "    n: int number of steps \n",
    "    \"\"\"\n",
    "    assert (1>= start.min() >= 0) and (1>= start.max() >= 0), \"array must be ones and zeros\"\n",
    "    \n",
    "    current = np.copy(start)\n",
    "    neighbours = get_neighbours(start)\n",
    "    while #Some condition here#:\n",
    "        for index, value in np.ndenumerate(current):\n",
    "            print(index, value)\n",
    "            # Apply the rules to current\n",
    "            if \n",
    "            \n",
    "    return current"
   ]
  }
 ],
 "metadata": {
  "kernelspec": {
   "display_name": "Python 2",
   "language": "python",
   "name": "python2"
  },
  "language_info": {
   "codemirror_mode": {
    "name": "ipython",
    "version": 2
   },
   "file_extension": ".py",
   "mimetype": "text/x-python",
   "name": "python",
   "nbconvert_exporter": "python",
   "pygments_lexer": "ipython2",
   "version": "2.7.11"
  }
 },
 "nbformat": 4,
 "nbformat_minor": 0
}
