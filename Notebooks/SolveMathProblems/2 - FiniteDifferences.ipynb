{
 "cells": [
  {
   "cell_type": "markdown",
   "metadata": {
    "deletable": true,
    "editable": true
   },
   "source": [
    "# Finite difference operations\n",
    "\n",
    "At the end of this notebook, you will have learned how to...\n",
    "\n",
    "1. Use finite difference approximations to derive equations.\n",
    "2. Apply this to the 2D steady-state heat equation and solve a linear system of equations.\n",
    "3. Create periodic boundary conditions to simulate lateral variations in surface temperature.\n",
    "4. (if we have time...) code your own finite difference approximation to the heat equation for variable diffusivity.\n",
    "5. Solve temperature over complex geometries imported from GoCAD."
   ]
  },
  {
   "cell_type": "code",
   "execution_count": 1,
   "metadata": {
    "collapsed": true,
    "deletable": true,
    "editable": true
   },
   "outputs": [],
   "source": [
    "# load the appropriate python modules\n",
    "import numpy as np\n",
    "import matplotlib.pyplot as plt\n",
    "%matplotlib inline"
   ]
  },
  {
   "cell_type": "markdown",
   "metadata": {
    "deletable": true,
    "editable": true
   },
   "source": [
    "## 1. Finite difference approximations\n",
    "\n",
    "Ideally, an analytical solution would be obtained by integrating this equation with a set of boundary conditions.\n",
    "Unfortunately finding a solution is not a trivial task and may only satisfy a very specific topic you are interested in solving.\n",
    "The finite difference method approximates solutions to differential equations across a discreet domain with a set of boundary conditions along the edges of this domain.\n",
    "\n",
    "<img src=\"images/fd.png\" width=\"600\">\n",
    "\n",
    "As you can gather from the above image, resolution is important.\n",
    "If $h$ is too large the solution is not very accurate, and with time time-dependence it could become *unstable*.\n",
    "\n",
    "Lets take a simple function, $f(x) = \\sin (x)$. We can calculate its derivatives analytically:\n",
    "\n",
    "$$\\begin{align}\n",
    "f'(x) &= \\cos (x) \\\\\n",
    "f''(x) &= -\\sin (x)\n",
    "\\end{align}$$\n",
    "\n",
    "or we could use finite differences to approximate the derivatives...\n",
    "\n",
    "$$\\begin{align}\n",
    "f'(x) &= \\lim_{h\\to0} \\frac{f(x+h) - f(x)}{h} \\\\\n",
    "f''(x)&= \\lim_{h\\to0} \\frac{f(x+2h) - 2f(x+h) + f(x)}{h^2}\n",
    "\\end{align}$$\n",
    "\n",
    "---\n",
    "\n",
    "> **EXERCISE 1** Play around with the code below to see what happens when you change $f(x)$ and vary $h$.\n",
    "\n",
    "---"
   ]
  },
  {
   "cell_type": "code",
   "execution_count": 5,
   "metadata": {
    "collapsed": false,
    "deletable": true,
    "editable": true
   },
   "outputs": [
    {
     "data": {
      "image/png": "[encoded data removed]",
      "text/plain": [
       "<matplotlib.figure.Figure at 0x7f979368dc10>"
      ]
     },
     "metadata": {},
     "output_type": "display_data"
    }
   ],
   "source": [
    "# \"Resolution\"\n",
    "#  Try a few different values  \n",
    "\n",
    "number_of_points = 150\n",
    "\n",
    "# Data\n",
    "\n",
    "x = np.linspace(0,2*np.pi,number_of_points)\n",
    "xh = np.linspace(0,2*np.pi,1000) # 1000 is more than enough to plot\n",
    "\n",
    "f = np.sin(x)\n",
    "fh = np.sin(xh)\n",
    "dfh = np.cos(xh)\n",
    "d2fh = -fh\n",
    "\n",
    "# Normalization\n",
    "h = x[1] - x[0] # use np.diff(x) if x is not uniform\n",
    "\n",
    "# First derivatives\n",
    "df = np.diff(f) / h # numpy version\n",
    "# for i in x[:-1]:\n",
    "#     df[i] = (f[i+1]-f[i]) / h\n",
    "\n",
    "# Second derivatives\n",
    "ddf = np.diff(f, 2) / h**2 # numpy version\n",
    "# for i in x[:-2]:\n",
    "#     ddf[i] = (f[i+2]-2*f[i+1]+f[i]) / h**2\n",
    "\n",
    "# Plotting\n",
    "fig = plt.figure(1)\n",
    "ax1 = fig.add_subplot(111)\n",
    "ax1.plot(x, f, 'black', linewidth=0.0, marker=\"+\", markersize=12, label=\"f (x)\")\n",
    "ax1.plot(x[:-1], df, 'red', linewidth=0.5, marker=\"+\", markersize=12, label=\"f ' (x)\")\n",
    "ax1.plot(x[:-2], ddf, 'green', linewidth=0.5, marker=\"+\", markersize=12, label=\"f '' (x)\")\n",
    "\n",
    "ax1.plot(xh, fh, 'black', lw=2, label=\"f (x)\")\n",
    "ax1.plot(xh, dfh, 'red', lw=2, label=\"f ' (x)\")\n",
    "ax1.plot(xh, d2fh, 'green', lw=2, label=\"f '' (x)\")\n",
    "\n",
    "ax1.legend()\n",
    "plt.show()"
   ]
  },
  {
   "cell_type": "markdown",
   "metadata": {
    "deletable": true,
    "editable": true
   },
   "source": [
    "The useful part of this is that we can derive an equation without knowing any calculus!\n",
    "(Not that we recommend that!)\n",
    "\n",
    "Finite difference is just one of many techniques that fall under the umbrella of *numerical modelling*.\n",
    "Finite difference works by taking the average of neighbouring nodes within the domain to calculate the value on a specific node, $N_{i,j}$.\n",
    "In 2D these neighbouring nodes would be $N_{i-1,j}, N_{i,j+1}, N_{i+1,j}, N_{i,j-1}$.\n",
    "\n",
    "<img src=\"images/fd_ij.png\" width=\"500\">\n",
    "\n",
    "## 2. Finite difference approximations to the heat equation\n",
    "\n",
    "The 2D heat equation is given as:\n",
    "\n",
    "$$\\rho c_p \\frac{\\partial T}{\\partial t} = \\kappa \\left( \\frac{\\partial^2 T}{\\partial x^2} + \\frac{\\partial^2 T}{\\partial y^2} \\right) + H$$\n",
    "\n",
    "where $\\rho$ is density, $c_p$ is specific heat capacity, $\\kappa$ is the thermal diffusivity coefficient, and $H$ are heat sources.\n",
    "\n",
    "There are a few different ways to average - forward, backward, and central.\n",
    "For the heat equation we are going to use the 2nd order central difference, which applied to the heat equation is:\n",
    "\n",
    "$$\\kappa \\left( \\frac{T_{i,j-1}-2T_{i,j}+T_{i,j+1}}{\\Delta x^2} + \\frac{T_{i-1,j}-2T_{i,j}+T_{i+1,j}}{\\Delta y^2} \\right) = -H$$\n",
    "\n",
    "Note that we have made $\\rho c_p \\frac{\\partial T}{\\partial t} = 0$ because initially we are only going to solve this in steady-state.\n",
    "Expanding the brackets and collecting like terms ($T_{i,j-1}, T_{i-1,j}, T_{i,j}, T_{i+1,j}, T_{i,j+1}$) we get,\n",
    "\n",
    "$$\\left[\\kappa\\frac{T_{i,j-1}}{\\Delta y^2}\\right] + \\left[\\kappa\\frac{T_{i-1,j}}{\\Delta x^2}\\right] - \\left[\\kappa\\frac{2T_{i,j}}{\\Delta x^2} - \\kappa\\frac{2T_{i,j}}{\\Delta y^2}\\right] + \\left[\\kappa\\frac{T_{i+1,j}}{\\Delta x^2}\\right] + \\left[\\kappa\\frac{T_{i,j+1}}{\\Delta y^2}\\right] = -H_{i,j}$$\n",
    "\n",
    "$H$ can be constant or spatially variable, $H_{i,j}$, it doesn't matter."
   ]
  },
  {
   "cell_type": "markdown",
   "metadata": {
    "deletable": true,
    "editable": true
   },
   "source": [
    "### 2.1 Solving a system of linear equations\n",
    "\n",
    "You may have noticed that finite differences are linear approximations of a derivative.\n",
    "Linear systems of equations are, it just so happens, very easy to solve using a computer!\n",
    "The way to go about this is to build a matrices in the form,\n",
    "\n",
    "$$\\mathbf{A x = b}$$\n",
    "\n",
    "- $\\mathbf{A}$ is a square matrix, of shape `[n,n]`, that contains the finite difference operations.\n",
    "- $\\mathbf{b}$ contains our heat source terms, $H$, and has a shape `[1,n]`.\n",
    "- $\\mathbf{x}$ is the temperature matrix, of shape `[1,n]`, for which we wish to solve.\n",
    "\n",
    "Here is a rectangular grid of nodes that we want to compute some finite difference operators on...\n",
    "\n",
    "<img src=\"images/fd_nodes.png\" width=\"500\">\n",
    "\n",
    "Using the finite difference approximation for constant diffusivity, $\\kappa$, the matrices will look like:\n",
    "\n",
    "$$\\mathbf{A} = \n",
    "\\begin{bmatrix}\n",
    "\\frac{\\kappa}{\\Delta y^2} & \\cdots & \\frac{\\kappa}{\\Delta x^2} & (\\frac{-2\\kappa}{\\Delta x^2}+\\frac{-2\\kappa}{\\Delta y^2}) & \\frac{\\kappa}{\\Delta x^2} & \\cdots & \\frac{\\kappa}{\\Delta y^2} & 0 & 0 & \\cdots \\\\\n",
    "0 & \\frac{\\kappa}{\\Delta y^2} & \\cdots & \\frac{\\kappa}{\\Delta x^2} & (\\frac{-2\\kappa}{\\Delta x^2}+\\frac{-2\\kappa}{\\Delta y^2}) & \\frac{\\kappa}{\\Delta x^2} & \\cdots & \\frac{\\kappa}{\\Delta y^2} & 0 & \\cdots \\\\\n",
    "\\vdots &  & \\ddots &  & \\ddots & \\ddots &  & \\ddots & & \\vdots \\\\\n",
    "\\cdots & 0 & 0 & \\frac{\\kappa}{\\Delta y^2} & \\cdots & \\frac{\\kappa}{\\Delta x^2} & (\\frac{-2\\kappa}{\\Delta x^2}+\\frac{-2\\kappa}{\\Delta y^2}) & \\frac{\\kappa}{\\Delta x^2} & \\cdots & \\frac{\\kappa}{\\Delta y^2}\n",
    "\\end{bmatrix}$$\n",
    "\n",
    "$$\\mathbf{x} =\n",
    "\\begin{bmatrix}\n",
    "T_{9} \\\\ T_{10} \\\\ \\vdots \\\\ T_{n}\n",
    "\\end{bmatrix}\n",
    "\\quad \\mathbf{b} = \n",
    "\\begin{bmatrix}\n",
    "-H_{9} \\\\ -H_{10} \\\\ \\vdots \\\\ -H_{n}\n",
    "\\end{bmatrix}\n",
    "$$"
   ]
  },
  {
   "cell_type": "code",
   "execution_count": 6,
   "metadata": {
    "collapsed": false,
    "deletable": true,
    "editable": true
   },
   "outputs": [
    {
     "name": "stdout",
     "output_type": "stream",
     "text": [
      "[[ 1.  0.  0. ...,  0.  0.  0.]\n",
      " [ 0.  1.  0. ...,  0.  0.  0.]\n",
      " [ 0.  0.  1. ...,  0.  0.  0.]\n",
      " ..., \n",
      " [ 0.  0.  0. ...,  1.  0.  0.]\n",
      " [ 0.  0.  0. ...,  0.  1.  0.]\n",
      " [ 0.  0.  0. ...,  0.  0.  1.]]\n"
     ]
    }
   ],
   "source": [
    "nx, ny = 27, 25\n",
    "nodes = np.arange(nx*ny).reshape(ny,nx)\n",
    "dx, dy = 1., 1.\n",
    "\n",
    "# Create matrix structures\n",
    "A_matrix = np.zeros((nx*ny,nx*ny)) # square matrix\n",
    "b_matrix = np.zeros(nx*ny)\n",
    "\n",
    "# field variables\n",
    "H = 2e-6\n",
    "k = 3.0\n",
    "\n",
    "# boundary conditions (constant temperature)\n",
    "topBC = 300.0\n",
    "bottomBC = 800.0\n",
    "leftBC = 500.0\n",
    "rightBC = 500.0\n",
    "\n",
    "# boundary nodes\n",
    "top_nodes = nodes[0,:]\n",
    "bottom_nodes = nodes[-1,:]\n",
    "left_nodes = nodes[1:-1,0]\n",
    "right_nodes = nodes[1:-1,-1]\n",
    "\n",
    "for idx in top_nodes:\n",
    "    A_matrix[idx, idx] = 1.0\n",
    "    b_matrix[idx] = topBC\n",
    "for idx in bottom_nodes:\n",
    "    A_matrix[idx, idx] = 1.0\n",
    "    b_matrix[idx] = bottomBC\n",
    "for idx in left_nodes:\n",
    "    A_matrix[idx, idx] = 1.0\n",
    "    b_matrix[idx] = leftBC\n",
    "for idx in right_nodes:\n",
    "    A_matrix[idx, idx] = 1.0\n",
    "    b_matrix[idx] = rightBC\n",
    "\n",
    "bmask = np.zeros_like(nodes, dtype=bool)\n",
    "bmask[1:-1,1:-1] = True # these are nodes that do not intersect the boundary\n",
    "\n",
    "for idx in nodes[bmask]:\n",
    "    A_matrix[idx, idx-nx] = k/dy**2\n",
    "    A_matrix[idx, idx-1]  = k/dx**2\n",
    "    A_matrix[idx, idx]    = -2*k/dx**2 -2*k/dy**2\n",
    "    A_matrix[idx, idx+1]  = k/dx**2\n",
    "    A_matrix[idx, idx+nx] = k/dy**2\n",
    "    \n",
    "    b_matrix[idx] = -H\n",
    "\n",
    "print A_matrix"
   ]
  },
  {
   "cell_type": "markdown",
   "metadata": {
    "deletable": true,
    "editable": true
   },
   "source": [
    "The $\\mathbf{A}$ matrix is tridiagonal, which means that there are a lot of zeros.\n",
    "Since the data only takes up a fraction of the matrix, we could use [scipy's sparse module](http://docs.scipy.org/doc/scipy/reference/sparse.html) to conserve memory:\n",
    "\n",
    "    from scipy import sparse\n",
    "\n",
    "Below we use numpy's linear algebra solver and plot the temperature field.\n",
    "\n",
    "---\n",
    "\n",
    "> **EXERCISE 2** Change the boundary conditions, heat production, and conductivity above then plot the result below.\n",
    "\n",
    "---"
   ]
  },
  {
   "cell_type": "code",
   "execution_count": 7,
   "metadata": {
    "collapsed": false,
    "deletable": true,
    "editable": true
   },
   "outputs": [
    {
     "data": {
      "image/png": "[encoded data removed]",
      "text/plain": [
       "<matplotlib.figure.Figure at 0x7f97d829c1d0>"
      ]
     },
     "metadata": {},
     "output_type": "display_data"
    }
   ],
   "source": [
    "temperature = np.linalg.solve(A_matrix, b_matrix) # solve x matrix\n",
    "\n",
    "fig = plt.figure(1, figsize=(10,4))\n",
    "ax1 = fig.add_subplot(111)\n",
    "\n",
    "im = ax1.imshow(temperature.reshape(ny,nx))\n",
    "ax1.set_title('Temperature (Kelvin)')\n",
    "ax1.contour(temperature.reshape(ny,nx)) # Lets plot some contours\n",
    "\n",
    "fig.colorbar(im)\n",
    "plt.show()"
   ]
  },
  {
   "cell_type": "markdown",
   "metadata": {
    "deletable": true,
    "editable": true
   },
   "source": [
    "## 3. Boundary conditions\n",
    "\n",
    "In the previous exercise we used constant temperature boundary conditions on each wall in the model domain.\n",
    "These are Dirichelet boundary conditions:\n",
    "\n",
    "$$T(n) = T_{\\text{boundary}}$$\n",
    "\n",
    "The other boundary condition we want to use is Neumann, or flux, boundary conditions:\n",
    "\n",
    "$$\\frac{\\partial T}{\\partial y}(n) = -\\mathbf{q} = -\\kappa \\frac{\\partial T}{\\partial y}$$\n",
    "\n",
    "in the $y$ direction for example, where $\\mathbf{q}$ is the flux vector assigned to a wall of the domain.\n",
    "For insulated boundary conditions, $\\mathbf{q}=0$.\n",
    "This means that no heat enters or escapes from that boundary.\n",
    "For example, the finite difference form for this on the left wall of our domain would be:\n",
    "\n",
    "$$ \\kappa \\frac{T_{i,j}-T_{i+1,j}}{\\Delta x^2} = \\frac{\\mathbf{q}}{\\Delta x} - H$$\n",
    "\n",
    "which reduces to\n",
    "\n",
    "$$ \\kappa \\frac{T_{i,j}-T_{i+1,j}}{\\Delta x^2} = - H$$\n",
    "\n",
    "when $\\mathbf{q}=0$ \n",
    "\n",
    "### 3.1 Periodic boundary conditions\n",
    "\n",
    "In the next exercise you will need to assign Neumann boundary conditions to all walls of the domain; except the top wall where you will assign a periodic Dirichlet boundary condition described by the equation:\n",
    "\n",
    "$$T_\\text{surface} = T_0 + \\Delta T \\cos \\frac{2\\pi x}{\\lambda}$$\n",
    "\n",
    "Such surface temperature variations can arise as a result of topographic undulations and the altitude dependence of temperature in the Earth’s atmosphere.\n",
    "Horizontal surface temperature variations also occur at the boundaries between land and bodies of water, such as lakes or seas.\n",
    "\n",
    "---\n",
    "\n",
    "> **EXERCISE 3** Create a periodic surface temperature boundary condition using the code above, then make the rest of the walls insulated.\n",
    "\n",
    "---"
   ]
  },
  {
   "cell_type": "code",
   "execution_count": 8,
   "metadata": {
    "collapsed": false,
    "deletable": true,
    "editable": true
   },
   "outputs": [],
   "source": [
    "# Empty space for your code\n",
    "# Copy the code you made above as a template"
   ]
  },
  {
   "cell_type": "markdown",
   "metadata": {
    "deletable": true,
    "editable": true
   },
   "source": [
    "Lucky there is an analytical solution to test if your code is working correctly...\n",
    "\n",
    "$$T(x,y) = T_0 + \\Delta T \\cos \\frac{2 \\pi x}{\\lambda} e^{-2\\pi y/\\lambda}$$\n",
    "\n",
    "Set your Neumann boundary conditions to zero and use this to *benchmark* your code.\n",
    "Plot the results using `matplotlib`."
   ]
  },
  {
   "cell_type": "code",
   "execution_count": 32,
   "metadata": {
    "collapsed": false,
    "deletable": true,
    "editable": true
   },
   "outputs": [
    {
     "data": {
      "image/png": "[encoded data removed]",
      "text/plain": [
       "<matplotlib.figure.Figure at 0x7f97909c9c10>"
      ]
     },
     "metadata": {},
     "output_type": "display_data"
    }
   ],
   "source": [
    "x, y = np.meshgrid( np.arange(0,nx), np.arange(0,ny) )\n",
    "lamb = 25.\n",
    "\n",
    "T_analytical = 300. + 100.0*np.cos(2*np.pi*x/lamb) * np.exp(-2.0*np.pi*y/lamb)\n",
    "\n",
    "\n",
    "fig, (ax1, ax2) = plt.subplots(1,2)\n",
    "fig.set_size_inches(16,4)\n",
    "\n",
    "# Analytical solution\n",
    "im1 = ax1.imshow(T_analytical.reshape(ny,nx))\n",
    "fig.colorbar(im1, ax=ax1)\n",
    "\n",
    "# Numerical solution\n",
    "## YOUR CODE GOES HERE\n",
    "\n",
    "plt.show()"
   ]
  },
  {
   "cell_type": "code",
   "execution_count": null,
   "metadata": {
    "collapsed": true
   },
   "outputs": [],
   "source": []
  }
 ],
 "metadata": {
  "kernelspec": {
   "display_name": "Python 2",
   "language": "python",
   "name": "python2"
  },
  "language_info": {
   "codemirror_mode": {
    "name": "ipython",
    "version": 2
   },
   "file_extension": ".py",
   "mimetype": "text/x-python",
   "name": "python",
   "nbconvert_exporter": "python",
   "pygments_lexer": "ipython2",
   "version": "2.7.13"
  }
 },
 "nbformat": 4,
 "nbformat_minor": 0
}
