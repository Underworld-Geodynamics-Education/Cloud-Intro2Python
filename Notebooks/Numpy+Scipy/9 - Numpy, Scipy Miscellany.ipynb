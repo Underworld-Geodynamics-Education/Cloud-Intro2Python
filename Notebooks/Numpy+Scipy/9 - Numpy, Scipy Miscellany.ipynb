{
 "cells": [
  {
   "cell_type": "markdown",
   "metadata": {},
   "source": [
    "#  Data storage\n",
    "\n",
    "Python provides file read write and object serialisation / reconstruction (python pickle module). `numpy` provides methods for storing and retrieving structured arrays quickly and efficiently (including data compression). `scipy` provides some helper functions for common file formats such as `netcdf` and `matlab` etc etc.\n",
    "\n",
    "Sometimes data are hard won - and reformatting them into easily retrieved files can be a lifesaver."
   ]
  },
  {
   "cell_type": "code",
   "execution_count": 15,
   "metadata": {
    "collapsed": true
   },
   "outputs": [],
   "source": [
    "import numpy as np\n",
    "from scipy.io import netcdf"
   ]
  },
  {
   "cell_type": "code",
   "execution_count": 45,
   "metadata": {
    "collapsed": false
   },
   "outputs": [
    {
     "name": "stdout",
     "output_type": "stream",
     "text": [
      "{'lat': 161, 'lon': 360}\n",
      "{'lat': <scipy.io.netcdf.netcdf_variable object at 0x10c8f6950>,\n",
      " 'lon': <scipy.io.netcdf.netcdf_variable object at 0x10c95aa90>,\n",
      " 've': <scipy.io.netcdf.netcdf_variable object at 0x10c95a9d0>,\n",
      " 'vn': <scipy.io.netcdf.netcdf_variable object at 0x10c95a910>}\n",
      "(161,)\n",
      "(360,)\n",
      "(360, 161)\n",
      "(360, 161)\n"
     ]
    }
   ],
   "source": [
    "nf = netcdf.netcdf_file(filename=\"../../Data/Reference/velocity_AU.nc\")\n",
    "\n",
    "from pprint import pprint # pretty printer for python objects\n",
    "\n",
    "pprint( nf.dimensions )\n",
    "pprint( nf.variables )\n",
    "\n",
    "print nf.variables[\"lat\"].data.shape\n",
    "print nf.variables[\"lon\"].data.shape\n",
    "print nf.variables['ve'].data.shape\n",
    "print nf.variables['vn'].data.shape"
   ]
  },
  {
   "cell_type": "code",
   "execution_count": 52,
   "metadata": {
    "collapsed": false
   },
   "outputs": [
    {
     "name": "stdout",
     "output_type": "stream",
     "text": [
      "The slowest run took 6.54 times longer than the fastest. This could mean that an intermediate result is being cached.\n",
      "10000 loops, best of 3: 44.7 µs per loop\n"
     ]
    }
   ],
   "source": [
    "%%timeit\n",
    "\n",
    "\n",
    "\n",
    "gad = np.load(\"../../Data/Reference/global_age_data.3.6.z.npz\")"
   ]
  },
  {
   "cell_type": "code",
   "execution_count": 13,
   "metadata": {
    "collapsed": false
   },
   "outputs": [
    {
     "name": "stdout",
     "output_type": "stream",
     "text": [
      "../../Data/Reference/velocity_AU.nc\r\n"
     ]
    }
   ],
   "source": [
    "# Seafloor age data and global image - data from Earthbyters\n",
    "\n",
    "# The data come as ascii lon / lat / age tuples with NaN for no data. \n",
    "# This can be loaded with ...\n",
    "\n",
    "age = numpy.loadtxt(\"Resources/global_age_data.3.6.xyz\")\n",
    "age_data = age.reshape(1801,3601,3)  # I looked at the data and figured out what numbers to use\n",
    "age_img  = age_data[:,:,2]\n",
    "\n",
    "# But this is super slow, so I have just stored the Age data on the grid (1801 x 3601) which we can reconstruct easily\n",
    "\n",
    "datasize = (1801, 3601, 3)\n",
    "age_data = np.empty(datasize)\n",
    "\n",
    "ages = np.load(\"Resources/global_age_data.3.6.z.npz\")[\"ageData\"]\n",
    "\n",
    "lats = np.linspace(90, -90, datasize[0])\n",
    "lons = np.linspace(-180.0,180.0, datasize[1])\n",
    "\n",
    "arrlons,arrlats = np.meshgrid(lons, lats)\n",
    "\n",
    "age_data[...,0] = arrlons[...]\n",
    "age_data[...,1] = arrlats[...]\n",
    "age_data[...,2] = ages[...]"
   ]
  },
  {
   "cell_type": "code",
   "execution_count": null,
   "metadata": {
    "collapsed": true
   },
   "outputs": [],
   "source": []
  }
 ],
 "metadata": {
  "kernelspec": {
   "display_name": "Python 2",
   "language": "python",
   "name": "python2"
  },
  "language_info": {
   "codemirror_mode": {
    "name": "ipython",
    "version": 2
   },
   "file_extension": ".py",
   "mimetype": "text/x-python",
   "name": "python",
   "nbconvert_exporter": "python",
   "pygments_lexer": "ipython2",
   "version": "2.7.13"
  }
 },
 "nbformat": 4,
 "nbformat_minor": 2
}
