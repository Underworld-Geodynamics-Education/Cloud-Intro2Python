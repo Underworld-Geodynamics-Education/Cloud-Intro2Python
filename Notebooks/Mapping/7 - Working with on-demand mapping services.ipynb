{
 "cells": [
  {
   "cell_type": "code",
   "execution_count": null,
   "metadata": {
    "collapsed": false
   },
   "outputs": [],
   "source": [
    "%pylab inline\n",
    "\n",
    "\n",
    "import matplotlib.pyplot as plt\n",
    "import numpy as np\n",
    "\n",
    "import cartopy.crs as ccrs\n",
    "import cartopy.feature as cfeature\n",
    "import cartopy.io.img_tiles as cimgt\n",
    "\n",
    "from osgeo import gdal\n",
    "from osgeo import gdal_array\n",
    "\n",
    "# from matplotlib.transforms import offset_copy\n",
    "\n",
    "from cartopy.mpl.gridliner import LONGITUDE_FORMATTER, LATITUDE_FORMATTER\n",
    "import matplotlib.ticker as mticker\n"
   ]
  },
  {
   "cell_type": "code",
   "execution_count": null,
   "metadata": {
    "collapsed": false
   },
   "outputs": [],
   "source": [
    "etopo1       = gdal.Open(\"Resources/color_etopo1_ice_low.tif\")\n",
    "etopo_img   = etopo1.ReadAsArray()\n",
    "img_heights = etopo_img.reshape(-1)\n",
    "base_projection = ccrs.PlateCarree()\n",
    "global_extent = [ -180, 180, -90, 90 ]\n",
    " \n",
    "\n",
    "coastline = cfeature.NaturalEarthFeature('physical', 'coastline', '10m',\n",
    "                           edgecolor=(0.0,0.0,0.0),\n",
    "                           facecolor=\"none\")\n",
    "\n",
    "rivers = cfeature.NaturalEarthFeature('physical', 'rivers_lake_centerlines', '10m',\n",
    "                                        edgecolor='Blue', facecolor=\"none\")\n",
    "\n",
    "\n",
    "coastline50 = cfeature.NaturalEarthFeature('physical', 'coastline', '50m',\n",
    "                           edgecolor=(1.0,1.0,1.0),\n",
    "                           facecolor=\"none\")\n",
    "\n",
    "rivers50 = cfeature.NaturalEarthFeature('physical', 'rivers_lake_centerlines', '50m',\n",
    "                                        edgecolor='Blue', facecolor=\"none\")\n",
    "\n",
    "\n",
    "lakes = cfeature.NaturalEarthFeature('physical', 'lakes', '10m',\n",
    "                                        edgecolor=\"blue\", facecolor=\"blue\")\n",
    "\n",
    "ocean = cfeature.NaturalEarthFeature('physical', 'ocean', '10m',\n",
    "                           edgecolor=\"green\",\n",
    "                           facecolor=\"blue\")"
   ]
  },
  {
   "cell_type": "code",
   "execution_count": null,
   "metadata": {
    "collapsed": false
   },
   "outputs": [],
   "source": [
    "\n",
    "\n",
    "## The full list of available interfaces is found in the source code for this one:\n",
    "## https://github.com/SciTools/cartopy/blob/master/lib/cartopy/io/img_tiles.py\n",
    "\n",
    "## Continental US terrain images\n",
    "stamen_USA_Terrain = cimgt.StamenTerrain()\n",
    "\n",
    "## Mapquest satellite images \n",
    "map_quest_aerial = cimgt.MapQuestOpenAerial()\n",
    "\n",
    "## Mapquest street map\n",
    "map_quest_street = cimgt.MapQuestOSM()\n",
    "\n",
    "## Open Street map\n",
    "open_street_map = cimgt.OSM()\n",
    "\n",
    "## Mapbox Satellite images \n",
    "\n",
    "mapbox_satellite = cimgt.MapboxTiles(map_id='mapbox.satellite', \n",
    "                                     access_token='pk.eyJ1IjoibG91aXNtb3Jlc2kiLCJhIjoiY2lqM2liajRnMDA1d3Zia254c3d0aWNzOCJ9.FO_VUuxm9tHhzlffiKwcig')\n",
    "\n",
    "\n",
    "## Google maps image tiles ()\n",
    "google_maps = cimgt.GoogleTiles() \n",
    "\n",
    "\n"
   ]
  },
  {
   "cell_type": "code",
   "execution_count": null,
   "metadata": {
    "collapsed": false
   },
   "outputs": [],
   "source": [
    "# Specify a region of interest\n",
    "\n",
    "lat0 =  32  ; lat1 = 37\n",
    "lon0 =  -121; lon1 = -116\n",
    "\n",
    "map_extent = [lon0, lon1, lat0, lat1]\n",
    "\n",
    "map_tiles = stamen_USA_Terrain\n",
    "\n",
    "fig = plt.figure(figsize=(12, 12), facecolor=\"none\")\n",
    "# ax = plt.axes(projection=ccrs.PlateCarree(), extent=himalaya_extent)\n",
    "\n",
    "# Create a GeoAxes in the tile's projection.\n",
    "ax = plt.axes(projection=map_tiles.crs)\n",
    "\n",
    "# Set the size of the map\n",
    "ax.set_extent(map_extent)\n",
    "# Add the on-demand image - the second argument is the resolution and needs to be balanced with the \n",
    "# size of the area the map covers. \n",
    "\n",
    "ax.add_image(map_tiles, 8, alpha=1.0, zorder=0)\n",
    "ax.add_feature(coastline, linewidth=1.5,  edgecolor=\"Black\", zorder=1, alpha=0.5)\n",
    "ax.add_feature(rivers,    linewidth=1.0,  edgecolor=\"Blue\",  zorder=2, alpha=0.5)\n"
   ]
  },
  {
   "cell_type": "code",
   "execution_count": null,
   "metadata": {
    "collapsed": false
   },
   "outputs": [],
   "source": [
    "# Specify a region of interest\n",
    "\n",
    "lat0 =  -45  ; lat1 = 0\n",
    "lon0 =  100  ; lon1 = 160\n",
    "\n",
    "map_extent = [lon0, lon1, lat0, lat1]\n",
    "\n",
    "map_tiles = mapbox_satellite\n",
    "\n",
    "fig = plt.figure(figsize=(12, 12), facecolor=\"none\")\n",
    "\n",
    "ax = plt.axes(projection=map_tiles.crs)\n",
    "\n",
    "# Set the size of the map\n",
    "ax.set_extent(map_extent)\n",
    "\n",
    "# Add the on-demand image - the second argument is the resolution and needs to be balanced with the \n",
    "# size of the area the map covers. \n",
    "\n",
    "ax.add_image(map_tiles, 5, alpha=1.0, zorder=2)\n",
    "\n",
    "ax.add_feature(coastline50, linewidth=1.5,  edgecolor=\"Black\", zorder=1)\n",
    "ax.add_feature(rivers50,    linewidth=1.0,  edgecolor=\"Blue\",  zorder=2)\n"
   ]
  },
  {
   "cell_type": "code",
   "execution_count": null,
   "metadata": {
    "collapsed": false
   },
   "outputs": [],
   "source": [
    "lat0 =   48  ; lat1 = 60\n",
    "lon0 =  -15  ; lon1 = 5\n",
    "\n",
    "map_extent = [lon0, lon1, lat0, lat1]\n",
    "\n",
    "\n",
    "fig  = plt.figure(figsize=(12, 12), facecolor=\"none\")\n",
    "ax1  = plt.subplot(121, projection=map_quest_aerial.crs)\n",
    "ax2  = plt.subplot(122, projection=map_quest_street.crs)\n",
    "\n",
    "ax1.set_extent(map_extent)\n",
    "ax2.set_extent(map_extent)\n",
    "\n",
    "ax1.add_image(map_quest_aerial, 6, alpha=1.0, zorder=2)\n",
    "ax2.add_image(map_quest_street, 6, alpha=1.0, zorder=2)\n"
   ]
  },
  {
   "cell_type": "code",
   "execution_count": null,
   "metadata": {
    "collapsed": false
   },
   "outputs": [],
   "source": [
    "\n",
    "# To test what the influence of the resolution parameter is on the map that is returned ... \n",
    "\n",
    "lat0 =   51  ; lat1 = 52\n",
    "lon0 =  -1  ; lon1 = 1\n",
    "\n",
    "map_extent = [lon0, lon1, lat0, lat1]\n",
    "\n",
    "\n",
    "fig  = plt.figure(figsize=(12, 12), facecolor=\"none\")\n",
    "ax1  = plt.subplot(221, projection=map_quest_aerial.crs)\n",
    "ax2  = plt.subplot(222, projection=map_quest_street.crs)\n",
    "ax3  = plt.subplot(223, projection=map_quest_aerial.crs)\n",
    "ax4  = plt.subplot(224, projection=map_quest_street.crs)\n",
    "\n",
    "ax1.set_extent(map_extent)\n",
    "ax2.set_extent(map_extent)\n",
    "ax3.set_extent(map_extent)\n",
    "ax4.set_extent(map_extent)\n",
    "\n",
    "ax1.add_image(map_quest_aerial, 8, alpha=1.0, zorder=2)\n",
    "ax2.add_image(map_quest_street, 8, alpha=1.0, zorder=2)\n",
    "\n",
    "ax3.add_image(map_quest_aerial, 10, alpha=1.0, zorder=2)\n",
    "ax4.add_image(map_quest_street, 10, alpha=1.0, zorder=2)"
   ]
  },
  {
   "cell_type": "code",
   "execution_count": null,
   "metadata": {
    "collapsed": true
   },
   "outputs": [],
   "source": [
    "fig.savefig(\"ResolutionTest.png\", dpi=600)"
   ]
  },
  {
   "cell_type": "markdown",
   "metadata": {},
   "source": [
    "See how well that worked by opening the [full-size image](ResolutionTest.png). \n",
    "\n",
    "There really is a lot of detail available, but you can also see how long it takes to download and build the different resolutions. There is something of an art to finding the right balance. \n",
    "\n",
    "You may also find that very high resolution output results in memory errors. If so, restart the kernel and try again with a small image or lower dpi."
   ]
  },
  {
   "cell_type": "code",
   "execution_count": null,
   "metadata": {
    "collapsed": false
   },
   "outputs": [],
   "source": [
    "## For fun, this is the street where I grew up ... \n",
    "\n",
    "lat0 =   51.585 ; lat1 = 51.595\n",
    "lon0 =   0.018   ; lon1 = 0.033\n",
    "\n",
    "map_extent = [lon0, lon1, lat0, lat1]\n",
    "\n",
    "\n",
    "fig  = plt.figure(figsize=(12, 6), facecolor=\"none\")\n",
    "ax1  = plt.subplot(121, projection=map_quest_aerial.crs)\n",
    "ax2  = plt.subplot(122, projection=map_quest_street.crs)\n",
    "\n",
    "ax1.set_extent(map_extent)\n",
    "ax2.set_extent(map_extent)\n",
    "\n",
    "ax1.add_image(mapbox_satellite, 18, alpha=1.0, zorder=2)\n",
    "ax2.add_image(map_quest_street, 18, alpha=1.0, zorder=2)\n"
   ]
  },
  {
   "cell_type": "code",
   "execution_count": null,
   "metadata": {
    "collapsed": true
   },
   "outputs": [],
   "source": [
    "## the detail is not visible until you dump a high resolution version of the image\n",
    "\n",
    "fig.savefig(\"LondonE18.png\", dpi=600)"
   ]
  },
  {
   "cell_type": "code",
   "execution_count": null,
   "metadata": {
    "collapsed": true
   },
   "outputs": [],
   "source": []
  }
 ],
 "metadata": {
  "kernelspec": {
   "display_name": "Python 2",
   "language": "python",
   "name": "python2"
  },
  "language_info": {
   "codemirror_mode": {
    "name": "ipython",
    "version": 2
   },
   "file_extension": ".py",
   "mimetype": "text/x-python",
   "name": "python",
   "nbconvert_exporter": "python",
   "pygments_lexer": "ipython2",
   "version": "2.7.9"
  }
 },
 "nbformat": 4,
 "nbformat_minor": 0
}
