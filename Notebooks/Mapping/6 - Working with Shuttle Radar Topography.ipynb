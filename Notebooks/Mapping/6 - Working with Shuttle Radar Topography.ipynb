{
 "cells": [
  {
   "cell_type": "markdown",
   "metadata": {},
   "source": [
    "## Cartopy and the Shuttle Radar Topography Map data\n",
    "\n",
    "The SRTM project provides a global land elevation model at a resolution of (roughly) 30m. That's a useful thing to be able to access - either as raw data or simply for plotting into maps. Here are some examples of methods to access, process and display this data using the cartopy interfaces.\n",
    "\n",
    "For more information on the project: http://www2.jpl.nasa.gov/srtm/\n",
    "\n",
    "\n"
   ]
  },
  {
   "cell_type": "code",
   "execution_count": null,
   "metadata": {
    "collapsed": false
   },
   "outputs": [],
   "source": [
    "%pylab inline\n",
    "\n",
    "import cartopy.crs as ccrs\n",
    "from cartopy.io import srtm\n",
    "import matplotlib.pyplot as plt\n",
    "\n",
    "from cartopy.io import PostprocessedRasterSource, RasterSourceContainer, LocatedImage\n",
    "from cartopy.io.srtm import SRTM3Source\n",
    "\n",
    "from osgeo import gdal\n",
    "from osgeo import gdal_array\n",
    "\n",
    "import cartopy.feature as cfeature\n"
   ]
  },
  {
   "cell_type": "code",
   "execution_count": null,
   "metadata": {
    "collapsed": false
   },
   "outputs": [],
   "source": [
    "# Region of interest\n",
    "\n",
    "map_extent = [ -120, -117, 33, 36]\n",
    "\n",
    "lon0 = map_extent[0]\n",
    "lat0 = map_extent[2]\n",
    "\n",
    "# High res coastline\n",
    "\n",
    "coastline = cfeature.NaturalEarthFeature('physical', 'coastline', '10m',\n",
    "                           edgecolor=(1.0,0.8,0.0),\n",
    "                           facecolor=\"none\")\n",
    "\n",
    "\n",
    "ocean = cfeature.NaturalEarthFeature('physical', 'ocean', '50m',\n",
    "                           edgecolor=\"green\",\n",
    "                           facecolor=\"blue\")"
   ]
  },
  {
   "cell_type": "code",
   "execution_count": null,
   "metadata": {
    "collapsed": false,
    "scrolled": true
   },
   "outputs": [],
   "source": [
    "# SRTM - how to grab the data and plot it as an image (in the usual way)\n",
    "\n",
    "# There may be some \"download\" warnings but this is simply a result of the way that the SRTM \n",
    "# module caches data the first time that it needs a tile. Replotting will be a lot quicker.\n",
    " \n",
    "\n",
    "\n",
    "plt.figure(figsize=(15, 10))\n",
    "ax = plt.subplot(111, projection=ccrs.PlateCarree())\n",
    "ax.add_feature(coastline, edgecolor=\"black\", linewidth=1, zorder=3)\n",
    "\n",
    "elev, crs, extent = SRTM3Source().combined(lon0, lat0, 3, 3)\n",
    "\n",
    "# Take out low points \n",
    "elev = np.ma.masked_less_equal(elev, -100, copy=False)\n",
    "\n",
    "plt.imshow(elev, extent=extent, transform=crs,\n",
    "           cmap='terrain', origin='lower', vmin=-100.0, vmax=3000)\n",
    "\n",
    "cb = plt.colorbar(orientation='vertical')\n",
    "cb.set_label('Altitude')\n",
    "plt.title(\"SRTM Map\")\n",
    "gl = ax.gridlines(draw_labels=True)\n",
    "gl.xlabels_top = False\n",
    "gl.ylabels_left = False\n",
    "\n",
    "\n"
   ]
  },
  {
   "cell_type": "code",
   "execution_count": null,
   "metadata": {
    "collapsed": false
   },
   "outputs": [],
   "source": [
    "# The original data have some holes which can be seen in this image. Previously we just clipped\n",
    "# them out by setting a minimum in the allowable values to plot. \n",
    "\n",
    "plt.figure(figsize=(15, 10))\n",
    "ax = plt.subplot(111, projection=ccrs.PlateCarree())\n",
    "\n",
    "elev, crs, extent = SRTM3Source().combined(lon0, lat0, 3, 3)\n",
    "\n",
    "\n",
    "# elev = np.ma.masked_less_equal(elev, -100, copy=False)\n",
    "\n",
    "plt.imshow(elev, extent=extent, transform=crs,\n",
    "           cmap='terrain', origin='lower', vmin=-32000.0, vmax=-12000)\n",
    "\n",
    "ax.add_feature(coastline, edgecolor=\"black\", linewidth=1, zorder=3)\n",
    "\n",
    "\n",
    "cb = plt.colorbar(orientation='vertical')\n",
    "cb.set_label('Altitude')\n",
    "plt.title(\"SRTM Map\")\n",
    "gl = ax.gridlines(draw_labels=True)\n",
    "gl.xlabels_top = False\n",
    "gl.ylabels_left = False"
   ]
  },
  {
   "cell_type": "code",
   "execution_count": null,
   "metadata": {
    "collapsed": false
   },
   "outputs": [],
   "source": [
    "# Patching holes in the data by a smoothing / interpolation routine from gdal\n",
    "\n",
    "elev, crs, extent = SRTM3Source().combined(lon0, lat0, 3, 3)\n",
    "\n",
    "old_elev = elev.copy()\n",
    "\n",
    "src_ds = gdal_array.OpenArray(elev)\n",
    "\n",
    "srcband = src_ds.GetRasterBand(1)\n",
    "dstband = srcband\n",
    "maskband = srcband \n",
    "\n",
    "smoothing_iterations = 0   # iterations applied after patching\n",
    "options = []\n",
    "max_distance = 15           # distance in pixels used to find data to patch\n",
    "result = gdal.FillNodata(dstband, maskband,\n",
    "                         max_distance, smoothing_iterations, options,\n",
    "                         callback=None)\n",
    "\n",
    "elev = dstband.ReadAsArray()\n",
    "\n",
    "# It's probably worth looking at these figures to see what is going on \n",
    "\n",
    "print \"Number of points previously out of range \", np.count_nonzero( old_elev < -12000)\n",
    "print \"Number of points currently out of range \", np.count_nonzero( elev < -12000)\n",
    "print \"Number of points changed: \", np.count_nonzero(elev-old_elev)\n",
    "print \"Range of changed points: \",  elev[elev != old_elev].min(), \" \", elev[elev != old_elev].max()\n"
   ]
  },
  {
   "cell_type": "code",
   "execution_count": null,
   "metadata": {
    "collapsed": false
   },
   "outputs": [],
   "source": [
    "# And plotting\n",
    "\n",
    "plt.figure(figsize=(10, 10))\n",
    "ax = plt.subplot(111, projection=ccrs.PlateCarree())\n",
    "\n",
    "plt.imshow(elev, extent=extent, transform=crs, cmap='terrain', origin='lower', vmin=-32000.0, vmax=-100.0)\n",
    "ax.add_feature(coastline, edgecolor=\"black\", linewidth=1, zorder=3)\n",
    "\n",
    "cb = plt.colorbar(orientation='vertical')\n",
    "cb.set_label('Altitude')\n",
    "plt.title(\"SRTM Map\")\n",
    "gl = ax.gridlines(draw_labels=True,)\n",
    "gl.xlabels_top = False\n",
    "gl.ylabels_left = False"
   ]
  },
  {
   "cell_type": "code",
   "execution_count": null,
   "metadata": {
    "collapsed": false
   },
   "outputs": [],
   "source": [
    "plt.figure(figsize=(15, 10))\n",
    "ax = plt.subplot(111, projection=ccrs.PlateCarree())\n",
    "\n",
    "plt.imshow(elev, extent=extent, transform=crs,\n",
    "           cmap='terrain', origin='lower', vmin=-100.0, vmax=3000)\n",
    "\n",
    "ax.add_feature(coastline, edgecolor=\"black\", linewidth=1, zorder=3)\n",
    "\n",
    "cb = plt.colorbar(orientation='vertical')\n",
    "cb.set_label('Altitude')\n",
    "plt.title(\"SRTM Map\")\n",
    "gl = ax.gridlines(draw_labels=True)\n",
    "gl.xlabels_top = False\n",
    "gl.ylabels_left = False"
   ]
  },
  {
   "cell_type": "code",
   "execution_count": null,
   "metadata": {
    "collapsed": false
   },
   "outputs": [],
   "source": [
    "# Here is a completely different way to do this !! \n",
    "\n",
    "# Rather than downloading data, we can make use of on-demand downloading\n",
    "# through interfaces provided by cartopy. This might save us managing a\n",
    "# huge amount of data but the manipulations we used routinely above now\n",
    "# have to be handled by helper functions handed into the cartopy classes.\n",
    "\n",
    "\n",
    "# The \"container\" is like a placeholder for what will need to be called \n",
    "# when the plotting routines need to grab data\n",
    "\n",
    "srtm = RasterSourceContainer(SRTM3Source())\n",
    "\n",
    "plt.figure(figsize=(15, 10))\n",
    "ax = plt.subplot(111, projection=ccrs.PlateCarree())\n",
    "ax.set_extent(map_extent)\n",
    "\n",
    "data_norm = matplotlib.colors.Normalize(vmin=-100, vmax=3000)\n",
    "ax.add_raster(srtm, cmap='terrain', norm=data_norm)\n"
   ]
  },
  {
   "cell_type": "code",
   "execution_count": null,
   "metadata": {
    "collapsed": false
   },
   "outputs": [],
   "source": [
    "from cartopy.io import srtm as csrtm\n",
    "\n",
    "\n",
    "globaletopo       = gdal.Open(\"Resources/color_etopo1_ice_low.tif\")\n",
    "globaletopo_img   = globaletopo.ReadAsArray().transpose(1,2,0)\n",
    "\n",
    "def fill_holes(located_elevations):\n",
    "    \"\"\"\n",
    "    Given an array of elevations in a LocatedImage, fill any holes in\n",
    "    the data and add a relief (shadows) to give a realistic 3d appearance.\n",
    "\n",
    "    \"\"\"\n",
    "    new_elevations = csrtm.fill_gaps(located_elevations.image, max_distance=15)\n",
    "    return LocatedImage(new_elevations, located_elevations.extent)\n",
    "\n",
    "\n",
    "srtm = PostprocessedRasterSource(SRTM3Source(), fill_holes)\n",
    "\n",
    "plt.figure(figsize=(15, 10))\n",
    "ax = plt.subplot(111, projection=ccrs.PlateCarree())\n",
    "ax.set_extent(map_extent)\n",
    "\n",
    "norm = matplotlib.colors.Normalize(vmin=-100, vmax=3000)\n",
    "ax.add_raster(srtm, cmap='terrain', norm=norm)\n",
    "ax.add_feature(coastline, edgecolor=\"black\", linewidth=1, zorder=3)\n"
   ]
  },
  {
   "cell_type": "code",
   "execution_count": null,
   "metadata": {
    "collapsed": false
   },
   "outputs": [],
   "source": [
    "# Shuttle radar shaded relief map \n",
    "\n",
    "from cartopy.io import srtm as csrtm\n",
    "\n",
    "globaletopo       = gdal.Open(\"Resources/color_etopo1_ice_low.tif\")\n",
    "globaletopo_img   = globaletopo.ReadAsArray().transpose(1,2,0)\n",
    "\n",
    "def fill_and_shade(located_elevations):\n",
    "    \"\"\"\n",
    "    Given an array of elevations in a LocatedImage, fill any holes in\n",
    "    the data and add a relief (shadows) to give a realistic 3d appearance.\n",
    "\n",
    "    \"\"\"\n",
    "    new_elevations = csrtm.fill_gaps(located_elevations.image, max_distance=15)\n",
    "    new_img = csrtm.add_shading(new_elevations, azimuth=135, altitude=33)\n",
    "    return LocatedImage(new_img, located_elevations.extent)\n",
    "\n",
    "\n",
    "# Define a raster source which uses the SRTM3 data and applies the\n",
    "# fill_and_shade function when the data is retrieved.\n",
    "\n",
    "shaded_srtm = PostprocessedRasterSource(SRTM3Source(), fill_and_shade)\n",
    "\n",
    "plt.figure(figsize=(10, 10))\n",
    "ax = plt.subplot(111, projection=ccrs.PlateCarree())\n",
    "ax.set_extent(map_extent)\n",
    "\n",
    "# Add the shaded SRTM source to our map with a grayscale colormap.\n",
    "\n",
    "ax.add_raster(shaded_srtm, cmap='Greys', zorder=1)\n",
    "\n",
    "plt.imshow(globaletopo_img, zorder=2, transform=ccrs.PlateCarree(), \n",
    "           extent = [-180.0, 180.0, -90.0, 90.0], interpolation='bicubic', alpha=0.333)\n",
    "\n",
    "ax.add_feature(coastline, edgecolor=\"black\", linewidth=1, zorder=3)\n",
    "ax.add_feature(ocean,  zorder=4, alpha = 0.5)\n",
    "\n",
    "\n",
    "\n",
    "# This data is high resolution, so pick a small area which has some\n",
    "# interesting orography.\n",
    "\n",
    "\n",
    "plt.title(\"SRTM Shaded Relief Map\")\n",
    "\n",
    "gl = ax.gridlines(draw_labels=True)\n",
    "gl.xlabels_top = False\n",
    "gl.ylabels_left = False\n"
   ]
  }
 ],
 "metadata": {
  "kernelspec": {
   "display_name": "Python 2",
   "language": "python",
   "name": "python2"
  },
  "language_info": {
   "codemirror_mode": {
    "name": "ipython",
    "version": 2
   },
   "file_extension": ".py",
   "mimetype": "text/x-python",
   "name": "python",
   "nbconvert_exporter": "python",
   "pygments_lexer": "ipython2",
   "version": "2.7.9"
  }
 },
 "nbformat": 4,
 "nbformat_minor": 0
}
