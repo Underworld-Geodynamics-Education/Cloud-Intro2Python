{
 "cells": [
  {
   "cell_type": "markdown",
   "metadata": {
    "deletable": true,
    "editable": true
   },
   "source": [
    "## Australian magnetic intensity\n",
    "\n",
    "Here I am going to show you how to make a map of magnetic intensity using 2 different datasets and various masks. The data for the Australian continent came from tiles from the AuScope data portal which I downloaded one day and stitched together with an open-source geotiff tool.\n",
    "\n",
    "We'll use that dataset in conjunction with the global magnetic dataset I already gave you.\n",
    "\n"
   ]
  },
  {
   "cell_type": "code",
   "execution_count": 1,
   "metadata": {
    "collapsed": false,
    "deletable": true,
    "editable": true
   },
   "outputs": [
    {
     "name": "stdout",
     "output_type": "stream",
     "text": [
      "Populating the interactive namespace from numpy and matplotlib\n"
     ]
    }
   ],
   "source": [
    "%pylab inline\n",
    "import gdal\n",
    "import cartopy\n",
    "import cartopy.crs as ccrs\n",
    "import matplotlib.pyplot as plt"
   ]
  },
  {
   "cell_type": "code",
   "execution_count": 2,
   "metadata": {
    "collapsed": false,
    "deletable": true,
    "editable": true
   },
   "outputs": [
    {
     "ename": "AttributeError",
     "evalue": "'NoneType' object has no attribute 'ReadAsArray'",
     "output_type": "error",
     "traceback": [
      "\u001b[0;31m---------------------------------------------------------------------------\u001b[0m",
      "\u001b[0;31mAttributeError\u001b[0m                            Traceback (most recent call last)",
      "\u001b[0;32m<ipython-input-2-cf04091bf6e4>\u001b[0m in \u001b[0;36m<module>\u001b[0;34m()\u001b[0m\n\u001b[1;32m      1\u001b[0m \u001b[0mbase_projection\u001b[0m   \u001b[0;34m=\u001b[0m \u001b[0mccrs\u001b[0m\u001b[0;34m.\u001b[0m\u001b[0mPlateCarree\u001b[0m\u001b[0;34m(\u001b[0m\u001b[0;34m)\u001b[0m\u001b[0;34m\u001b[0m\u001b[0m\n\u001b[1;32m      2\u001b[0m \u001b[0mglobalmag\u001b[0m         \u001b[0;34m=\u001b[0m \u001b[0mgdal\u001b[0m\u001b[0;34m.\u001b[0m\u001b[0mOpen\u001b[0m\u001b[0;34m(\u001b[0m\u001b[0;34m\"../../Data/Resources/EMAG2_image_V2.tif\"\u001b[0m\u001b[0;34m)\u001b[0m\u001b[0;34m\u001b[0m\u001b[0m\n\u001b[0;32m----> 3\u001b[0;31m \u001b[0mglobalmag_img\u001b[0m     \u001b[0;34m=\u001b[0m \u001b[0mglobalmag\u001b[0m\u001b[0;34m.\u001b[0m\u001b[0mReadAsArray\u001b[0m\u001b[0;34m(\u001b[0m\u001b[0;34m)\u001b[0m\u001b[0;34m.\u001b[0m\u001b[0mtranspose\u001b[0m\u001b[0;34m(\u001b[0m\u001b[0;36m1\u001b[0m\u001b[0;34m,\u001b[0m\u001b[0;36m2\u001b[0m\u001b[0;34m,\u001b[0m\u001b[0;36m0\u001b[0m\u001b[0;34m)\u001b[0m\u001b[0;34m\u001b[0m\u001b[0m\n\u001b[0m\u001b[1;32m      4\u001b[0m \u001b[0;32mdel\u001b[0m\u001b[0;34m(\u001b[0m\u001b[0mglobalmag\u001b[0m\u001b[0;34m)\u001b[0m\u001b[0;34m\u001b[0m\u001b[0m\n",
      "\u001b[0;31mAttributeError\u001b[0m: 'NoneType' object has no attribute 'ReadAsArray'"
     ]
    }
   ],
   "source": [
    "base_projection   = ccrs.PlateCarree() \n",
    "globalmag         = gdal.Open(\"../../Data/Resources/EMAG2_image_V2.tif\")\n",
    "globalmag_img     = globalmag.ReadAsArray().transpose(1,2,0)\n",
    "del(globalmag)"
   ]
  },
  {
   "cell_type": "code",
   "execution_count": null,
   "metadata": {
    "collapsed": false,
    "deletable": true,
    "editable": true
   },
   "outputs": [],
   "source": [
    "# High resolution total magnetic intensity image map for Australia's land mass (with background masked)\n",
    "\n",
    "austmag      = gdal.Open(\"../../Data/Resources/AusMagAll.tiff\")\n",
    "austmag_img  = austmag.ReadAsArray().transpose(1,2,0)    \n",
    "\n",
    "## Note that we can use the metadata to find the span of the data in the image\n",
    "\n",
    "trans =  austmag.GetGeoTransform()\n",
    "austmag_extent = [trans[0], trans[0] + austmag.RasterXSize*trans[1],\n",
    "                  trans[3] + austmag.RasterYSize*trans[5], trans[3]]\n",
    "\n",
    "print austmag_extent\n",
    "print austmag_img.shape\n",
    "print austmag_img.T.shape\n",
    "\n",
    "# Mask out (alpha=0.0) areas with no information (blank = white)\n",
    "\n",
    "red, green, blue, alpha = austmag_img.T  # Temporarily unpack the bands for readability\n",
    "blank_areas = (red == 255) & (blue == 255) & (green == 255)\n",
    "austmag_img[...,3][blank_areas.T] = 0\n",
    "\n",
    "del(austmag)"
   ]
  },
  {
   "cell_type": "code",
   "execution_count": null,
   "metadata": {
    "collapsed": false,
    "deletable": true,
    "editable": true
   },
   "outputs": [],
   "source": [
    "# And here it is ... \n",
    "\n",
    "fig = plt.figure(figsize=(8, 10), facecolor=\"none\")\n",
    "ax  = plt.axes(projection=ccrs.PlateCarree())\n",
    "ax.set_extent(austmag_extent)\n",
    "plt.imshow(austmag_img, zorder=0, transform=ccrs.PlateCarree(), extent=austmag_extent)\n",
    "ax.coastlines(color=\"Black\", zorder=1)  \n",
    "plt.show()\n",
    "\n",
    "\n",
    "# This one is a bit flat, but we can boost the contrast \n",
    "# (either channel by channel or all with the same N)\n",
    "\n",
    "N = 3.0\n",
    "austmag_img[...,0] = 255 * (austmag_img[...,0] / 255.0)**N\n",
    "austmag_img[...,1] = 255 * (austmag_img[...,1] / 255.0)**N \n",
    "austmag_img[...,2] = 255 * (austmag_img[...,2] / 255.0)**N \n",
    "\n",
    "\n",
    "fig = plt.figure(figsize=(8, 10), facecolor=\"none\")\n",
    "ax  = plt.axes(projection=ccrs.PlateCarree())\n",
    "ax.set_extent(austmag_extent)\n",
    "plt.imshow(austmag_img, zorder=0, transform=ccrs.PlateCarree(), extent=austmag_extent)\n",
    "ax.coastlines(color=\"Black\", zorder=1)  \n",
    "plt.show()\n",
    "\n",
    "# Try changing N !"
   ]
  },
  {
   "cell_type": "markdown",
   "metadata": {
    "deletable": true,
    "editable": true
   },
   "source": [
    "## Features\n",
    "\n",
    "We already used the ``coastlines`` command, but this is actually a special case of how we add *features* to our maps. Features can be things like rivers or roads, towns, political boundaries. There is a web service called [Natural Earth](http://www.naturalearthdata.com/features/) where you can download this information. Cartopy provides functions to grab this information without having to construct the URL by hand. The only problem is that you still need to know what stuff you can grab. Here are some examples though, and you can see how to choose a resolution for the information which is useful for zoomed in or zoomed out maps."
   ]
  },
  {
   "cell_type": "code",
   "execution_count": null,
   "metadata": {
    "collapsed": false,
    "deletable": true,
    "editable": true
   },
   "outputs": [],
   "source": [
    "# \"Features\" such as land, ocean, coastlines (50m =  the 1:50 million scale)\n",
    "\n",
    "import cartopy.feature as cfeature\n",
    "\n",
    "land = cfeature.NaturalEarthFeature('physical', 'land', '50m',\n",
    "                           edgecolor=\"green\",\n",
    "                           facecolor=\"white\")\n",
    "\n",
    "ocean = cfeature.NaturalEarthFeature('physical', 'ocean', '50m',\n",
    "                           edgecolor=\"green\",\n",
    "                           facecolor=\"blue\")\n",
    "\n",
    "coastline = cfeature.NaturalEarthFeature('physical', 'coastline', '50m',\n",
    "                           edgecolor=(1.0,0.8,0.0),\n",
    "                           facecolor=\"none\")\n",
    "\n",
    "# Add these to the plot object as\n",
    "# ax.add_feature(coastline, linewidth=4, edgecolor=(1,0,1), zorder=1)\n",
    "# and so forth. zorder is used to force the layering as required."
   ]
  },
  {
   "cell_type": "code",
   "execution_count": null,
   "metadata": {
    "collapsed": false,
    "deletable": true,
    "editable": true
   },
   "outputs": [],
   "source": [
    "\n",
    "fig = plt.figure(figsize=(12, 12), facecolor=\"none\")\n",
    "ax  = plt.axes(projection=ccrs.PlateCarree())\n",
    "ax.set_extent(austmag_extent)\n",
    "plt.imshow(austmag_img, zorder=0, transform=ccrs.PlateCarree(), extent=austmag_extent)\n",
    "ax.add_feature(coastline, linewidth=1, edgecolor=\"Black\", zorder=1)\n",
    "plt.show()"
   ]
  },
  {
   "cell_type": "markdown",
   "metadata": {
    "deletable": true,
    "editable": true
   },
   "source": [
    "Now let us add the global (lower resolution) dataset in the background, mask things up and add coastlines"
   ]
  },
  {
   "cell_type": "code",
   "execution_count": null,
   "metadata": {
    "collapsed": false,
    "deletable": true,
    "editable": true,
    "scrolled": true
   },
   "outputs": [],
   "source": [
    "projection = ccrs.PlateCarree()\n",
    "base_projection = ccrs.PlateCarree()\n",
    "global_extent     = [-180.0, 180.0, -90.0, 90.0]\n",
    "\n",
    "fig = plt.figure(figsize=(12, 12), facecolor=\"none\")\n",
    "ax = plt.axes(projection=projection)\n",
    "ax.set_extent([90, 180, -50, 5])\n",
    "\n",
    "ax.imshow(globalmag_img, origin='upper', transform=base_projection, extent=global_extent, zorder=0)\n",
    "# ax.add_feature(land, facecolor=\"red\", edgecolor=\"red\", alpha=0.1, linewidth=0.5, zorder=1)\n",
    "ax.add_feature(ocean, facecolor=(0.4,0.4,0.6), edgecolor=(0.0,0.0,0.0), linewidth=1, alpha=0.6, zorder=3)\n",
    "ax.imshow(austmag_img, origin='upper', transform=base_projection, extent=austmag_extent, zorder=2)\n",
    "ax.add_feature(coastline, edgecolor=\"black\", linewidth=1, zorder=3)\n",
    "\n",
    "plt.show()\n"
   ]
  },
  {
   "cell_type": "code",
   "execution_count": 5,
   "metadata": {
    "collapsed": false,
    "deletable": true,
    "editable": true
   },
   "outputs": [
    {
     "name": "stdout",
     "output_type": "stream",
     "text": [
      "AusMagAll.tiff.zip                    velocity_AU.nc\r\n",
      "Earthquake_data.zip                   velocity_EU.nc\r\n",
      "OrthographicProjectionBlueMarble.png  velocity_IN.nc\r\n",
      "README.md                             velocity_NA.nc\r\n",
      "global_age_data.3.6.xyz.zip           velocity_NNR.nc\r\n",
      "global_age_data.3.6.z.npz             velocity_OK.nc\r\n",
      "\u001b[31mnb_stripper.py\u001b[m\u001b[m*                       velocity_PA.nc\r\n",
      "sec_invariant_strain_0.2.dat.zip      velocity_TA.nc\r\n"
     ]
    }
   ],
   "source": [
    "ls ../../Data/Reference/"
   ]
  },
  {
   "cell_type": "code",
   "execution_count": null,
   "metadata": {
    "collapsed": true
   },
   "outputs": [],
   "source": []
  }
 ],
 "metadata": {
  "kernelspec": {
   "display_name": "Python 2",
   "language": "python",
   "name": "python2"
  },
  "language_info": {
   "codemirror_mode": {
    "name": "ipython",
    "version": 2
   },
   "file_extension": ".py",
   "mimetype": "text/x-python",
   "name": "python",
   "nbconvert_exporter": "python",
   "pygments_lexer": "ipython2",
   "version": "2.7.13"
  }
 },
 "nbformat": 4,
 "nbformat_minor": 0
}
