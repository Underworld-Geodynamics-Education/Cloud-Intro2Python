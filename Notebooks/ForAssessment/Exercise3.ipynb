{
 "cells": [
  {
   "cell_type": "markdown",
   "metadata": {},
   "source": [
    "## Exercise 3\n",
    "\n",
    "In the [groundwater flow notebook](/notebooks/Notebooks/SolveMathProblems/1%20-%20GroundwaterFlow-LectureNotes.ipynb) we considered the  differential equation controlling groundwater flow which relates the rate of change in $h$, the hydraulic head (a measure of pressure) to spatial gradients in the same quantity. \n",
    "\n",
    "$$ S \\frac{\\partial h}{\\partial t} + H = K(x)  \\frac{\\partial^2 h}{\\partial x^2} +\n",
    "       \\frac{\\partial h}{\\partial x}\\frac{\\partial K(x)}{\\partial x}    $$\n",
    "       \n",
    "       \n",
    "We ignored $H$ and solved a number of examples. \n",
    "\n",
    "You probably noticed that we used an unstable method for calculating the time progression of the pressure, $h$. Given all the trouble we went to exploring better ways to do this, don't you think it would be a good idea to try out the Runge-Kutta 2nd order update ?\n",
    "\n",
    "I do, and so I am setting it for this exercise !"
   ]
  },
  {
   "cell_type": "markdown",
   "metadata": {
    "collapsed": true
   },
   "source": [
    "## Hints\n",
    "\n",
    "You have most of the code you need. The `gradx` function will still be useful ... in fact you really only have to replace the `## timestepping loop`.\n",
    "\n",
    "At the moment it looks like this:\n",
    "\n",
    "\\begin{equation}\n",
    "    h(t+\\Delta t) \\approx h(t) + \\Delta t \\left( \\frac{\\Delta \\left( \\frac{\\kappa \\Delta h}{\\Delta x} \\right)}{ \\Delta x} \\right)\n",
    "\\end{equation}\n",
    "\n",
    "and you need to code up this:\n",
    "\n",
    "\\begin{equation}\n",
    "    h^*(t+\\Delta t /2 ) \\approx h(t) + \\frac{\\Delta t}{2} \\left( \\frac{\\Delta \\left( \\frac{\\kappa \\Delta h}{\\Delta x} \\right)}{ \\Delta x} \\right)\n",
    "\\end{equation}\n",
    "\n",
    "and \n",
    "\n",
    "\\begin{equation}\n",
    "    h(t+\\Delta t) \\approx h(t) + \\Delta t \\left( \\frac{\\Delta \\left( \\frac{\\kappa \\Delta h^*}{\\Delta x} \\right)}{ \\Delta x} \\right)\n",
    "\\end{equation}\n"
   ]
  },
  {
   "cell_type": "code",
   "execution_count": null,
   "metadata": {
    "collapsed": true
   },
   "outputs": [],
   "source": [
    "## Your code here"
   ]
  },
  {
   "cell_type": "markdown",
   "metadata": {},
   "source": [
    "But it is not quite enough to just code this. You need to see if it works and whether it is any better than the simple (Euler) timestepping method. We haven't tried this approach before so we can't be sure it is going to work at all. I can give you a big hint, though: it shouldn't go crazy (at least it should be better than the simple case) and, if it does, you might want to check your code. "
   ]
  },
  {
   "cell_type": "code",
   "execution_count": null,
   "metadata": {
    "collapsed": true
   },
   "outputs": [],
   "source": [
    "## Your test code here"
   ]
  }
 ],
 "metadata": {
  "kernelspec": {
   "display_name": "Python 2",
   "language": "python",
   "name": "python2"
  },
  "language_info": {
   "codemirror_mode": {
    "name": "ipython",
    "version": 2
   },
   "file_extension": ".py",
   "mimetype": "text/x-python",
   "name": "python",
   "nbconvert_exporter": "python",
   "pygments_lexer": "ipython2",
   "version": "2.7.11"
  }
 },
 "nbformat": 4,
 "nbformat_minor": 0
}
